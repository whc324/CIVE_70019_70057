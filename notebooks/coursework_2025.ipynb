{
  "cells": [
    {
      "cell_type": "markdown",
      "metadata": {
        "id": "view-in-github",
        "colab_type": "text"
      },
      "source": [
        "<a href=\"https://colab.research.google.com/github/whc324/CIVE_70019_70057/blob/main/notebooks/coursework_2025.ipynb\" target=\"_parent\"><img src=\"https://colab.research.google.com/assets/colab-badge.svg\" alt=\"Open In Colab\"/></a>"
      ]
    },
    {
      "cell_type": "markdown",
      "id": "c3ea0ffc",
      "metadata": {
        "id": "c3ea0ffc"
      },
      "source": [
        "# Coursework: Hydraulic model calibration\n",
        "\n",
        "\n",
        "### CIVE 70019/70057\n",
        "Department of Civil and Environmental Engineering, Imperial College London"
      ]
    },
    {
      "cell_type": "markdown",
      "id": "5eebea76",
      "metadata": {
        "id": "5eebea76"
      },
      "source": [
        "You have been tasked with the evaluation and calibration of the hydraulic model of EXNING, a district metered area (DMA) in Anglian Water's (AW) water distribution network. To achieve this, you have been provided:\n",
        "* a recently calibrated hydraulic model of the EXNING DMA (2019),\n",
        "* loading conditions (demands, reservoir heads) and head measurements covering a period of 4 days.\n",
        "\n",
        "The objective of the coursework is to prepare a short calibration report for AW by completing the tasks below and answering the questions based on your results."
      ]
    },
    {
      "cell_type": "markdown",
      "id": "1ecf250d",
      "metadata": {
        "id": "1ecf250d"
      },
      "source": [
        "You have been provided the following information about EXNING:\n",
        "* EXNING is part of a larger system of cascading DMAs: EXNING is fed by the NEWSEV DMA and feeds into the BURWEL DMA.\n",
        "* The \"reservoir\" head and total demand of EXNING are derived from flow and pressure sensors at the DMA inlet (& outlet).\n",
        "* Node elevations have been updated in the provided model following a GPS survey of sensor locations."
      ]
    },
    {
      "cell_type": "markdown",
      "id": "e7aeb130",
      "metadata": {
        "id": "e7aeb130"
      },
      "source": [
        "First, we must clone the GitHub repository and install dependencies (only run this once)."
      ]
    },
    {
      "cell_type": "code",
      "execution_count": 1,
      "id": "XUkd0ndZ-Fy_",
      "metadata": {
        "colab": {
          "base_uri": "https://localhost:8080/"
        },
        "id": "XUkd0ndZ-Fy_",
        "outputId": "9847337b-8a21-4652-9f16-ce083555bd71"
      },
      "outputs": [
        {
          "output_type": "stream",
          "name": "stdout",
          "text": [
            "Cloning into 'CIVE_70019_70057'...\n",
            "remote: Enumerating objects: 812, done.\u001b[K\n",
            "remote: Counting objects: 100% (120/120), done.\u001b[K\n",
            "remote: Compressing objects: 100% (20/20), done.\u001b[K\n",
            "remote: Total 812 (delta 111), reused 102 (delta 100), pack-reused 692 (from 1)\u001b[K\n",
            "Receiving objects: 100% (812/812), 10.40 MiB | 5.13 MiB/s, done.\n",
            "Resolving deltas: 100% (535/535), done.\n",
            "Collecting wntr==1.2\n",
            "  Downloading wntr-1.2.0-cp311-cp311-manylinux_2_17_x86_64.manylinux2014_x86_64.whl.metadata (4.7 kB)\n",
            "Requirement already satisfied: numpy<2.0,>=1.21 in /usr/local/lib/python3.11/dist-packages (from wntr==1.2) (1.26.4)\n",
            "Requirement already satisfied: scipy in /usr/local/lib/python3.11/dist-packages (from wntr==1.2) (1.13.1)\n",
            "Requirement already satisfied: networkx in /usr/local/lib/python3.11/dist-packages (from wntr==1.2) (3.4.2)\n",
            "Requirement already satisfied: pandas in /usr/local/lib/python3.11/dist-packages (from wntr==1.2) (2.2.2)\n",
            "Requirement already satisfied: matplotlib in /usr/local/lib/python3.11/dist-packages (from wntr==1.2) (3.10.0)\n",
            "Requirement already satisfied: setuptools in /usr/local/lib/python3.11/dist-packages (from wntr==1.2) (75.1.0)\n",
            "Requirement already satisfied: contourpy>=1.0.1 in /usr/local/lib/python3.11/dist-packages (from matplotlib->wntr==1.2) (1.3.1)\n",
            "Requirement already satisfied: cycler>=0.10 in /usr/local/lib/python3.11/dist-packages (from matplotlib->wntr==1.2) (0.12.1)\n",
            "Requirement already satisfied: fonttools>=4.22.0 in /usr/local/lib/python3.11/dist-packages (from matplotlib->wntr==1.2) (4.56.0)\n",
            "Requirement already satisfied: kiwisolver>=1.3.1 in /usr/local/lib/python3.11/dist-packages (from matplotlib->wntr==1.2) (1.4.8)\n",
            "Requirement already satisfied: packaging>=20.0 in /usr/local/lib/python3.11/dist-packages (from matplotlib->wntr==1.2) (24.2)\n",
            "Requirement already satisfied: pillow>=8 in /usr/local/lib/python3.11/dist-packages (from matplotlib->wntr==1.2) (11.1.0)\n",
            "Requirement already satisfied: pyparsing>=2.3.1 in /usr/local/lib/python3.11/dist-packages (from matplotlib->wntr==1.2) (3.2.1)\n",
            "Requirement already satisfied: python-dateutil>=2.7 in /usr/local/lib/python3.11/dist-packages (from matplotlib->wntr==1.2) (2.8.2)\n",
            "Requirement already satisfied: pytz>=2020.1 in /usr/local/lib/python3.11/dist-packages (from pandas->wntr==1.2) (2025.1)\n",
            "Requirement already satisfied: tzdata>=2022.7 in /usr/local/lib/python3.11/dist-packages (from pandas->wntr==1.2) (2025.1)\n",
            "Requirement already satisfied: six>=1.5 in /usr/local/lib/python3.11/dist-packages (from python-dateutil>=2.7->matplotlib->wntr==1.2) (1.17.0)\n",
            "Downloading wntr-1.2.0-cp311-cp311-manylinux_2_17_x86_64.manylinux2014_x86_64.whl (4.2 MB)\n",
            "\u001b[2K   \u001b[90m━━━━━━━━━━━━━━━━━━━━━━━━━━━━━━━━━━━━━━━━\u001b[0m \u001b[32m4.2/4.2 MB\u001b[0m \u001b[31m15.1 MB/s\u001b[0m eta \u001b[36m0:00:00\u001b[0m\n",
            "\u001b[?25hInstalling collected packages: wntr\n",
            "Successfully installed wntr-1.2.0\n",
            "Requirement already satisfied: cvxpy in /usr/local/lib/python3.11/dist-packages (1.6.2)\n",
            "Requirement already satisfied: osqp>=0.6.2 in /usr/local/lib/python3.11/dist-packages (from cvxpy) (0.6.7.post3)\n",
            "Requirement already satisfied: clarabel>=0.5.0 in /usr/local/lib/python3.11/dist-packages (from cvxpy) (0.10.0)\n",
            "Requirement already satisfied: scs>=3.2.4.post1 in /usr/local/lib/python3.11/dist-packages (from cvxpy) (3.2.7.post2)\n",
            "Requirement already satisfied: numpy>=1.21.6 in /usr/local/lib/python3.11/dist-packages (from cvxpy) (1.26.4)\n",
            "Requirement already satisfied: scipy>=1.11.0 in /usr/local/lib/python3.11/dist-packages (from cvxpy) (1.13.1)\n",
            "Requirement already satisfied: qdldl in /usr/local/lib/python3.11/dist-packages (from osqp>=0.6.2->cvxpy) (0.1.7.post5)\n",
            "Reading package lists... Done\n",
            "Building dependency tree... Done\n",
            "Reading state information... Done\n",
            "The following additional packages will be installed:\n",
            "  libamd2 libbtf1 libcamd2 libccolamd2 libcholmod3 libcolamd2 libcxsparse3 libgraphblas-dev\n",
            "  libgraphblas6 libklu1 libldl2 libmetis5 libmongoose2 librbio2 libsliplu1 libspqr2\n",
            "  libsuitesparseconfig5 libumfpack5\n",
            "The following NEW packages will be installed:\n",
            "  libamd2 libbtf1 libcamd2 libccolamd2 libcholmod3 libcolamd2 libcxsparse3 libgraphblas-dev\n",
            "  libgraphblas6 libklu1 libldl2 libmetis5 libmongoose2 librbio2 libsliplu1 libspqr2\n",
            "  libsuitesparse-dev libsuitesparseconfig5 libumfpack5\n",
            "0 upgraded, 19 newly installed, 0 to remove and 29 not upgraded.\n",
            "Need to get 22.4 MB of archives.\n",
            "After this operation, 169 MB of additional disk space will be used.\n",
            "Get:1 http://archive.ubuntu.com/ubuntu jammy/main amd64 libsuitesparseconfig5 amd64 1:5.10.1+dfsg-4build1 [10.4 kB]\n",
            "Get:2 http://archive.ubuntu.com/ubuntu jammy/universe amd64 libamd2 amd64 1:5.10.1+dfsg-4build1 [21.6 kB]\n",
            "Get:3 http://archive.ubuntu.com/ubuntu jammy/universe amd64 libbtf1 amd64 1:5.10.1+dfsg-4build1 [12.1 kB]\n",
            "Get:4 http://archive.ubuntu.com/ubuntu jammy/universe amd64 libcamd2 amd64 1:5.10.1+dfsg-4build1 [23.3 kB]\n",
            "Get:5 http://archive.ubuntu.com/ubuntu jammy/universe amd64 libccolamd2 amd64 1:5.10.1+dfsg-4build1 [25.2 kB]\n",
            "Get:6 http://archive.ubuntu.com/ubuntu jammy/main amd64 libcolamd2 amd64 1:5.10.1+dfsg-4build1 [18.0 kB]\n",
            "Get:7 http://archive.ubuntu.com/ubuntu jammy/universe amd64 libmetis5 amd64 5.1.0.dfsg-7build2 [181 kB]\n",
            "Get:8 http://archive.ubuntu.com/ubuntu jammy/universe amd64 libcholmod3 amd64 1:5.10.1+dfsg-4build1 [346 kB]\n",
            "Get:9 http://archive.ubuntu.com/ubuntu jammy/universe amd64 libcxsparse3 amd64 1:5.10.1+dfsg-4build1 [70.8 kB]\n",
            "Get:10 http://archive.ubuntu.com/ubuntu jammy/universe amd64 libgraphblas6 amd64 6.1.4+dfsg-2 [20.1 MB]\n",
            "Get:11 http://archive.ubuntu.com/ubuntu jammy/universe amd64 libgraphblas-dev amd64 6.1.4+dfsg-2 [54.4 kB]\n",
            "Get:12 http://archive.ubuntu.com/ubuntu jammy/universe amd64 libklu1 amd64 1:5.10.1+dfsg-4build1 [77.6 kB]\n",
            "Get:13 http://archive.ubuntu.com/ubuntu jammy/universe amd64 libldl2 amd64 1:5.10.1+dfsg-4build1 [11.7 kB]\n",
            "Get:14 http://archive.ubuntu.com/ubuntu jammy/universe amd64 libmongoose2 amd64 1:5.10.1+dfsg-4build1 [33.5 kB]\n",
            "Get:15 http://archive.ubuntu.com/ubuntu jammy/universe amd64 librbio2 amd64 1:5.10.1+dfsg-4build1 [26.6 kB]\n",
            "Get:16 http://archive.ubuntu.com/ubuntu jammy/universe amd64 libsliplu1 amd64 1:5.10.1+dfsg-4build1 [37.1 kB]\n",
            "Get:17 http://archive.ubuntu.com/ubuntu jammy/universe amd64 libspqr2 amd64 1:5.10.1+dfsg-4build1 [71.6 kB]\n",
            "Get:18 http://archive.ubuntu.com/ubuntu jammy/universe amd64 libumfpack5 amd64 1:5.10.1+dfsg-4build1 [250 kB]\n",
            "Get:19 http://archive.ubuntu.com/ubuntu jammy/universe amd64 libsuitesparse-dev amd64 1:5.10.1+dfsg-4build1 [1,058 kB]\n",
            "Fetched 22.4 MB in 1s (18.1 MB/s)\n",
            "Selecting previously unselected package libsuitesparseconfig5:amd64.\n",
            "(Reading database ... 124947 files and directories currently installed.)\n",
            "Preparing to unpack .../00-libsuitesparseconfig5_1%3a5.10.1+dfsg-4build1_amd64.deb ...\n",
            "Unpacking libsuitesparseconfig5:amd64 (1:5.10.1+dfsg-4build1) ...\n",
            "Selecting previously unselected package libamd2:amd64.\n",
            "Preparing to unpack .../01-libamd2_1%3a5.10.1+dfsg-4build1_amd64.deb ...\n",
            "Unpacking libamd2:amd64 (1:5.10.1+dfsg-4build1) ...\n",
            "Selecting previously unselected package libbtf1:amd64.\n",
            "Preparing to unpack .../02-libbtf1_1%3a5.10.1+dfsg-4build1_amd64.deb ...\n",
            "Unpacking libbtf1:amd64 (1:5.10.1+dfsg-4build1) ...\n",
            "Selecting previously unselected package libcamd2:amd64.\n",
            "Preparing to unpack .../03-libcamd2_1%3a5.10.1+dfsg-4build1_amd64.deb ...\n",
            "Unpacking libcamd2:amd64 (1:5.10.1+dfsg-4build1) ...\n",
            "Selecting previously unselected package libccolamd2:amd64.\n",
            "Preparing to unpack .../04-libccolamd2_1%3a5.10.1+dfsg-4build1_amd64.deb ...\n",
            "Unpacking libccolamd2:amd64 (1:5.10.1+dfsg-4build1) ...\n",
            "Selecting previously unselected package libcolamd2:amd64.\n",
            "Preparing to unpack .../05-libcolamd2_1%3a5.10.1+dfsg-4build1_amd64.deb ...\n",
            "Unpacking libcolamd2:amd64 (1:5.10.1+dfsg-4build1) ...\n",
            "Selecting previously unselected package libmetis5:amd64.\n",
            "Preparing to unpack .../06-libmetis5_5.1.0.dfsg-7build2_amd64.deb ...\n",
            "Unpacking libmetis5:amd64 (5.1.0.dfsg-7build2) ...\n",
            "Selecting previously unselected package libcholmod3:amd64.\n",
            "Preparing to unpack .../07-libcholmod3_1%3a5.10.1+dfsg-4build1_amd64.deb ...\n",
            "Unpacking libcholmod3:amd64 (1:5.10.1+dfsg-4build1) ...\n",
            "Selecting previously unselected package libcxsparse3:amd64.\n",
            "Preparing to unpack .../08-libcxsparse3_1%3a5.10.1+dfsg-4build1_amd64.deb ...\n",
            "Unpacking libcxsparse3:amd64 (1:5.10.1+dfsg-4build1) ...\n",
            "Selecting previously unselected package libgraphblas6:amd64.\n",
            "Preparing to unpack .../09-libgraphblas6_6.1.4+dfsg-2_amd64.deb ...\n",
            "Unpacking libgraphblas6:amd64 (6.1.4+dfsg-2) ...\n",
            "Selecting previously unselected package libgraphblas-dev:amd64.\n",
            "Preparing to unpack .../10-libgraphblas-dev_6.1.4+dfsg-2_amd64.deb ...\n",
            "Unpacking libgraphblas-dev:amd64 (6.1.4+dfsg-2) ...\n",
            "Selecting previously unselected package libklu1:amd64.\n",
            "Preparing to unpack .../11-libklu1_1%3a5.10.1+dfsg-4build1_amd64.deb ...\n",
            "Unpacking libklu1:amd64 (1:5.10.1+dfsg-4build1) ...\n",
            "Selecting previously unselected package libldl2:amd64.\n",
            "Preparing to unpack .../12-libldl2_1%3a5.10.1+dfsg-4build1_amd64.deb ...\n",
            "Unpacking libldl2:amd64 (1:5.10.1+dfsg-4build1) ...\n",
            "Selecting previously unselected package libmongoose2:amd64.\n",
            "Preparing to unpack .../13-libmongoose2_1%3a5.10.1+dfsg-4build1_amd64.deb ...\n",
            "Unpacking libmongoose2:amd64 (1:5.10.1+dfsg-4build1) ...\n",
            "Selecting previously unselected package librbio2:amd64.\n",
            "Preparing to unpack .../14-librbio2_1%3a5.10.1+dfsg-4build1_amd64.deb ...\n",
            "Unpacking librbio2:amd64 (1:5.10.1+dfsg-4build1) ...\n",
            "Selecting previously unselected package libsliplu1:amd64.\n",
            "Preparing to unpack .../15-libsliplu1_1%3a5.10.1+dfsg-4build1_amd64.deb ...\n",
            "Unpacking libsliplu1:amd64 (1:5.10.1+dfsg-4build1) ...\n",
            "Selecting previously unselected package libspqr2:amd64.\n",
            "Preparing to unpack .../16-libspqr2_1%3a5.10.1+dfsg-4build1_amd64.deb ...\n",
            "Unpacking libspqr2:amd64 (1:5.10.1+dfsg-4build1) ...\n",
            "Selecting previously unselected package libumfpack5:amd64.\n",
            "Preparing to unpack .../17-libumfpack5_1%3a5.10.1+dfsg-4build1_amd64.deb ...\n",
            "Unpacking libumfpack5:amd64 (1:5.10.1+dfsg-4build1) ...\n",
            "Selecting previously unselected package libsuitesparse-dev:amd64.\n",
            "Preparing to unpack .../18-libsuitesparse-dev_1%3a5.10.1+dfsg-4build1_amd64.deb ...\n",
            "Unpacking libsuitesparse-dev:amd64 (1:5.10.1+dfsg-4build1) ...\n",
            "Setting up libgraphblas6:amd64 (6.1.4+dfsg-2) ...\n",
            "Setting up libldl2:amd64 (1:5.10.1+dfsg-4build1) ...\n",
            "Setting up libmetis5:amd64 (5.1.0.dfsg-7build2) ...\n",
            "Setting up libbtf1:amd64 (1:5.10.1+dfsg-4build1) ...\n",
            "Setting up libgraphblas-dev:amd64 (6.1.4+dfsg-2) ...\n",
            "Setting up libcxsparse3:amd64 (1:5.10.1+dfsg-4build1) ...\n",
            "Setting up libsuitesparseconfig5:amd64 (1:5.10.1+dfsg-4build1) ...\n",
            "Setting up librbio2:amd64 (1:5.10.1+dfsg-4build1) ...\n",
            "Setting up libamd2:amd64 (1:5.10.1+dfsg-4build1) ...\n",
            "Setting up libcolamd2:amd64 (1:5.10.1+dfsg-4build1) ...\n",
            "Setting up libsliplu1:amd64 (1:5.10.1+dfsg-4build1) ...\n",
            "Setting up libcamd2:amd64 (1:5.10.1+dfsg-4build1) ...\n",
            "Setting up libmongoose2:amd64 (1:5.10.1+dfsg-4build1) ...\n",
            "Setting up libklu1:amd64 (1:5.10.1+dfsg-4build1) ...\n",
            "Setting up libccolamd2:amd64 (1:5.10.1+dfsg-4build1) ...\n",
            "Setting up libcholmod3:amd64 (1:5.10.1+dfsg-4build1) ...\n",
            "Setting up libspqr2:amd64 (1:5.10.1+dfsg-4build1) ...\n",
            "Setting up libumfpack5:amd64 (1:5.10.1+dfsg-4build1) ...\n",
            "Setting up libsuitesparse-dev:amd64 (1:5.10.1+dfsg-4build1) ...\n",
            "Processing triggers for libc-bin (2.35-0ubuntu3.8) ...\n",
            "/sbin/ldconfig.real: /usr/local/lib/libur_adapter_level_zero.so.0 is not a symbolic link\n",
            "\n",
            "/sbin/ldconfig.real: /usr/local/lib/libtbbmalloc.so.2 is not a symbolic link\n",
            "\n",
            "/sbin/ldconfig.real: /usr/local/lib/libhwloc.so.15 is not a symbolic link\n",
            "\n",
            "/sbin/ldconfig.real: /usr/local/lib/libtcm.so.1 is not a symbolic link\n",
            "\n",
            "/sbin/ldconfig.real: /usr/local/lib/libtbb.so.12 is not a symbolic link\n",
            "\n",
            "/sbin/ldconfig.real: /usr/local/lib/libtbbbind_2_5.so.3 is not a symbolic link\n",
            "\n",
            "/sbin/ldconfig.real: /usr/local/lib/libur_adapter_opencl.so.0 is not a symbolic link\n",
            "\n",
            "/sbin/ldconfig.real: /usr/local/lib/libtbbmalloc_proxy.so.2 is not a symbolic link\n",
            "\n",
            "/sbin/ldconfig.real: /usr/local/lib/libur_loader.so.0 is not a symbolic link\n",
            "\n",
            "/sbin/ldconfig.real: /usr/local/lib/libumf.so.0 is not a symbolic link\n",
            "\n",
            "/sbin/ldconfig.real: /usr/local/lib/libtbbbind_2_0.so.3 is not a symbolic link\n",
            "\n",
            "/sbin/ldconfig.real: /usr/local/lib/libtbbbind.so.3 is not a symbolic link\n",
            "\n",
            "/sbin/ldconfig.real: /usr/local/lib/libtcm_debug.so.1 is not a symbolic link\n",
            "\n",
            "Collecting scikit-sparse\n",
            "  Downloading scikit_sparse-0.4.15.tar.gz (214 kB)\n",
            "\u001b[2K     \u001b[90m━━━━━━━━━━━━━━━━━━━━━━━━━━━━━━━━━━━━━━━━\u001b[0m \u001b[32m214.4/214.4 kB\u001b[0m \u001b[31m4.0 MB/s\u001b[0m eta \u001b[36m0:00:00\u001b[0m\n",
            "\u001b[?25h  Installing build dependencies ... \u001b[?25l\u001b[?25hdone\n",
            "  Getting requirements to build wheel ... \u001b[?25l\u001b[?25hdone\n",
            "  Preparing metadata (pyproject.toml) ... \u001b[?25l\u001b[?25hdone\n",
            "Requirement already satisfied: numpy>=1.13.3 in /usr/local/lib/python3.11/dist-packages (from scikit-sparse) (1.26.4)\n",
            "Requirement already satisfied: scipy>=0.19 in /usr/local/lib/python3.11/dist-packages (from scikit-sparse) (1.13.1)\n",
            "Building wheels for collected packages: scikit-sparse\n",
            "  Building wheel for scikit-sparse (pyproject.toml) ... \u001b[?25l\u001b[?25hdone\n",
            "  Created wheel for scikit-sparse: filename=scikit_sparse-0.4.15-cp311-cp311-linux_x86_64.whl size=751631 sha256=27e4ad044c22f3a15e683654bc3f644073c0107849a04025b1c25b6705928c28\n",
            "  Stored in directory: /root/.cache/pip/wheels/7c/6e/41/54121cf0157dd04c7cbb58e79119a77829da02531f78bd1212\n",
            "Successfully built scikit-sparse\n",
            "Installing collected packages: scikit-sparse\n",
            "Successfully installed scikit-sparse-0.4.15\n"
          ]
        }
      ],
      "source": [
        "# run this cell once\n",
        "import sys\n",
        "import os\n",
        "\n",
        "if 'google.colab' in sys.modules:\n",
        "  !git clone https://github.com/bradleywjenks/CIVE_70019_70057.git\n",
        "  !pip install wntr==1.2\n",
        "  !pip install cvxpy\n",
        "  !apt-get install libsuitesparse-dev && pip install scikit-sparse"
      ]
    },
    {
      "cell_type": "code",
      "execution_count": 2,
      "id": "Bg3A6sO13PRH",
      "metadata": {
        "id": "Bg3A6sO13PRH"
      },
      "outputs": [],
      "source": [
        "# load packages\n",
        "import numpy as np\n",
        "from numpy import linalg as la\n",
        "import networkx as nx\n",
        "import pandas as pd\n",
        "import wntr\n",
        "import matplotlib.pyplot as plt\n",
        "import matplotlib.cm as cm\n",
        "import copy\n",
        "from datetime import datetime, timedelta\n",
        "import cvxpy as cp\n",
        "import warnings\n",
        "warnings.filterwarnings('ignore')\n",
        "\n",
        "# improve matplotlib image quality\n",
        "plt.rcParams['figure.dpi'] = 300\n",
        "plt.rcParams['savefig.dpi'] = 300\n",
        "import matplotlib_inline\n",
        "matplotlib_inline.backend_inline.set_matplotlib_formats('svg')"
      ]
    },
    {
      "cell_type": "markdown",
      "id": "Im1H-3E-2rNx",
      "metadata": {
        "id": "Im1H-3E-2rNx"
      },
      "source": [
        "### Load network properties and operational data"
      ]
    },
    {
      "cell_type": "markdown",
      "id": "18ff4e16",
      "metadata": {
        "id": "18ff4e16"
      },
      "source": [
        "Load functions created in previous assignments."
      ]
    },
    {
      "cell_type": "code",
      "execution_count": 3,
      "id": "3b8e8f67",
      "metadata": {
        "id": "3b8e8f67"
      },
      "outputs": [],
      "source": [
        "# load functions from src folder\n",
        "if 'google.colab' in sys.modules:\n",
        "    sys.path.append('/content/CIVE_70019_70057/src/')\n",
        "    from general_functions import *\n",
        "    from hydraulic_functions import *\n",
        "else:\n",
        "    sys.path.append('/home/bradw/workspace/CIVE_70019_70057/src/')\n",
        "    from general_functions import *\n",
        "    from hydraulic_functions import *"
      ]
    },
    {
      "cell_type": "markdown",
      "id": "8S6RiXY_28PC",
      "metadata": {
        "id": "8S6RiXY_28PC"
      },
      "source": [
        "Load network .inp file and operational data from the module repository's data directory."
      ]
    },
    {
      "cell_type": "code",
      "execution_count": 4,
      "id": "x9vbD66O22q_",
      "metadata": {
        "id": "x9vbD66O22q_"
      },
      "outputs": [],
      "source": [
        "if 'google.colab' in sys.modules:\n",
        "    # if run in Google Colab\n",
        "    data_dir = '/content/CIVE_70019_70057/data/parameter_estimation/'\n",
        "    net_dir = '/content/CIVE_70019_70057/data/networks/'\n",
        "else:\n",
        "    # replace with local directory\n",
        "    data_dir = '/home/bradw/workspace/CIVE_70019_70057/data/parameter_estimation/'\n",
        "    net_dir = '/home/bradw/workspace/CIVE_70019_70057/data/networks/'\n",
        "\n",
        "net_name = 'exning.inp'\n",
        "data_name = 'exning_coursework_dataset.npy'\n",
        "\n",
        "# load operational data\n",
        "data = np.load(os.path.join(data_dir, data_name), allow_pickle=True).item()\n",
        "h_data = data['h_data']\n",
        "sensor_idx = data['sensor_idx'] - 1 # matlab to python index offset\n",
        "d_data = data['d']\n",
        "h0_data = data['h0'].reshape(-1, 1).T\n",
        "\n",
        "# load network properties\n",
        "wdn = load_network_data(os.path.join(net_dir, net_name))\n",
        "A12 = wdn.A12\n",
        "A10 = wdn.A10\n",
        "net_info = wdn.net_info\n",
        "link_df = wdn.link_df\n",
        "node_df = wdn.node_df\n",
        "demand_df = wdn.demand_df"
      ]
    },
    {
      "cell_type": "markdown",
      "id": "IVw1luezmfxv",
      "metadata": {
        "id": "IVw1luezmfxv"
      },
      "source": [
        "Plot sensor nodes in network. We provide a plotting function below."
      ]
    },
    {
      "cell_type": "code",
      "execution_count": 5,
      "id": "ec181359",
      "metadata": {
        "id": "ec181359"
      },
      "outputs": [],
      "source": [
        "#### DO NOT CHANGE THIS ####\n",
        "# define plotting function using networkx\n",
        "def plot_network(wdn, sensor_idx, vals=None, highlight_valves=None):\n",
        "\n",
        "    # create figure and axis\n",
        "    fig, ax = plt.subplots(figsize=(10, 7))\n",
        "\n",
        "    # unload data\n",
        "    link_df = wdn.link_df\n",
        "    node_df = wdn.node_df\n",
        "    net_info = wdn.net_info\n",
        "\n",
        "    # draw network\n",
        "    uG = nx.from_pandas_edgelist(link_df, source='node_out', target='node_in')\n",
        "    pos = {row['node_ID']: (row['xcoord'], row['ycoord']) for _, row in node_df.iterrows()}\n",
        "    nx.draw(uG, pos, ax=ax, node_size=20, node_shape='o')\n",
        "\n",
        "    # draw reservoir\n",
        "    nx.draw_networkx_nodes(\n",
        "        uG, pos, nodelist=net_info['reservoir_names'],\n",
        "        node_size=100, node_shape='s', node_color='black', ax=ax\n",
        "    )\n",
        "\n",
        "    # draw sensor nodes\n",
        "    sensor_names = [net_info['junction_names'][i] for i in sensor_idx]\n",
        "    nx.draw_networkx_nodes(\n",
        "        uG, pos, nodelist=sensor_names, node_size=100,\n",
        "        node_shape='o', node_color='red', edgecolors='white', ax=ax\n",
        "    )\n",
        "\n",
        "    # reservoir labels\n",
        "    reservoir_labels = {node: 'Reservoir' for node in net_info['reservoir_names']}\n",
        "    labels_res = nx.draw_networkx_labels(uG, pos, reservoir_labels, font_size=12, ax=ax)\n",
        "    for _, label in labels_res.items():\n",
        "        label.set_y(label.get_position()[1] + 1750)\n",
        "\n",
        "    # sensor labels\n",
        "    sensor_labels = {node: str(idx+1) for (idx, node) in enumerate(sensor_names)}\n",
        "    labels_sen = nx.draw_networkx_labels(uG, pos, sensor_labels, font_size=12, ax=ax)\n",
        "    for _, label in labels_sen.items():\n",
        "        label.set_y(label.get_position()[1] + 1750)\n",
        "\n",
        "    # plot sensor values if provided\n",
        "    if vals is not None:\n",
        "        cmap = cm.get_cmap('RdYlGn_r')\n",
        "        nx.draw_networkx_nodes(\n",
        "            uG, pos, nodelist=sensor_names, node_size=100,\n",
        "            node_shape='o', node_color=vals, cmap=cmap, edgecolors='white', ax=ax\n",
        "        )\n",
        "\n",
        "        # create color bar\n",
        "        sm = plt.cm.ScalarMappable(cmap=cmap)\n",
        "        sm.set_array(vals)\n",
        "        colorbar = plt.colorbar(sm, ax=ax)\n",
        "        colorbar.set_label('Mean pressure residual [m]', fontsize=12)\n",
        "\n",
        "    # highlight link\n",
        "    if highlight_valves is not None:\n",
        "        nx.draw_networkx_nodes(uG, pos, highlight_valves, node_size=200, node_shape='d', node_color='limegreen', edgecolors='white')\n",
        "\n",
        "    # display plot\n",
        "    plt.show()"
      ]
    },
    {
      "cell_type": "markdown",
      "id": "e5c6d579",
      "metadata": {
        "id": "e5c6d579"
      },
      "source": [
        "Visualise the EXNING network graph and highlight information relevant to the evaluation of the hydraulic model."
      ]
    },
    {
      "cell_type": "code",
      "execution_count": 6,
      "id": "a5a5625f",
      "metadata": {
        "colab": {
          "base_uri": "https://localhost:8080/",
          "height": 558
        },
        "id": "a5a5625f",
        "outputId": "60100a6e-343c-4973-e9a6-8db9a024e19f"
      },
      "outputs": [
        {
          "output_type": "display_data",
          "data": {
            "text/plain": [
              "<Figure size 3000x2100 with 1 Axes>"
            ],
            "image/svg+xml": "<?xml version=\"1.0\" encoding=\"utf-8\" standalone=\"no\"?>\n<!DOCTYPE svg PUBLIC \"-//W3C//DTD SVG 1.1//EN\"\n  \"http://www.w3.org/Graphics/SVG/1.1/DTD/svg11.dtd\">\n<svg xmlns:xlink=\"http://www.w3.org/1999/xlink\" width=\"572.4pt\" height=\"402.48pt\" viewBox=\"0 0 572.4 402.48\" xmlns=\"http://www.w3.org/2000/svg\" version=\"1.1\">\n <metadata>\n  <rdf:RDF xmlns:dc=\"http://purl.org/dc/elements/1.1/\" xmlns:cc=\"http://creativecommons.org/ns#\" xmlns:rdf=\"http://www.w3.org/1999/02/22-rdf-syntax-ns#\">\n   <cc:Work>\n    <dc:type rdf:resource=\"http://purl.org/dc/dcmitype/StillImage\"/>\n    <dc:date>2025-03-11T12:58:04.321023</dc:date>\n    <dc:format>image/svg+xml</dc:format>\n    <dc:creator>\n     <cc:Agent>\n      <dc:title>Matplotlib v3.10.0, https://matplotlib.org/</dc:title>\n     </cc:Agent>\n    </dc:creator>\n   </cc:Work>\n  </rdf:RDF>\n </metadata>\n <defs>\n  <style type=\"text/css\">*{stroke-linejoin: round; stroke-linecap: butt}</style>\n </defs>\n <g id=\"figure_1\">\n  <g id=\"patch_1\">\n   <path d=\"M 0 402.48 \nL 572.4 402.48 \nL 572.4 -0 \nL 0 -0 \nz\n\" style=\"fill: #ffffff\"/>\n  </g>\n  <g id=\"axes_1\">\n   <g id=\"LineCollection_1\">\n    <path d=\"M 372.046234 323.490141 \nL 372.545526 323.185003 \n\" clip-path=\"url(#p7171bf712f)\" style=\"fill: none; stroke: #000000\"/>\n    <path d=\"M 372.046234 323.490141 \nL 366.937946 321.805141 \n\" clip-path=\"url(#p7171bf712f)\" style=\"fill: none; stroke: #000000\"/>\n    <path d=\"M 372.545526 323.185003 \nL 372.601035 323.149946 \n\" clip-path=\"url(#p7171bf712f)\" style=\"fill: none; stroke: #000000\"/>\n    <path d=\"M 366.937946 321.805141 \nL 366.872806 321.783695 \n\" clip-path=\"url(#p7171bf712f)\" style=\"fill: none; stroke: #000000\"/>\n    <path d=\"M 484.531023 353.256798 \nL 411.880563 359.89045 \n\" clip-path=\"url(#p7171bf712f)\" style=\"fill: none; stroke: #000000\"/>\n    <path d=\"M 484.531023 353.256798 \nL 484.79451 353.290673 \n\" clip-path=\"url(#p7171bf712f)\" style=\"fill: none; stroke: #000000\"/>\n    <path d=\"M 484.531023 353.256798 \nL 484.572618 353.008162 \n\" clip-path=\"url(#p7171bf712f)\" style=\"fill: none; stroke: #000000\"/>\n    <path d=\"M 411.880563 359.89045 \nL 410.784803 361.122251 \n\" clip-path=\"url(#p7171bf712f)\" style=\"fill: none; stroke: #000000\"/>\n    <path d=\"M 405.431079 79.039621 \nL 422.518733 148.619479 \n\" clip-path=\"url(#p7171bf712f)\" style=\"fill: none; stroke: #000000\"/>\n    <path d=\"M 405.431079 79.039621 \nL 421.39529 61.92999 \n\" clip-path=\"url(#p7171bf712f)\" style=\"fill: none; stroke: #000000\"/>\n    <path d=\"M 422.518733 148.619479 \nL 423.115129 148.574268 \n\" clip-path=\"url(#p7171bf712f)\" style=\"fill: none; stroke: #000000\"/>\n    <path d=\"M 422.518733 148.619479 \nL 422.664353 149.873864 \n\" clip-path=\"url(#p7171bf712f)\" style=\"fill: none; stroke: #000000\"/>\n    <path d=\"M 421.39529 61.92999 \nL 421.409132 61.918699 \n\" clip-path=\"url(#p7171bf712f)\" style=\"fill: none; stroke: #000000\"/>\n    <path d=\"M 430.896176 154.563768 \nL 430.993281 154.959284 \n\" clip-path=\"url(#p7171bf712f)\" style=\"fill: none; stroke: #000000\"/>\n    <path d=\"M 430.896176 154.563768 \nL 430.729722 153.806612 \n\" clip-path=\"url(#p7171bf712f)\" style=\"fill: none; stroke: #000000\"/>\n    <path d=\"M 430.896176 154.563768 \nL 432.019619 154.337759 \n\" clip-path=\"url(#p7171bf712f)\" style=\"fill: none; stroke: #000000\"/>\n    <path d=\"M 430.993281 154.959284 \nL 423.129042 156.575309 \n\" clip-path=\"url(#p7171bf712f)\" style=\"fill: none; stroke: #000000\"/>\n    <path d=\"M 430.993281 154.959284 \nL 433.004361 154.563768 \n\" clip-path=\"url(#p7171bf712f)\" style=\"fill: none; stroke: #000000\"/>\n    <path d=\"M 423.129042 156.575309 \nL 421.561745 158.044455 \n\" clip-path=\"url(#p7171bf712f)\" style=\"fill: none; stroke: #000000\"/>\n    <path d=\"M 423.129042 156.575309 \nL 423.101287 156.03287 \n\" clip-path=\"url(#p7171bf712f)\" style=\"fill: none; stroke: #000000\"/>\n    <path d=\"M 424.50213 148.461264 \nL 423.184479 148.568623 \n\" clip-path=\"url(#p7171bf712f)\" style=\"fill: none; stroke: #000000\"/>\n    <path d=\"M 423.184479 148.568623 \nL 423.115129 148.574268 \n\" clip-path=\"url(#p7171bf712f)\" style=\"fill: none; stroke: #000000\"/>\n    <path d=\"M 421.561745 158.044455 \nL 420.951436 158.168751 \n\" clip-path=\"url(#p7171bf712f)\" style=\"fill: none; stroke: #000000\"/>\n    <path d=\"M 421.561745 158.044455 \nL 421.839145 159.942991 \n\" clip-path=\"url(#p7171bf712f)\" style=\"fill: none; stroke: #000000\"/>\n    <path d=\"M 405.417166 161.43472 \nL 420.884868 158.182319 \n\" clip-path=\"url(#p7171bf712f)\" style=\"fill: none; stroke: #000000\"/>\n    <path d=\"M 405.417166 161.43472 \nL 404.071832 161.762442 \n\" clip-path=\"url(#p7171bf712f)\" style=\"fill: none; stroke: #000000\"/>\n    <path d=\"M 420.884868 158.182319 \nL 420.951436 158.168751 \n\" clip-path=\"url(#p7171bf712f)\" style=\"fill: none; stroke: #000000\"/>\n    <path d=\"M 422.615837 165.491765 \nL 421.847421 159.998399 \n\" clip-path=\"url(#p7171bf712f)\" style=\"fill: none; stroke: #000000\"/>\n    <path d=\"M 422.615837 165.491765 \nL 425.528539 174.887374 \n\" clip-path=\"url(#p7171bf712f)\" style=\"fill: none; stroke: #000000\"/>\n    <path d=\"M 422.615837 165.491765 \nL 423.572896 165.344842 \n\" clip-path=\"url(#p7171bf712f)\" style=\"fill: none; stroke: #000000\"/>\n    <path d=\"M 421.847421 159.998399 \nL 421.839145 159.942991 \n\" clip-path=\"url(#p7171bf712f)\" style=\"fill: none; stroke: #000000\"/>\n    <path d=\"M 425.778185 175.312257 \nL 425.556222 174.939324 \n\" clip-path=\"url(#p7171bf712f)\" style=\"fill: none; stroke: #000000\"/>\n    <path d=\"M 425.778185 175.312257 \nL 425.278893 175.470472 \n\" clip-path=\"url(#p7171bf712f)\" style=\"fill: none; stroke: #000000\"/>\n    <path d=\"M 425.778185 175.312257 \nL 426.138777 176.001619 \n\" clip-path=\"url(#p7171bf712f)\" style=\"fill: none; stroke: #000000\"/>\n    <path d=\"M 425.556222 174.939324 \nL 425.528539 174.887374 \n\" clip-path=\"url(#p7171bf712f)\" style=\"fill: none; stroke: #000000\"/>\n    <path d=\"M 433.059869 188.771694 \nL 426.166531 176.053613 \n\" clip-path=\"url(#p7171bf712f)\" style=\"fill: none; stroke: #000000\"/>\n    <path d=\"M 433.059869 188.771694 \nL 433.20549 189.07228 \n\" clip-path=\"url(#p7171bf712f)\" style=\"fill: none; stroke: #000000\"/>\n    <path d=\"M 433.059869 188.771694 \nL 432.394123 189.031621 \n\" clip-path=\"url(#p7171bf712f)\" style=\"fill: none; stroke: #000000\"/>\n    <path d=\"M 426.166531 176.053613 \nL 426.138777 176.001619 \n\" clip-path=\"url(#p7171bf712f)\" style=\"fill: none; stroke: #000000\"/>\n    <path d=\"M 411.173221 183.053413 \nL 425.215037 175.490823 \n\" clip-path=\"url(#p7171bf712f)\" style=\"fill: none; stroke: #000000\"/>\n    <path d=\"M 425.215037 175.490823 \nL 425.278893 175.470472 \n\" clip-path=\"url(#p7171bf712f)\" style=\"fill: none; stroke: #000000\"/>\n    <path d=\"M 433.072355 154.549063 \nL 443.582955 152.33182 \n\" clip-path=\"url(#p7171bf712f)\" style=\"fill: none; stroke: #000000\"/>\n    <path d=\"M 433.072355 154.549063 \nL 433.004361 154.563768 \n\" clip-path=\"url(#p7171bf712f)\" style=\"fill: none; stroke: #000000\"/>\n    <path d=\"M 443.582955 152.33182 \nL 462.935616 147.941408 \n\" clip-path=\"url(#p7171bf712f)\" style=\"fill: none; stroke: #000000\"/>\n    <path d=\"M 430.729722 153.806612 \nL 430.718592 153.751204 \n\" clip-path=\"url(#p7171bf712f)\" style=\"fill: none; stroke: #000000\"/>\n    <path d=\"M 423.101287 156.03287 \nL 423.098505 155.976368 \n\" clip-path=\"url(#p7171bf712f)\" style=\"fill: none; stroke: #000000\"/>\n    <path d=\"M 432.394123 189.031621 \nL 432.331694 189.055343 \n\" clip-path=\"url(#p7171bf712f)\" style=\"fill: none; stroke: #000000\"/>\n    <path d=\"M 423.572896 165.344842 \nL 423.642246 165.334688 \n\" clip-path=\"url(#p7171bf712f)\" style=\"fill: none; stroke: #000000\"/>\n    <path d=\"M 426.069427 164.372968 \nL 426.22204 164.960618 \n\" clip-path=\"url(#p7171bf712f)\" style=\"fill: none; stroke: #000000\"/>\n    <path d=\"M 426.069427 164.372968 \nL 426.055585 164.317604 \n\" clip-path=\"url(#p7171bf712f)\" style=\"fill: none; stroke: #000000\"/>\n    <path d=\"M 426.22204 164.960618 \nL 423.642246 165.334688 \n\" clip-path=\"url(#p7171bf712f)\" style=\"fill: none; stroke: #000000\"/>\n    <path d=\"M 426.22204 164.960618 \nL 426.443931 165.514348 \n\" clip-path=\"url(#p7171bf712f)\" style=\"fill: none; stroke: #000000\"/>\n    <path d=\"M 419.730889 194.331759 \nL 432.331694 189.055343 \n\" clip-path=\"url(#p7171bf712f)\" style=\"fill: none; stroke: #000000\"/>\n    <path d=\"M 419.730889 194.331759 \nL 415.750253 196.671022 \n\" clip-path=\"url(#p7171bf712f)\" style=\"fill: none; stroke: #000000\"/>\n    <path d=\"M 419.730889 194.331759 \nL 419.994448 194.682064 \n\" clip-path=\"url(#p7171bf712f)\" style=\"fill: none; stroke: #000000\"/>\n    <path d=\"M 423.309337 199.179835 \nL 420.030478 194.730688 \n\" clip-path=\"url(#p7171bf712f)\" style=\"fill: none; stroke: #000000\"/>\n    <path d=\"M 423.309337 199.179835 \nL 429.523017 195.258422 \n\" clip-path=\"url(#p7171bf712f)\" style=\"fill: none; stroke: #000000\"/>\n    <path d=\"M 423.309337 199.179835 \nL 423.031937 207.938076 \n\" clip-path=\"url(#p7171bf712f)\" style=\"fill: none; stroke: #000000\"/>\n    <path d=\"M 420.030478 194.730688 \nL 419.994448 194.682064 \n\" clip-path=\"url(#p7171bf712f)\" style=\"fill: none; stroke: #000000\"/>\n    <path d=\"M 415.750253 196.671022 \nL 415.708657 196.908366 \n\" clip-path=\"url(#p7171bf712f)\" style=\"fill: none; stroke: #000000\"/>\n    <path d=\"M 415.750253 196.671022 \nL 415.153857 196.591936 \n\" clip-path=\"url(#p7171bf712f)\" style=\"fill: none; stroke: #000000\"/>\n    <path d=\"M 405.417166 209.158585 \nL 415.698954 196.96373 \n\" clip-path=\"url(#p7171bf712f)\" style=\"fill: none; stroke: #000000\"/>\n    <path d=\"M 405.417166 209.158585 \nL 397.132689 210.077326 \n\" clip-path=\"url(#p7171bf712f)\" style=\"fill: none; stroke: #000000\"/>\n    <path d=\"M 415.698954 196.96373 \nL 415.708657 196.908366 \n\" clip-path=\"url(#p7171bf712f)\" style=\"fill: none; stroke: #000000\"/>\n    <path d=\"M 415.153857 196.591936 \nL 415.085862 196.584014 \n\" clip-path=\"url(#p7171bf712f)\" style=\"fill: none; stroke: #000000\"/>\n    <path d=\"M 425.112439 160.767985 \nL 426.055585 164.317604 \n\" clip-path=\"url(#p7171bf712f)\" style=\"fill: none; stroke: #000000\"/>\n    <path d=\"M 438.982307 165.141416 \nL 426.46612 165.567481 \n\" clip-path=\"url(#p7171bf712f)\" style=\"fill: none; stroke: #000000\"/>\n    <path d=\"M 438.982307 165.141416 \nL 439.051657 165.548267 \n\" clip-path=\"url(#p7171bf712f)\" style=\"fill: none; stroke: #000000\"/>\n    <path d=\"M 438.982307 165.141416 \nL 438.968465 164.598977 \n\" clip-path=\"url(#p7171bf712f)\" style=\"fill: none; stroke: #000000\"/>\n    <path d=\"M 426.46612 165.567481 \nL 426.443931 165.514348 \n\" clip-path=\"url(#p7171bf712f)\" style=\"fill: none; stroke: #000000\"/>\n    <path d=\"M 441.464996 168.226587 \nL 439.066925 165.603632 \n\" clip-path=\"url(#p7171bf712f)\" style=\"fill: none; stroke: #000000\"/>\n    <path d=\"M 439.066925 165.603632 \nL 439.051657 165.548267 \n\" clip-path=\"url(#p7171bf712f)\" style=\"fill: none; stroke: #000000\"/>\n    <path d=\"M 436.097359 158.948534 \nL 438.968465 164.542475 \n\" clip-path=\"url(#p7171bf712f)\" style=\"fill: none; stroke: #000000\"/>\n    <path d=\"M 438.968465 164.542475 \nL 438.968465 164.598977 \n\" clip-path=\"url(#p7171bf712f)\" style=\"fill: none; stroke: #000000\"/>\n    <path d=\"M 421.409132 61.918699 \nL 421.449372 61.87235 \n\" clip-path=\"url(#p7171bf712f)\" style=\"fill: none; stroke: #000000\"/>\n    <path d=\"M 439.245866 40.876364 \nL 421.449372 61.87235 \n\" clip-path=\"url(#p7171bf712f)\" style=\"fill: none; stroke: #000000\"/>\n    <path d=\"M 484.79451 353.290673 \nL 484.872208 353.300871 \n\" clip-path=\"url(#p7171bf712f)\" style=\"fill: none; stroke: #000000\"/>\n    <path d=\"M 484.572618 353.008162 \nL 484.582322 352.95166 \n\" clip-path=\"url(#p7171bf712f)\" style=\"fill: none; stroke: #000000\"/>\n    <path d=\"M 327.953869 65.749734 \nL 327.274282 65.987035 \n\" clip-path=\"url(#p7171bf712f)\" style=\"fill: none; stroke: #000000\"/>\n    <path d=\"M 327.274282 65.987035 \nL 327.210425 66.008524 \n\" clip-path=\"url(#p7171bf712f)\" style=\"fill: none; stroke: #000000\"/>\n    <path d=\"M 327.210425 66.008524 \nL 355.151362 131.481619 \n\" clip-path=\"url(#p7171bf712f)\" style=\"fill: none; stroke: #000000\"/>\n    <path d=\"M 355.151362 131.481619 \nL 355.180472 131.532476 \n\" clip-path=\"url(#p7171bf712f)\" style=\"fill: none; stroke: #000000\"/>\n    <path d=\"M 355.180472 131.532476 \nL 356.720015 133.871738 \n\" clip-path=\"url(#p7171bf712f)\" style=\"fill: none; stroke: #000000\"/>\n    <path d=\"M 356.720015 133.871738 \nL 360.996102 146.520887 \n\" clip-path=\"url(#p7171bf712f)\" style=\"fill: none; stroke: #000000\"/>\n    <path d=\"M 413.281405 358.466515 \nL 413.198214 357.822363 \n\" clip-path=\"url(#p7171bf712f)\" style=\"fill: none; stroke: #000000\"/>\n    <path d=\"M 413.198214 357.822363 \nL 412.296663 357.969286 \n\" clip-path=\"url(#p7171bf712f)\" style=\"fill: none; stroke: #000000\"/>\n    <path d=\"M 413.198214 357.822363 \nL 484.155213 351.288245 \n\" clip-path=\"url(#p7171bf712f)\" style=\"fill: none; stroke: #000000\"/>\n    <path d=\"M 516.778512 302.877197 \nL 484.582322 352.95166 \n\" clip-path=\"url(#p7171bf712f)\" style=\"fill: none; stroke: #000000\"/>\n    <path d=\"M 364.140399 153.004245 \nL 364.334608 153.060747 \n\" clip-path=\"url(#p7171bf712f)\" style=\"fill: none; stroke: #000000\"/>\n    <path d=\"M 364.140399 153.004245 \nL 364.075188 152.985032 \n\" clip-path=\"url(#p7171bf712f)\" style=\"fill: none; stroke: #000000\"/>\n    <path d=\"M 364.334608 153.060747 \nL 364.736796 153.230254 \n\" clip-path=\"url(#p7171bf712f)\" style=\"fill: none; stroke: #000000\"/>\n    <path d=\"M 364.334608 153.060747 \nL 366.054447 152.676523 \n\" clip-path=\"url(#p7171bf712f)\" style=\"fill: none; stroke: #000000\"/>\n    <path d=\"M 364.015612 151.422095 \nL 363.946262 152.947743 \n\" clip-path=\"url(#p7171bf712f)\" style=\"fill: none; stroke: #000000\"/>\n    <path d=\"M 364.015612 151.422095 \nL 363.978155 151.374652 \n\" clip-path=\"url(#p7171bf712f)\" style=\"fill: none; stroke: #000000\"/>\n    <path d=\"M 363.946262 152.947743 \nL 364.075188 152.985032 \n\" clip-path=\"url(#p7171bf712f)\" style=\"fill: none; stroke: #000000\"/>\n    <path d=\"M 363.946262 152.947743 \nL 341.588004 154.05748 \n\" clip-path=\"url(#p7171bf712f)\" style=\"fill: none; stroke: #000000\"/>\n    <path d=\"M 411.159308 173.990078 \nL 387.631803 187.405399 \n\" clip-path=\"url(#p7171bf712f)\" style=\"fill: none; stroke: #000000\"/>\n    <path d=\"M 387.631803 187.405399 \nL 387.566662 187.426888 \n\" clip-path=\"url(#p7171bf712f)\" style=\"fill: none; stroke: #000000\"/>\n    <path d=\"M 378.578981 173.165084 \nL 386.359957 187.833695 \n\" clip-path=\"url(#p7171bf712f)\" style=\"fill: none; stroke: #000000\"/>\n    <path d=\"M 378.578981 173.165084 \nL 378.759277 173.09729 \n\" clip-path=\"url(#p7171bf712f)\" style=\"fill: none; stroke: #000000\"/>\n    <path d=\"M 378.578981 173.165084 \nL 377.552571 171.820278 \n\" clip-path=\"url(#p7171bf712f)\" style=\"fill: none; stroke: #000000\"/>\n    <path d=\"M 386.359957 187.833695 \nL 388.190813 193.631105 \n\" clip-path=\"url(#p7171bf712f)\" style=\"fill: none; stroke: #000000\"/>\n    <path d=\"M 386.359957 187.833695 \nL 387.566662 187.426888 \n\" clip-path=\"url(#p7171bf712f)\" style=\"fill: none; stroke: #000000\"/>\n    <path d=\"M 390.826043 201.044496 \nL 396.304698 209.46368 \n\" clip-path=\"url(#p7171bf712f)\" style=\"fill: none; stroke: #000000\"/>\n    <path d=\"M 390.826043 201.044496 \nL 388.190813 193.631105 \n\" clip-path=\"url(#p7171bf712f)\" style=\"fill: none; stroke: #000000\"/>\n    <path d=\"M 390.826043 201.044496 \nL 390.063193 201.293132 \n\" clip-path=\"url(#p7171bf712f)\" style=\"fill: none; stroke: #000000\"/>\n    <path d=\"M 396.304698 209.46368 \nL 395.361551 209.938325 \n\" clip-path=\"url(#p7171bf712f)\" style=\"fill: none; stroke: #000000\"/>\n    <path d=\"M 396.304698 209.46368 \nL 397.08139 210.040038 \n\" clip-path=\"url(#p7171bf712f)\" style=\"fill: none; stroke: #000000\"/>\n    <path d=\"M 388.190813 193.631105 \nL 388.052112 193.642397 \n\" clip-path=\"url(#p7171bf712f)\" style=\"fill: none; stroke: #000000\"/>\n    <path d=\"M 388.052112 193.642397 \nL 387.985545 193.653688 \n\" clip-path=\"url(#p7171bf712f)\" style=\"fill: none; stroke: #000000\"/>\n    <path d=\"M 379.050518 150.009495 \nL 366.122441 152.661818 \n\" clip-path=\"url(#p7171bf712f)\" style=\"fill: none; stroke: #000000\"/>\n    <path d=\"M 379.050518 150.009495 \nL 387.219912 147.026037 \n\" clip-path=\"url(#p7171bf712f)\" style=\"fill: none; stroke: #000000\"/>\n    <path d=\"M 379.050518 150.009495 \nL 378.828627 149.410554 \n\" clip-path=\"url(#p7171bf712f)\" style=\"fill: none; stroke: #000000\"/>\n    <path d=\"M 366.122441 152.661818 \nL 366.054447 152.676523 \n\" clip-path=\"url(#p7171bf712f)\" style=\"fill: none; stroke: #000000\"/>\n    <path d=\"M 387.219912 147.026037 \nL 388.7317 146.020245 \n\" clip-path=\"url(#p7171bf712f)\" style=\"fill: none; stroke: #000000\"/>\n    <path d=\"M 387.219912 147.026037 \nL 387.372453 147.17296 \n\" clip-path=\"url(#p7171bf712f)\" style=\"fill: none; stroke: #000000\"/>\n    <path d=\"M 386.443148 154.597643 \nL 387.418259 147.215895 \n\" clip-path=\"url(#p7171bf712f)\" style=\"fill: none; stroke: #000000\"/>\n    <path d=\"M 387.418259 147.215895 \nL 387.372453 147.17296 \n\" clip-path=\"url(#p7171bf712f)\" style=\"fill: none; stroke: #000000\"/>\n    <path d=\"M 361.297119 147.04862 \nL 361.408064 147.252046 \n\" clip-path=\"url(#p7171bf712f)\" style=\"fill: none; stroke: #000000\"/>\n    <path d=\"M 361.297119 147.04862 \nL 361.019718 146.574019 \n\" clip-path=\"url(#p7171bf712f)\" style=\"fill: none; stroke: #000000\"/>\n    <path d=\"M 361.297119 147.04862 \nL 361.58836 146.935616 \n\" clip-path=\"url(#p7171bf712f)\" style=\"fill: none; stroke: #000000\"/>\n    <path d=\"M 361.408064 147.252046 \nL 361.437174 147.302902 \n\" clip-path=\"url(#p7171bf712f)\" style=\"fill: none; stroke: #000000\"/>\n    <path d=\"M 360.996102 146.520887 \nL 361.019718 146.574019 \n\" clip-path=\"url(#p7171bf712f)\" style=\"fill: none; stroke: #000000\"/>\n    <path d=\"M 378.828627 149.410554 \nL 378.80922 149.356284 \n\" clip-path=\"url(#p7171bf712f)\" style=\"fill: none; stroke: #000000\"/>\n    <path d=\"M 369.521949 144.720649 \nL 361.652145 146.913033 \n\" clip-path=\"url(#p7171bf712f)\" style=\"fill: none; stroke: #000000\"/>\n    <path d=\"M 369.521949 144.720649 \nL 369.896383 144.675439 \n\" clip-path=\"url(#p7171bf712f)\" style=\"fill: none; stroke: #000000\"/>\n    <path d=\"M 361.652145 146.913033 \nL 361.58836 146.935616 \n\" clip-path=\"url(#p7171bf712f)\" style=\"fill: none; stroke: #000000\"/>\n    <path d=\"M 300.338921 147.9527 \nL 285.163887 145.455222 \n\" clip-path=\"url(#p7171bf712f)\" style=\"fill: none; stroke: #000000\"/>\n    <path d=\"M 300.338921 147.9527 \nL 300.602479 147.997911 \n\" clip-path=\"url(#p7171bf712f)\" style=\"fill: none; stroke: #000000\"/>\n    <path d=\"M 300.338921 147.9527 \nL 300.297325 148.156126 \n\" clip-path=\"url(#p7171bf712f)\" style=\"fill: none; stroke: #000000\"/>\n    <path d=\"M 285.163887 145.455222 \nL 285.095964 145.443887 \n\" clip-path=\"url(#p7171bf712f)\" style=\"fill: none; stroke: #000000\"/>\n    <path d=\"M 313.473692 155.004494 \nL 313.515359 154.767194 \n\" clip-path=\"url(#p7171bf712f)\" style=\"fill: none; stroke: #000000\"/>\n    <path d=\"M 313.473692 155.004494 \nL 313.348905 155.501723 \n\" clip-path=\"url(#p7171bf712f)\" style=\"fill: none; stroke: #000000\"/>\n    <path d=\"M 313.473692 155.004494 \nL 311.143616 154.710692 \n\" clip-path=\"url(#p7171bf712f)\" style=\"fill: none; stroke: #000000\"/>\n    <path d=\"M 313.515359 154.767194 \nL 313.529201 154.711786 \n\" clip-path=\"url(#p7171bf712f)\" style=\"fill: none; stroke: #000000\"/>\n    <path d=\"M 312.738596 158.180043 \nL 313.336419 155.557131 \n\" clip-path=\"url(#p7171bf712f)\" style=\"fill: none; stroke: #000000\"/>\n    <path d=\"M 312.738596 158.180043 \nL 312.515349 161.084415 \n\" clip-path=\"url(#p7171bf712f)\" style=\"fill: none; stroke: #000000\"/>\n    <path d=\"M 313.336419 155.557131 \nL 313.348905 155.501723 \n\" clip-path=\"url(#p7171bf712f)\" style=\"fill: none; stroke: #000000\"/>\n    <path d=\"M 300.297325 148.156126 \nL 300.286266 148.21149 \n\" clip-path=\"url(#p7171bf712f)\" style=\"fill: none; stroke: #000000\"/>\n    <path d=\"M 368.661994 159.332758 \nL 377.508193 171.777343 \n\" clip-path=\"url(#p7171bf712f)\" style=\"fill: none; stroke: #000000\"/>\n    <path d=\"M 368.661994 159.332758 \nL 364.800652 153.252838 \n\" clip-path=\"url(#p7171bf712f)\" style=\"fill: none; stroke: #000000\"/>\n    <path d=\"M 368.661994 159.332758 \nL 367.635585 159.683064 \n\" clip-path=\"url(#p7171bf712f)\" style=\"fill: none; stroke: #000000\"/>\n    <path d=\"M 377.508193 171.777343 \nL 377.552571 171.820278 \n\" clip-path=\"url(#p7171bf712f)\" style=\"fill: none; stroke: #000000\"/>\n    <path d=\"M 364.736796 153.230254 \nL 364.800652 153.252838 \n\" clip-path=\"url(#p7171bf712f)\" style=\"fill: none; stroke: #000000\"/>\n    <path d=\"M 350.589527 169.141958 \nL 351.491078 168.633438 \n\" clip-path=\"url(#p7171bf712f)\" style=\"fill: none; stroke: #000000\"/>\n    <path d=\"M 350.589527 169.141958 \nL 347.593634 164.655479 \n\" clip-path=\"url(#p7171bf712f)\" style=\"fill: none; stroke: #000000\"/>\n    <path d=\"M 350.589527 169.141958 \nL 350.742069 169.447097 \n\" clip-path=\"url(#p7171bf712f)\" style=\"fill: none; stroke: #000000\"/>\n    <path d=\"M 351.491078 168.633438 \nL 351.547942 168.600657 \n\" clip-path=\"url(#p7171bf712f)\" style=\"fill: none; stroke: #000000\"/>\n    <path d=\"M 353.654771 173.775361 \nL 350.775388 169.496815 \n\" clip-path=\"url(#p7171bf712f)\" style=\"fill: none; stroke: #000000\"/>\n    <path d=\"M 350.775388 169.496815 \nL 350.742069 169.447097 \n\" clip-path=\"url(#p7171bf712f)\" style=\"fill: none; stroke: #000000\"/>\n    <path d=\"M 340.700295 154.168209 \nL 329.646025 152.812111 \n\" clip-path=\"url(#p7171bf712f)\" style=\"fill: none; stroke: #000000\"/>\n    <path d=\"M 340.700295 154.168209 \nL 341.0748 154.721983 \n\" clip-path=\"url(#p7171bf712f)\" style=\"fill: none; stroke: #000000\"/>\n    <path d=\"M 340.700295 154.168209 \nL 341.518654 154.06654 \n\" clip-path=\"url(#p7171bf712f)\" style=\"fill: none; stroke: #000000\"/>\n    <path d=\"M 329.646025 152.812111 \nL 329.521166 153.264173 \n\" clip-path=\"url(#p7171bf712f)\" style=\"fill: none; stroke: #000000\"/>\n    <path d=\"M 347.593634 164.655479 \nL 343.571402 166.395845 \n\" clip-path=\"url(#p7171bf712f)\" style=\"fill: none; stroke: #000000\"/>\n    <path d=\"M 347.593634 164.655479 \nL 347.496529 164.519891 \n\" clip-path=\"url(#p7171bf712f)\" style=\"fill: none; stroke: #000000\"/>\n    <path d=\"M 341.0748 154.721983 \nL 341.108048 154.771702 \n\" clip-path=\"url(#p7171bf712f)\" style=\"fill: none; stroke: #000000\"/>\n    <path d=\"M 352.295524 180.781945 \nL 349.883541 176.328246 \n\" clip-path=\"url(#p7171bf712f)\" style=\"fill: none; stroke: #000000\"/>\n    <path d=\"M 349.883541 176.328246 \nL 349.868272 176.272838 \n\" clip-path=\"url(#p7171bf712f)\" style=\"fill: none; stroke: #000000\"/>\n    <path d=\"M 343.571402 166.395845 \nL 344.015185 167.028705 \n\" clip-path=\"url(#p7171bf712f)\" style=\"fill: none; stroke: #000000\"/>\n    <path d=\"M 343.571402 166.395845 \nL 338.328552 168.667313 \n\" clip-path=\"url(#p7171bf712f)\" style=\"fill: none; stroke: #000000\"/>\n    <path d=\"M 344.015185 167.028705 \nL 344.048504 167.078423 \n\" clip-path=\"url(#p7171bf712f)\" style=\"fill: none; stroke: #000000\"/>\n    <path d=\"M 338.328552 168.667313 \nL 337.89861 168.859447 \n\" clip-path=\"url(#p7171bf712f)\" style=\"fill: none; stroke: #000000\"/>\n    <path d=\"M 338.328552 168.667313 \nL 337.773751 167.751942 \n\" clip-path=\"url(#p7171bf712f)\" style=\"fill: none; stroke: #000000\"/>\n    <path d=\"M 349.798922 176.069457 \nL 347.98198 176.374551 \n\" clip-path=\"url(#p7171bf712f)\" style=\"fill: none; stroke: #000000\"/>\n    <path d=\"M 349.798922 176.069457 \nL 349.868272 176.272838 \n\" clip-path=\"url(#p7171bf712f)\" style=\"fill: none; stroke: #000000\"/>\n    <path d=\"M 349.798922 176.069457 \nL 349.757327 175.933825 \n\" clip-path=\"url(#p7171bf712f)\" style=\"fill: none; stroke: #000000\"/>\n    <path d=\"M 347.98198 176.374551 \nL 347.914056 176.385843 \n\" clip-path=\"url(#p7171bf712f)\" style=\"fill: none; stroke: #000000\"/>\n    <path d=\"M 335.318817 160.654981 \nL 337.744642 167.701086 \n\" clip-path=\"url(#p7171bf712f)\" style=\"fill: none; stroke: #000000\"/>\n    <path d=\"M 337.744642 167.701086 \nL 337.773751 167.751942 \n\" clip-path=\"url(#p7171bf712f)\" style=\"fill: none; stroke: #000000\"/>\n    <path d=\"M 346.733679 243.536017 \nL 346.636646 243.343883 \n\" clip-path=\"url(#p7171bf712f)\" style=\"fill: none; stroke: #000000\"/>\n    <path d=\"M 346.733679 243.536017 \nL 346.858537 243.795945 \n\" clip-path=\"url(#p7171bf712f)\" style=\"fill: none; stroke: #000000\"/>\n    <path d=\"M 346.733679 243.536017 \nL 346.927887 243.479515 \n\" clip-path=\"url(#p7171bf712f)\" style=\"fill: none; stroke: #000000\"/>\n    <path d=\"M 346.636646 243.343883 \nL 346.611674 243.290795 \n\" clip-path=\"url(#p7171bf712f)\" style=\"fill: none; stroke: #000000\"/>\n    <path d=\"M 397.132689 210.077326 \nL 397.08139 210.040038 \n\" clip-path=\"url(#p7171bf712f)\" style=\"fill: none; stroke: #000000\"/>\n    <path d=\"M 395.361551 209.938325 \nL 395.30326 209.967736 \n\" clip-path=\"url(#p7171bf712f)\" style=\"fill: none; stroke: #000000\"/>\n    <path d=\"M 341.518654 154.06654 \nL 341.588004 154.05748 \n\" clip-path=\"url(#p7171bf712f)\" style=\"fill: none; stroke: #000000\"/>\n    <path d=\"M 378.759277 173.09729 \nL 378.824488 173.075801 \n\" clip-path=\"url(#p7171bf712f)\" style=\"fill: none; stroke: #000000\"/>\n    <path d=\"M 390.063193 201.293132 \nL 389.999408 201.314578 \n\" clip-path=\"url(#p7171bf712f)\" style=\"fill: none; stroke: #000000\"/>\n    <path d=\"M 387.985545 193.653688 \nL 369.164069 205.297045 \n\" clip-path=\"url(#p7171bf712f)\" style=\"fill: none; stroke: #000000\"/>\n    <path d=\"M 369.164069 205.297045 \nL 369.189041 205.350177 \n\" clip-path=\"url(#p7171bf712f)\" style=\"fill: none; stroke: #000000\"/>\n    <path d=\"M 369.189041 205.350177 \nL 389.999408 201.314578 \n\" clip-path=\"url(#p7171bf712f)\" style=\"fill: none; stroke: #000000\"/>\n    <path d=\"M 366.609247 321.30905 \nL 323.362924 359.867823 \n\" clip-path=\"url(#p7171bf712f)\" style=\"fill: none; stroke: #000000\"/>\n    <path d=\"M 366.609247 321.30905 \nL 366.401197 321.648063 \n\" clip-path=\"url(#p7171bf712f)\" style=\"fill: none; stroke: #000000\"/>\n    <path d=\"M 366.609247 321.30905 \nL 367.795119 319.320092 \n\" clip-path=\"url(#p7171bf712f)\" style=\"fill: none; stroke: #000000\"/>\n    <path d=\"M 361.437174 147.302902 \nL 363.978155 151.374652 \n\" clip-path=\"url(#p7171bf712f)\" style=\"fill: none; stroke: #000000\"/>\n    <path d=\"M 369.896383 144.675439 \nL 369.965733 144.666423 \n\" clip-path=\"url(#p7171bf712f)\" style=\"fill: none; stroke: #000000\"/>\n    <path d=\"M 378.80922 149.356284 \nL 369.965733 144.666423 \n\" clip-path=\"url(#p7171bf712f)\" style=\"fill: none; stroke: #000000\"/>\n    <path d=\"M 329.521166 153.264173 \nL 329.508681 153.319537 \n\" clip-path=\"url(#p7171bf712f)\" style=\"fill: none; stroke: #000000\"/>\n    <path d=\"M 313.529201 154.711786 \nL 329.508681 153.319537 \n\" clip-path=\"url(#p7171bf712f)\" style=\"fill: none; stroke: #000000\"/>\n    <path d=\"M 346.611674 243.290795 \nL 284.724242 164.534553 \n\" clip-path=\"url(#p7171bf712f)\" style=\"fill: none; stroke: #000000\"/>\n    <path d=\"M 284.724242 164.534553 \nL 285.441288 145.693661 \n\" clip-path=\"url(#p7171bf712f)\" style=\"fill: none; stroke: #000000\"/>\n    <path d=\"M 346.858537 243.795945 \nL 346.884865 243.847939 \n\" clip-path=\"url(#p7171bf712f)\" style=\"fill: none; stroke: #000000\"/>\n    <path d=\"M 284.208255 145.477806 \nL 284.541164 145.534308 \n\" clip-path=\"url(#p7171bf712f)\" style=\"fill: none; stroke: #000000\"/>\n    <path d=\"M 284.208255 145.477806 \nL 284.141688 145.465376 \n\" clip-path=\"url(#p7171bf712f)\" style=\"fill: none; stroke: #000000\"/>\n    <path d=\"M 284.541164 145.534308 \nL 285.373364 145.681231 \n\" clip-path=\"url(#p7171bf712f)\" style=\"fill: none; stroke: #000000\"/>\n    <path d=\"M 284.541164 145.534308 \nL 285.095964 145.443887 \n\" clip-path=\"url(#p7171bf712f)\" style=\"fill: none; stroke: #000000\"/>\n    <path d=\"M 285.373364 145.681231 \nL 285.441288 145.693661 \n\" clip-path=\"url(#p7171bf712f)\" style=\"fill: none; stroke: #000000\"/>\n    <path d=\"M 311.143616 154.710692 \nL 311.075622 154.701632 \n\" clip-path=\"url(#p7171bf712f)\" style=\"fill: none; stroke: #000000\"/>\n    <path d=\"M 300.286266 148.21149 \nL 311.075622 154.701632 \n\" clip-path=\"url(#p7171bf712f)\" style=\"fill: none; stroke: #000000\"/>\n    <path d=\"M 367.635585 159.683064 \nL 367.5718 159.702277 \n\" clip-path=\"url(#p7171bf712f)\" style=\"fill: none; stroke: #000000\"/>\n    <path d=\"M 347.496529 164.519891 \nL 347.464637 164.470173 \n\" clip-path=\"url(#p7171bf712f)\" style=\"fill: none; stroke: #000000\"/>\n    <path d=\"M 347.914056 176.385843 \nL 337.837536 168.884306 \n\" clip-path=\"url(#p7171bf712f)\" style=\"fill: none; stroke: #000000\"/>\n    <path d=\"M 337.837536 168.884306 \nL 337.89861 168.859447 \n\" clip-path=\"url(#p7171bf712f)\" style=\"fill: none; stroke: #000000\"/>\n    <path d=\"M 344.048504 167.078423 \nL 349.739276 175.879599 \n\" clip-path=\"url(#p7171bf712f)\" style=\"fill: none; stroke: #000000\"/>\n    <path d=\"M 349.739276 175.879599 \nL 349.757327 175.933825 \n\" clip-path=\"url(#p7171bf712f)\" style=\"fill: none; stroke: #000000\"/>\n    <path d=\"M 355.707518 229.726275 \nL 346.993099 243.459164 \n\" clip-path=\"url(#p7171bf712f)\" style=\"fill: none; stroke: #000000\"/>\n    <path d=\"M 355.707518 229.726275 \nL 355.767165 229.69577 \n\" clip-path=\"url(#p7171bf712f)\" style=\"fill: none; stroke: #000000\"/>\n    <path d=\"M 346.993099 243.459164 \nL 346.927887 243.479515 \n\" clip-path=\"url(#p7171bf712f)\" style=\"fill: none; stroke: #000000\"/>\n    <path d=\"M 410.174566 361.461265 \nL 410.37013 361.352768 \n\" clip-path=\"url(#p7171bf712f)\" style=\"fill: none; stroke: #000000\"/>\n    <path d=\"M 410.37013 361.352768 \nL 410.784803 361.122251 \n\" clip-path=\"url(#p7171bf712f)\" style=\"fill: none; stroke: #000000\"/>\n    <path d=\"M 410.37013 361.352768 \nL 406.56558 361.603636 \n\" clip-path=\"url(#p7171bf712f)\" style=\"fill: none; stroke: #000000\"/>\n    <path d=\"M 410.784803 361.122251 \nL 409.966515 359.901742 \n\" clip-path=\"url(#p7171bf712f)\" style=\"fill: none; stroke: #000000\"/>\n    <path d=\"M 409.966515 359.901742 \nL 392.490445 331.965827 \n\" clip-path=\"url(#p7171bf712f)\" style=\"fill: none; stroke: #000000\"/>\n    <path d=\"M 366.401197 321.648063 \nL 366.872806 321.783695 \n\" clip-path=\"url(#p7171bf712f)\" style=\"fill: none; stroke: #000000\"/>\n    <path d=\"M 351.547942 168.600657 \nL 353.108318 167.712377 \n\" clip-path=\"url(#p7171bf712f)\" style=\"fill: none; stroke: #000000\"/>\n    <path d=\"M 353.108318 167.712377 \nL 359.244371 164.226045 \n\" clip-path=\"url(#p7171bf712f)\" style=\"fill: none; stroke: #000000\"/>\n    <path d=\"M 359.244371 164.226045 \nL 367.5718 159.702277 \n\" clip-path=\"url(#p7171bf712f)\" style=\"fill: none; stroke: #000000\"/>\n    <path d=\"M 395.30326 209.967736 \nL 377.60808 218.741776 \n\" clip-path=\"url(#p7171bf712f)\" style=\"fill: none; stroke: #000000\"/>\n    <path d=\"M 377.60808 218.741776 \nL 355.767165 229.69577 \n\" clip-path=\"url(#p7171bf712f)\" style=\"fill: none; stroke: #000000\"/>\n    <path d=\"M 341.108048 154.771702 \nL 344.500635 159.942991 \n\" clip-path=\"url(#p7171bf712f)\" style=\"fill: none; stroke: #000000\"/>\n    <path d=\"M 344.500635 159.942991 \nL 347.464637 164.470173 \n\" clip-path=\"url(#p7171bf712f)\" style=\"fill: none; stroke: #000000\"/>\n    <path d=\"M 374.390223 301.272464 \nL 374.334786 300.436222 \n\" clip-path=\"url(#p7171bf712f)\" style=\"fill: none; stroke: #000000\"/>\n    <path d=\"M 374.390223 301.272464 \nL 367.795119 319.320092 \n\" clip-path=\"url(#p7171bf712f)\" style=\"fill: none; stroke: #000000\"/>\n    <path d=\"M 374.390223 301.272464 \nL 374.064306 300.526643 \n\" clip-path=\"url(#p7171bf712f)\" style=\"fill: none; stroke: #000000\"/>\n    <path d=\"M 294.451158 210.345176 \nL 348.904364 251.073748 \n\" clip-path=\"url(#p7171bf712f)\" style=\"fill: none; stroke: #000000\"/>\n    <path d=\"M 294.451158 210.345176 \nL 262.404798 142.324841 \n\" clip-path=\"url(#p7171bf712f)\" style=\"fill: none; stroke: #000000\"/>\n    <path d=\"M 348.904364 251.073748 \nL 364.820058 318.065664 \n\" clip-path=\"url(#p7171bf712f)\" style=\"fill: none; stroke: #000000\"/>\n    <path d=\"M 348.904364 251.073748 \nL 350.32604 250.746027 \n\" clip-path=\"url(#p7171bf712f)\" style=\"fill: none; stroke: #000000\"/>\n    <path d=\"M 374.064306 300.526643 \nL 350.32604 250.746027 \n\" clip-path=\"url(#p7171bf712f)\" style=\"fill: none; stroke: #000000\"/>\n    <path d=\"M 350.32604 250.746027 \nL 346.884865 243.847939 \n\" clip-path=\"url(#p7171bf712f)\" style=\"fill: none; stroke: #000000\"/>\n    <path d=\"M 364.820058 318.065664 \nL 390.860718 332.666481 \n\" clip-path=\"url(#p7171bf712f)\" style=\"fill: none; stroke: #000000\"/>\n    <path d=\"M 364.820058 318.065664 \nL 367.795119 319.320092 \n\" clip-path=\"url(#p7171bf712f)\" style=\"fill: none; stroke: #000000\"/>\n    <path d=\"M 390.860718 332.666481 \nL 408.218923 360.03733 \n\" clip-path=\"url(#p7171bf712f)\" style=\"fill: none; stroke: #000000\"/>\n    <path d=\"M 390.860718 332.666481 \nL 392.490445 331.965827 \n\" clip-path=\"url(#p7171bf712f)\" style=\"fill: none; stroke: #000000\"/>\n    <path d=\"M 408.218923 360.03733 \nL 408.315956 360.195545 \n\" clip-path=\"url(#p7171bf712f)\" style=\"fill: none; stroke: #000000\"/>\n    <path d=\"M 372.601035 323.149946 \nL 392.490445 331.965827 \n\" clip-path=\"url(#p7171bf712f)\" style=\"fill: none; stroke: #000000\"/>\n    <path d=\"M 124.083261 123.226253 \nL 262.404798 142.324841 \n\" clip-path=\"url(#p7171bf712f)\" style=\"fill: none; stroke: #000000\"/>\n    <path d=\"M 124.083261 123.226253 \nL 57.248431 103.384076 \n\" clip-path=\"url(#p7171bf712f)\" style=\"fill: none; stroke: #000000\"/>\n    <path d=\"M 262.404798 142.324841 \nL 262.675277 141.578976 \n\" clip-path=\"url(#p7171bf712f)\" style=\"fill: none; stroke: #000000\"/>\n    <path d=\"M 262.675277 141.578976 \nL 284.141688 145.465376 \n\" clip-path=\"url(#p7171bf712f)\" style=\"fill: none; stroke: #000000\"/>\n    <path d=\"M 262.675277 141.578976 \nL 200.477197 128.537726 \n\" clip-path=\"url(#p7171bf712f)\" style=\"fill: none; stroke: #000000\"/>\n    <path d=\"M 412.296663 357.969286 \nL 408.315956 360.195545 \n\" clip-path=\"url(#p7171bf712f)\" style=\"fill: none; stroke: #000000\"/>\n    <path d=\"M 422.664353 149.873864 \nL 423.098505 155.976368 \n\" clip-path=\"url(#p7171bf712f)\" style=\"fill: none; stroke: #000000\"/>\n    <path d=\"M 422.664353 149.873864 \nL 431.353872 134.866239 \n\" clip-path=\"url(#p7171bf712f)\" style=\"fill: none; stroke: #000000\"/>\n    <path d=\"M 404.071832 161.762442 \nL 378.824488 173.075801 \n\" clip-path=\"url(#p7171bf712f)\" style=\"fill: none; stroke: #000000\"/>\n    <path d=\"M 404.071832 161.762442 \nL 400.444796 168.757734 \n\" clip-path=\"url(#p7171bf712f)\" style=\"fill: none; stroke: #000000\"/>\n    <path d=\"M 56.958545 103.281269 \nL 57.248431 103.384076 \n\" clip-path=\"url(#p7171bf712f)\" style=\"fill: none; stroke: #000000\"/>\n    <path d=\"M 57.248431 103.384076 \nL 56.255341 102.838267 \n\" clip-path=\"url(#p7171bf712f)\" style=\"fill: none; stroke: #000000\"/>\n    <path d=\"M 484.311842 351.331083 \nL 484.155213 351.288245 \n\" clip-path=\"url(#p7171bf712f)\" style=\"fill: none; stroke: #000000\"/>\n    <path d=\"M 334.231405 182.592336 \nL 342.239838 182.258968 \n\" clip-path=\"url(#p7171bf712f)\" style=\"fill: none; stroke: #000000\"/>\n    <path d=\"M 334.231405 182.592336 \nL 333.164827 181.645321 \n\" clip-path=\"url(#p7171bf712f)\" style=\"fill: none; stroke: #000000\"/>\n    <path d=\"M 316.192186 163.283538 \nL 314.158917 170.078819 \n\" clip-path=\"url(#p7171bf712f)\" style=\"fill: none; stroke: #000000\"/>\n    <path d=\"M 316.192186 163.283538 \nL 325.426802 166.732626 \n\" clip-path=\"url(#p7171bf712f)\" style=\"fill: none; stroke: #000000\"/>\n    <path d=\"M 316.192186 163.283538 \nL 312.554162 161.236941 \n\" clip-path=\"url(#p7171bf712f)\" style=\"fill: none; stroke: #000000\"/>\n    <path d=\"M 325.426802 166.732626 \nL 327.725057 168.737383 \n\" clip-path=\"url(#p7171bf712f)\" style=\"fill: none; stroke: #000000\"/>\n    <path d=\"M 325.426802 166.732626 \nL 323.227007 161.674297 \n\" clip-path=\"url(#p7171bf712f)\" style=\"fill: none; stroke: #000000\"/>\n    <path d=\"M 328.630746 176.518104 \nL 333.164827 181.645321 \n\" clip-path=\"url(#p7171bf712f)\" style=\"fill: none; stroke: #000000\"/>\n    <path d=\"M 328.630746 176.518104 \nL 329.199388 176.245747 \n\" clip-path=\"url(#p7171bf712f)\" style=\"fill: none; stroke: #000000\"/>\n    <path d=\"M 328.630746 176.518104 \nL 327.564168 175.312257 \n\" clip-path=\"url(#p7171bf712f)\" style=\"fill: none; stroke: #000000\"/>\n    <path d=\"M 333.164827 181.645321 \nL 334.388156 180.801158 \n\" clip-path=\"url(#p7171bf712f)\" style=\"fill: none; stroke: #000000\"/>\n    <path d=\"M 327.564168 175.312257 \nL 326.070359 175.797099 \n\" clip-path=\"url(#p7171bf712f)\" style=\"fill: none; stroke: #000000\"/>\n    <path d=\"M 327.564168 175.312257 \nL 328.854065 170.600907 \n\" clip-path=\"url(#p7171bf712f)\" style=\"fill: none; stroke: #000000\"/>\n    <path d=\"M 326.070359 175.797099 \nL 324.658386 180.185235 \n\" clip-path=\"url(#p7171bf712f)\" style=\"fill: none; stroke: #000000\"/>\n    <path d=\"M 328.854065 170.600907 \nL 327.693165 170.772689 \n\" clip-path=\"url(#p7171bf712f)\" style=\"fill: none; stroke: #000000\"/>\n    <path d=\"M 328.854065 170.600907 \nL 327.725057 168.737383 \n\" clip-path=\"url(#p7171bf712f)\" style=\"fill: none; stroke: #000000\"/>\n    <path d=\"M 327.693165 170.772689 \nL 318.023042 171.041633 \n\" clip-path=\"url(#p7171bf712f)\" style=\"fill: none; stroke: #000000\"/>\n    <path d=\"M 312.515349 161.084415 \nL 312.544459 161.201928 \n\" clip-path=\"url(#p7171bf712f)\" style=\"fill: none; stroke: #000000\"/>\n    <path d=\"M 312.515349 161.084415 \nL 312.365518 161.105861 \n\" clip-path=\"url(#p7171bf712f)\" style=\"fill: none; stroke: #000000\"/>\n    <path d=\"M 312.544459 161.201928 \nL 312.554162 161.236941 \n\" clip-path=\"url(#p7171bf712f)\" style=\"fill: none; stroke: #000000\"/>\n    <path d=\"M 312.365518 161.105861 \nL 311.683148 161.205298 \n\" clip-path=\"url(#p7171bf712f)\" style=\"fill: none; stroke: #000000\"/>\n    <path d=\"M 311.683148 161.205298 \nL 308.817607 161.406491 \n\" clip-path=\"url(#p7171bf712f)\" style=\"fill: none; stroke: #000000\"/>\n    <path d=\"M 308.817607 161.406491 \nL 307.328008 161.206436 \n\" clip-path=\"url(#p7171bf712f)\" style=\"fill: none; stroke: #000000\"/>\n    <path d=\"M 307.328008 161.206436 \nL 306.785693 161.06971 \n\" clip-path=\"url(#p7171bf712f)\" style=\"fill: none; stroke: #000000\"/>\n    <path d=\"M 307.328008 161.206436 \nL 306.93267 162.224658 \n\" clip-path=\"url(#p7171bf712f)\" style=\"fill: none; stroke: #000000\"/>\n    <path d=\"M 306.785693 161.06971 \nL 293.169609 160.903573 \n\" clip-path=\"url(#p7171bf712f)\" style=\"fill: none; stroke: #000000\"/>\n    <path d=\"M 136.38305 123.233037 \nL 200.477197 128.537726 \n\" clip-path=\"url(#p7171bf712f)\" style=\"fill: none; stroke: #000000\"/>\n    <path d=\"M 136.38305 123.233037 \nL 136.3137 123.226253 \n\" clip-path=\"url(#p7171bf712f)\" style=\"fill: none; stroke: #000000\"/>\n    <path d=\"M 136.3137 123.226253 \nL 103.906748 120.830488 \n\" clip-path=\"url(#p7171bf712f)\" style=\"fill: none; stroke: #000000\"/>\n    <path d=\"M 103.906748 120.830488 \nL 101.618196 120.559268 \n\" clip-path=\"url(#p7171bf712f)\" style=\"fill: none; stroke: #000000\"/>\n    <path d=\"M 101.618196 120.559268 \nL 101.210444 120.514058 \n\" clip-path=\"url(#p7171bf712f)\" style=\"fill: none; stroke: #000000\"/>\n    <path d=\"M 101.210444 120.514058 \nL 101.139667 120.508412 \n\" clip-path=\"url(#p7171bf712f)\" style=\"fill: none; stroke: #000000\"/>\n    <path d=\"M 101.139667 120.508412 \nL 99.479475 120.367135 \n\" clip-path=\"url(#p7171bf712f)\" style=\"fill: none; stroke: #000000\"/>\n    <path d=\"M 99.479475 120.367135 \nL 64.770058 106.896406 \n\" clip-path=\"url(#p7171bf712f)\" style=\"fill: none; stroke: #000000\"/>\n    <path d=\"M 64.102956 107.495391 \nL 62.652099 109.314842 \n\" clip-path=\"url(#p7171bf712f)\" style=\"fill: none; stroke: #000000\"/>\n    <path d=\"M 64.102956 107.495391 \nL 64.559226 107.154101 \n\" clip-path=\"url(#p7171bf712f)\" style=\"fill: none; stroke: #000000\"/>\n    <path d=\"M 62.652099 109.314842 \nL 55.621488 115.315633 \n\" clip-path=\"url(#p7171bf712f)\" style=\"fill: none; stroke: #000000\"/>\n    <path d=\"M 62.652099 109.314842 \nL 62.8782 109.479797 \n\" clip-path=\"url(#p7171bf712f)\" style=\"fill: none; stroke: #000000\"/>\n    <path d=\"M 62.8782 109.479797 \nL 62.929499 109.518223 \n\" clip-path=\"url(#p7171bf712f)\" style=\"fill: none; stroke: #000000\"/>\n    <path d=\"M 62.929499 109.518223 \nL 67.918494 117.914824 \n\" clip-path=\"url(#p7171bf712f)\" style=\"fill: none; stroke: #000000\"/>\n    <path d=\"M 64.559226 107.154101 \nL 64.596683 107.106615 \n\" clip-path=\"url(#p7171bf712f)\" style=\"fill: none; stroke: #000000\"/>\n    <path d=\"M 64.770058 106.896406 \nL 63.231871 106.161877 \n\" clip-path=\"url(#p7171bf712f)\" style=\"fill: none; stroke: #000000\"/>\n    <path d=\"M 64.770058 106.896406 \nL 64.596683 107.106615 \n\" clip-path=\"url(#p7171bf712f)\" style=\"fill: none; stroke: #000000\"/>\n    <path d=\"M 63.231871 106.161877 \nL 62.97666 106.037537 \n\" clip-path=\"url(#p7171bf712f)\" style=\"fill: none; stroke: #000000\"/>\n    <path d=\"M 414.155202 196.478931 \nL 415.085862 196.584014 \n\" clip-path=\"url(#p7171bf712f)\" style=\"fill: none; stroke: #000000\"/>\n    <path d=\"M 293.169609 160.903573 \nL 291.422016 164.521029 \n\" clip-path=\"url(#p7171bf712f)\" style=\"fill: none; stroke: #000000\"/>\n    <path d=\"M 293.169609 160.903573 \nL 288.679907 155.648646 \n\" clip-path=\"url(#p7171bf712f)\" style=\"fill: none; stroke: #000000\"/>\n    <path d=\"M 291.422016 164.521029 \nL 291.290237 165.008104 \n\" clip-path=\"url(#p7171bf712f)\" style=\"fill: none; stroke: #000000\"/>\n    <path d=\"M 291.422016 164.521029 \nL 299.763358 167.130417 \n\" clip-path=\"url(#p7171bf712f)\" style=\"fill: none; stroke: #000000\"/>\n   </g>\n   <g id=\"PathCollection_1\">\n    <defs>\n     <path id=\"m51a3b51c5e\" d=\"M 0 2.236068 \nC 0.593012 2.236068 1.161816 2.000462 1.581139 1.581139 \nC 2.000462 1.161816 2.236068 0.593012 2.236068 0 \nC 2.236068 -0.593012 2.000462 -1.161816 1.581139 -1.581139 \nC 1.161816 -2.000462 0.593012 -2.236068 0 -2.236068 \nC -0.593012 -2.236068 -1.161816 -2.000462 -1.581139 -1.581139 \nC -2.000462 -1.161816 -2.236068 -0.593012 -2.236068 0 \nC -2.236068 0.593012 -2.000462 1.161816 -1.581139 1.581139 \nC -1.161816 2.000462 -0.593012 2.236068 0 2.236068 \nz\n\" style=\"stroke: #1f78b4\"/>\n    </defs>\n    <g clip-path=\"url(#p7171bf712f)\">\n     <use xlink:href=\"#m51a3b51c5e\" x=\"372.046234\" y=\"323.490141\" style=\"fill: #1f78b4; stroke: #1f78b4\"/>\n     <use xlink:href=\"#m51a3b51c5e\" x=\"372.545526\" y=\"323.185003\" style=\"fill: #1f78b4; stroke: #1f78b4\"/>\n     <use xlink:href=\"#m51a3b51c5e\" x=\"366.937946\" y=\"321.805141\" style=\"fill: #1f78b4; stroke: #1f78b4\"/>\n     <use xlink:href=\"#m51a3b51c5e\" x=\"484.531023\" y=\"353.256798\" style=\"fill: #1f78b4; stroke: #1f78b4\"/>\n     <use xlink:href=\"#m51a3b51c5e\" x=\"411.880563\" y=\"359.89045\" style=\"fill: #1f78b4; stroke: #1f78b4\"/>\n     <use xlink:href=\"#m51a3b51c5e\" x=\"405.431079\" y=\"79.039621\" style=\"fill: #1f78b4; stroke: #1f78b4\"/>\n     <use xlink:href=\"#m51a3b51c5e\" x=\"422.518733\" y=\"148.619479\" style=\"fill: #1f78b4; stroke: #1f78b4\"/>\n     <use xlink:href=\"#m51a3b51c5e\" x=\"421.39529\" y=\"61.92999\" style=\"fill: #1f78b4; stroke: #1f78b4\"/>\n     <use xlink:href=\"#m51a3b51c5e\" x=\"430.896176\" y=\"154.563768\" style=\"fill: #1f78b4; stroke: #1f78b4\"/>\n     <use xlink:href=\"#m51a3b51c5e\" x=\"430.993281\" y=\"154.959284\" style=\"fill: #1f78b4; stroke: #1f78b4\"/>\n     <use xlink:href=\"#m51a3b51c5e\" x=\"423.129042\" y=\"156.575309\" style=\"fill: #1f78b4; stroke: #1f78b4\"/>\n     <use xlink:href=\"#m51a3b51c5e\" x=\"424.50213\" y=\"148.461264\" style=\"fill: #1f78b4; stroke: #1f78b4\"/>\n     <use xlink:href=\"#m51a3b51c5e\" x=\"423.184479\" y=\"148.568623\" style=\"fill: #1f78b4; stroke: #1f78b4\"/>\n     <use xlink:href=\"#m51a3b51c5e\" x=\"421.561745\" y=\"158.044455\" style=\"fill: #1f78b4; stroke: #1f78b4\"/>\n     <use xlink:href=\"#m51a3b51c5e\" x=\"405.417166\" y=\"161.43472\" style=\"fill: #1f78b4; stroke: #1f78b4\"/>\n     <use xlink:href=\"#m51a3b51c5e\" x=\"420.884868\" y=\"158.182319\" style=\"fill: #1f78b4; stroke: #1f78b4\"/>\n     <use xlink:href=\"#m51a3b51c5e\" x=\"422.615837\" y=\"165.491765\" style=\"fill: #1f78b4; stroke: #1f78b4\"/>\n     <use xlink:href=\"#m51a3b51c5e\" x=\"421.847421\" y=\"159.998399\" style=\"fill: #1f78b4; stroke: #1f78b4\"/>\n     <use xlink:href=\"#m51a3b51c5e\" x=\"425.778185\" y=\"175.312257\" style=\"fill: #1f78b4; stroke: #1f78b4\"/>\n     <use xlink:href=\"#m51a3b51c5e\" x=\"425.556222\" y=\"174.939324\" style=\"fill: #1f78b4; stroke: #1f78b4\"/>\n     <use xlink:href=\"#m51a3b51c5e\" x=\"433.059869\" y=\"188.771694\" style=\"fill: #1f78b4; stroke: #1f78b4\"/>\n     <use xlink:href=\"#m51a3b51c5e\" x=\"426.166531\" y=\"176.053613\" style=\"fill: #1f78b4; stroke: #1f78b4\"/>\n     <use xlink:href=\"#m51a3b51c5e\" x=\"411.173221\" y=\"183.053413\" style=\"fill: #1f78b4; stroke: #1f78b4\"/>\n     <use xlink:href=\"#m51a3b51c5e\" x=\"425.215037\" y=\"175.490823\" style=\"fill: #1f78b4; stroke: #1f78b4\"/>\n     <use xlink:href=\"#m51a3b51c5e\" x=\"433.072355\" y=\"154.549063\" style=\"fill: #1f78b4; stroke: #1f78b4\"/>\n     <use xlink:href=\"#m51a3b51c5e\" x=\"443.582955\" y=\"152.33182\" style=\"fill: #1f78b4; stroke: #1f78b4\"/>\n     <use xlink:href=\"#m51a3b51c5e\" x=\"430.729722\" y=\"153.806612\" style=\"fill: #1f78b4; stroke: #1f78b4\"/>\n     <use xlink:href=\"#m51a3b51c5e\" x=\"432.019619\" y=\"154.337759\" style=\"fill: #1f78b4; stroke: #1f78b4\"/>\n     <use xlink:href=\"#m51a3b51c5e\" x=\"423.101287\" y=\"156.03287\" style=\"fill: #1f78b4; stroke: #1f78b4\"/>\n     <use xlink:href=\"#m51a3b51c5e\" x=\"423.115129\" y=\"148.574268\" style=\"fill: #1f78b4; stroke: #1f78b4\"/>\n     <use xlink:href=\"#m51a3b51c5e\" x=\"420.951436\" y=\"158.168751\" style=\"fill: #1f78b4; stroke: #1f78b4\"/>\n     <use xlink:href=\"#m51a3b51c5e\" x=\"421.839145\" y=\"159.942991\" style=\"fill: #1f78b4; stroke: #1f78b4\"/>\n     <use xlink:href=\"#m51a3b51c5e\" x=\"425.528539\" y=\"174.887374\" style=\"fill: #1f78b4; stroke: #1f78b4\"/>\n     <use xlink:href=\"#m51a3b51c5e\" x=\"433.20549\" y=\"189.07228\" style=\"fill: #1f78b4; stroke: #1f78b4\"/>\n     <use xlink:href=\"#m51a3b51c5e\" x=\"432.394123\" y=\"189.031621\" style=\"fill: #1f78b4; stroke: #1f78b4\"/>\n     <use xlink:href=\"#m51a3b51c5e\" x=\"425.278893\" y=\"175.470472\" style=\"fill: #1f78b4; stroke: #1f78b4\"/>\n     <use xlink:href=\"#m51a3b51c5e\" x=\"423.572896\" y=\"165.344842\" style=\"fill: #1f78b4; stroke: #1f78b4\"/>\n     <use xlink:href=\"#m51a3b51c5e\" x=\"426.069427\" y=\"164.372968\" style=\"fill: #1f78b4; stroke: #1f78b4\"/>\n     <use xlink:href=\"#m51a3b51c5e\" x=\"426.22204\" y=\"164.960618\" style=\"fill: #1f78b4; stroke: #1f78b4\"/>\n     <use xlink:href=\"#m51a3b51c5e\" x=\"419.730889\" y=\"194.331759\" style=\"fill: #1f78b4; stroke: #1f78b4\"/>\n     <use xlink:href=\"#m51a3b51c5e\" x=\"432.331694\" y=\"189.055343\" style=\"fill: #1f78b4; stroke: #1f78b4\"/>\n     <use xlink:href=\"#m51a3b51c5e\" x=\"423.309337\" y=\"199.179835\" style=\"fill: #1f78b4; stroke: #1f78b4\"/>\n     <use xlink:href=\"#m51a3b51c5e\" x=\"420.030478\" y=\"194.730688\" style=\"fill: #1f78b4; stroke: #1f78b4\"/>\n     <use xlink:href=\"#m51a3b51c5e\" x=\"429.523017\" y=\"195.258422\" style=\"fill: #1f78b4; stroke: #1f78b4\"/>\n     <use xlink:href=\"#m51a3b51c5e\" x=\"423.031937\" y=\"207.938076\" style=\"fill: #1f78b4; stroke: #1f78b4\"/>\n     <use xlink:href=\"#m51a3b51c5e\" x=\"415.750253\" y=\"196.671022\" style=\"fill: #1f78b4; stroke: #1f78b4\"/>\n     <use xlink:href=\"#m51a3b51c5e\" x=\"405.417166\" y=\"209.158585\" style=\"fill: #1f78b4; stroke: #1f78b4\"/>\n     <use xlink:href=\"#m51a3b51c5e\" x=\"415.698954\" y=\"196.96373\" style=\"fill: #1f78b4; stroke: #1f78b4\"/>\n     <use xlink:href=\"#m51a3b51c5e\" x=\"415.708657\" y=\"196.908366\" style=\"fill: #1f78b4; stroke: #1f78b4\"/>\n     <use xlink:href=\"#m51a3b51c5e\" x=\"419.994448\" y=\"194.682064\" style=\"fill: #1f78b4; stroke: #1f78b4\"/>\n     <use xlink:href=\"#m51a3b51c5e\" x=\"415.153857\" y=\"196.591936\" style=\"fill: #1f78b4; stroke: #1f78b4\"/>\n     <use xlink:href=\"#m51a3b51c5e\" x=\"423.642246\" y=\"165.334688\" style=\"fill: #1f78b4; stroke: #1f78b4\"/>\n     <use xlink:href=\"#m51a3b51c5e\" x=\"425.112439\" y=\"160.767985\" style=\"fill: #1f78b4; stroke: #1f78b4\"/>\n     <use xlink:href=\"#m51a3b51c5e\" x=\"426.055585\" y=\"164.317604\" style=\"fill: #1f78b4; stroke: #1f78b4\"/>\n     <use xlink:href=\"#m51a3b51c5e\" x=\"438.982307\" y=\"165.141416\" style=\"fill: #1f78b4; stroke: #1f78b4\"/>\n     <use xlink:href=\"#m51a3b51c5e\" x=\"426.46612\" y=\"165.567481\" style=\"fill: #1f78b4; stroke: #1f78b4\"/>\n     <use xlink:href=\"#m51a3b51c5e\" x=\"441.464996\" y=\"168.226587\" style=\"fill: #1f78b4; stroke: #1f78b4\"/>\n     <use xlink:href=\"#m51a3b51c5e\" x=\"439.066925\" y=\"165.603632\" style=\"fill: #1f78b4; stroke: #1f78b4\"/>\n     <use xlink:href=\"#m51a3b51c5e\" x=\"436.097359\" y=\"158.948534\" style=\"fill: #1f78b4; stroke: #1f78b4\"/>\n     <use xlink:href=\"#m51a3b51c5e\" x=\"438.968465\" y=\"164.542475\" style=\"fill: #1f78b4; stroke: #1f78b4\"/>\n     <use xlink:href=\"#m51a3b51c5e\" x=\"433.004361\" y=\"154.563768\" style=\"fill: #1f78b4; stroke: #1f78b4\"/>\n     <use xlink:href=\"#m51a3b51c5e\" x=\"426.443931\" y=\"165.514348\" style=\"fill: #1f78b4; stroke: #1f78b4\"/>\n     <use xlink:href=\"#m51a3b51c5e\" x=\"439.051657\" y=\"165.548267\" style=\"fill: #1f78b4; stroke: #1f78b4\"/>\n     <use xlink:href=\"#m51a3b51c5e\" x=\"438.968465\" y=\"164.598977\" style=\"fill: #1f78b4; stroke: #1f78b4\"/>\n     <use xlink:href=\"#m51a3b51c5e\" x=\"421.409132\" y=\"61.918699\" style=\"fill: #1f78b4; stroke: #1f78b4\"/>\n     <use xlink:href=\"#m51a3b51c5e\" x=\"439.245866\" y=\"40.876364\" style=\"fill: #1f78b4; stroke: #1f78b4\"/>\n     <use xlink:href=\"#m51a3b51c5e\" x=\"421.449372\" y=\"61.87235\" style=\"fill: #1f78b4; stroke: #1f78b4\"/>\n     <use xlink:href=\"#m51a3b51c5e\" x=\"484.79451\" y=\"353.290673\" style=\"fill: #1f78b4; stroke: #1f78b4\"/>\n     <use xlink:href=\"#m51a3b51c5e\" x=\"484.572618\" y=\"353.008162\" style=\"fill: #1f78b4; stroke: #1f78b4\"/>\n     <use xlink:href=\"#m51a3b51c5e\" x=\"327.953869\" y=\"65.749734\" style=\"fill: #1f78b4; stroke: #1f78b4\"/>\n     <use xlink:href=\"#m51a3b51c5e\" x=\"327.274282\" y=\"65.987035\" style=\"fill: #1f78b4; stroke: #1f78b4\"/>\n     <use xlink:href=\"#m51a3b51c5e\" x=\"327.210425\" y=\"66.008524\" style=\"fill: #1f78b4; stroke: #1f78b4\"/>\n     <use xlink:href=\"#m51a3b51c5e\" x=\"355.151362\" y=\"131.481619\" style=\"fill: #1f78b4; stroke: #1f78b4\"/>\n     <use xlink:href=\"#m51a3b51c5e\" x=\"355.180472\" y=\"131.532476\" style=\"fill: #1f78b4; stroke: #1f78b4\"/>\n     <use xlink:href=\"#m51a3b51c5e\" x=\"356.720015\" y=\"133.871738\" style=\"fill: #1f78b4; stroke: #1f78b4\"/>\n     <use xlink:href=\"#m51a3b51c5e\" x=\"413.281405\" y=\"358.466515\" style=\"fill: #1f78b4; stroke: #1f78b4\"/>\n     <use xlink:href=\"#m51a3b51c5e\" x=\"413.198214\" y=\"357.822363\" style=\"fill: #1f78b4; stroke: #1f78b4\"/>\n     <use xlink:href=\"#m51a3b51c5e\" x=\"516.778512\" y=\"302.877197\" style=\"fill: #1f78b4; stroke: #1f78b4\"/>\n     <use xlink:href=\"#m51a3b51c5e\" x=\"484.582322\" y=\"352.95166\" style=\"fill: #1f78b4; stroke: #1f78b4\"/>\n     <use xlink:href=\"#m51a3b51c5e\" x=\"364.140399\" y=\"153.004245\" style=\"fill: #1f78b4; stroke: #1f78b4\"/>\n     <use xlink:href=\"#m51a3b51c5e\" x=\"364.334608\" y=\"153.060747\" style=\"fill: #1f78b4; stroke: #1f78b4\"/>\n     <use xlink:href=\"#m51a3b51c5e\" x=\"364.015612\" y=\"151.422095\" style=\"fill: #1f78b4; stroke: #1f78b4\"/>\n     <use xlink:href=\"#m51a3b51c5e\" x=\"363.946262\" y=\"152.947743\" style=\"fill: #1f78b4; stroke: #1f78b4\"/>\n     <use xlink:href=\"#m51a3b51c5e\" x=\"411.159308\" y=\"173.990078\" style=\"fill: #1f78b4; stroke: #1f78b4\"/>\n     <use xlink:href=\"#m51a3b51c5e\" x=\"387.631803\" y=\"187.405399\" style=\"fill: #1f78b4; stroke: #1f78b4\"/>\n     <use xlink:href=\"#m51a3b51c5e\" x=\"378.578981\" y=\"173.165084\" style=\"fill: #1f78b4; stroke: #1f78b4\"/>\n     <use xlink:href=\"#m51a3b51c5e\" x=\"386.359957\" y=\"187.833695\" style=\"fill: #1f78b4; stroke: #1f78b4\"/>\n     <use xlink:href=\"#m51a3b51c5e\" x=\"390.826043\" y=\"201.044496\" style=\"fill: #1f78b4; stroke: #1f78b4\"/>\n     <use xlink:href=\"#m51a3b51c5e\" x=\"396.304698\" y=\"209.46368\" style=\"fill: #1f78b4; stroke: #1f78b4\"/>\n     <use xlink:href=\"#m51a3b51c5e\" x=\"388.190813\" y=\"193.631105\" style=\"fill: #1f78b4; stroke: #1f78b4\"/>\n     <use xlink:href=\"#m51a3b51c5e\" x=\"388.052112\" y=\"193.642397\" style=\"fill: #1f78b4; stroke: #1f78b4\"/>\n     <use xlink:href=\"#m51a3b51c5e\" x=\"379.050518\" y=\"150.009495\" style=\"fill: #1f78b4; stroke: #1f78b4\"/>\n     <use xlink:href=\"#m51a3b51c5e\" x=\"366.122441\" y=\"152.661818\" style=\"fill: #1f78b4; stroke: #1f78b4\"/>\n     <use xlink:href=\"#m51a3b51c5e\" x=\"387.219912\" y=\"147.026037\" style=\"fill: #1f78b4; stroke: #1f78b4\"/>\n     <use xlink:href=\"#m51a3b51c5e\" x=\"388.7317\" y=\"146.020245\" style=\"fill: #1f78b4; stroke: #1f78b4\"/>\n     <use xlink:href=\"#m51a3b51c5e\" x=\"386.443148\" y=\"154.597643\" style=\"fill: #1f78b4; stroke: #1f78b4\"/>\n     <use xlink:href=\"#m51a3b51c5e\" x=\"387.418259\" y=\"147.215895\" style=\"fill: #1f78b4; stroke: #1f78b4\"/>\n     <use xlink:href=\"#m51a3b51c5e\" x=\"364.075188\" y=\"152.985032\" style=\"fill: #1f78b4; stroke: #1f78b4\"/>\n     <use xlink:href=\"#m51a3b51c5e\" x=\"361.297119\" y=\"147.04862\" style=\"fill: #1f78b4; stroke: #1f78b4\"/>\n     <use xlink:href=\"#m51a3b51c5e\" x=\"361.408064\" y=\"147.252046\" style=\"fill: #1f78b4; stroke: #1f78b4\"/>\n     <use xlink:href=\"#m51a3b51c5e\" x=\"360.996102\" y=\"146.520887\" style=\"fill: #1f78b4; stroke: #1f78b4\"/>\n     <use xlink:href=\"#m51a3b51c5e\" x=\"378.828627\" y=\"149.410554\" style=\"fill: #1f78b4; stroke: #1f78b4\"/>\n     <use xlink:href=\"#m51a3b51c5e\" x=\"369.521949\" y=\"144.720649\" style=\"fill: #1f78b4; stroke: #1f78b4\"/>\n     <use xlink:href=\"#m51a3b51c5e\" x=\"361.652145\" y=\"146.913033\" style=\"fill: #1f78b4; stroke: #1f78b4\"/>\n     <use xlink:href=\"#m51a3b51c5e\" x=\"300.338921\" y=\"147.9527\" style=\"fill: #1f78b4; stroke: #1f78b4\"/>\n     <use xlink:href=\"#m51a3b51c5e\" x=\"285.163887\" y=\"145.455222\" style=\"fill: #1f78b4; stroke: #1f78b4\"/>\n     <use xlink:href=\"#m51a3b51c5e\" x=\"300.602479\" y=\"147.997911\" style=\"fill: #1f78b4; stroke: #1f78b4\"/>\n     <use xlink:href=\"#m51a3b51c5e\" x=\"313.473692\" y=\"155.004494\" style=\"fill: #1f78b4; stroke: #1f78b4\"/>\n     <use xlink:href=\"#m51a3b51c5e\" x=\"313.515359\" y=\"154.767194\" style=\"fill: #1f78b4; stroke: #1f78b4\"/>\n     <use xlink:href=\"#m51a3b51c5e\" x=\"312.738596\" y=\"158.180043\" style=\"fill: #1f78b4; stroke: #1f78b4\"/>\n     <use xlink:href=\"#m51a3b51c5e\" x=\"313.336419\" y=\"155.557131\" style=\"fill: #1f78b4; stroke: #1f78b4\"/>\n     <use xlink:href=\"#m51a3b51c5e\" x=\"300.297325\" y=\"148.156126\" style=\"fill: #1f78b4; stroke: #1f78b4\"/>\n     <use xlink:href=\"#m51a3b51c5e\" x=\"368.661994\" y=\"159.332758\" style=\"fill: #1f78b4; stroke: #1f78b4\"/>\n     <use xlink:href=\"#m51a3b51c5e\" x=\"377.508193\" y=\"171.777343\" style=\"fill: #1f78b4; stroke: #1f78b4\"/>\n     <use xlink:href=\"#m51a3b51c5e\" x=\"364.736796\" y=\"153.230254\" style=\"fill: #1f78b4; stroke: #1f78b4\"/>\n     <use xlink:href=\"#m51a3b51c5e\" x=\"350.589527\" y=\"169.141958\" style=\"fill: #1f78b4; stroke: #1f78b4\"/>\n     <use xlink:href=\"#m51a3b51c5e\" x=\"351.491078\" y=\"168.633438\" style=\"fill: #1f78b4; stroke: #1f78b4\"/>\n     <use xlink:href=\"#m51a3b51c5e\" x=\"353.654771\" y=\"173.775361\" style=\"fill: #1f78b4; stroke: #1f78b4\"/>\n     <use xlink:href=\"#m51a3b51c5e\" x=\"350.775388\" y=\"169.496815\" style=\"fill: #1f78b4; stroke: #1f78b4\"/>\n     <use xlink:href=\"#m51a3b51c5e\" x=\"340.700295\" y=\"154.168209\" style=\"fill: #1f78b4; stroke: #1f78b4\"/>\n     <use xlink:href=\"#m51a3b51c5e\" x=\"329.646025\" y=\"152.812111\" style=\"fill: #1f78b4; stroke: #1f78b4\"/>\n     <use xlink:href=\"#m51a3b51c5e\" x=\"347.593634\" y=\"164.655479\" style=\"fill: #1f78b4; stroke: #1f78b4\"/>\n     <use xlink:href=\"#m51a3b51c5e\" x=\"341.0748\" y=\"154.721983\" style=\"fill: #1f78b4; stroke: #1f78b4\"/>\n     <use xlink:href=\"#m51a3b51c5e\" x=\"352.295524\" y=\"180.781945\" style=\"fill: #1f78b4; stroke: #1f78b4\"/>\n     <use xlink:href=\"#m51a3b51c5e\" x=\"349.883541\" y=\"176.328246\" style=\"fill: #1f78b4; stroke: #1f78b4\"/>\n     <use xlink:href=\"#m51a3b51c5e\" x=\"343.571402\" y=\"166.395845\" style=\"fill: #1f78b4; stroke: #1f78b4\"/>\n     <use xlink:href=\"#m51a3b51c5e\" x=\"344.015185\" y=\"167.028705\" style=\"fill: #1f78b4; stroke: #1f78b4\"/>\n     <use xlink:href=\"#m51a3b51c5e\" x=\"338.328552\" y=\"168.667313\" style=\"fill: #1f78b4; stroke: #1f78b4\"/>\n     <use xlink:href=\"#m51a3b51c5e\" x=\"349.798922\" y=\"176.069457\" style=\"fill: #1f78b4; stroke: #1f78b4\"/>\n     <use xlink:href=\"#m51a3b51c5e\" x=\"347.98198\" y=\"176.374551\" style=\"fill: #1f78b4; stroke: #1f78b4\"/>\n     <use xlink:href=\"#m51a3b51c5e\" x=\"335.318817\" y=\"160.654981\" style=\"fill: #1f78b4; stroke: #1f78b4\"/>\n     <use xlink:href=\"#m51a3b51c5e\" x=\"337.744642\" y=\"167.701086\" style=\"fill: #1f78b4; stroke: #1f78b4\"/>\n     <use xlink:href=\"#m51a3b51c5e\" x=\"346.733679\" y=\"243.536017\" style=\"fill: #1f78b4; stroke: #1f78b4\"/>\n     <use xlink:href=\"#m51a3b51c5e\" x=\"346.636646\" y=\"243.343883\" style=\"fill: #1f78b4; stroke: #1f78b4\"/>\n     <use xlink:href=\"#m51a3b51c5e\" x=\"397.132689\" y=\"210.077326\" style=\"fill: #1f78b4; stroke: #1f78b4\"/>\n     <use xlink:href=\"#m51a3b51c5e\" x=\"395.361551\" y=\"209.938325\" style=\"fill: #1f78b4; stroke: #1f78b4\"/>\n     <use xlink:href=\"#m51a3b51c5e\" x=\"341.518654\" y=\"154.06654\" style=\"fill: #1f78b4; stroke: #1f78b4\"/>\n     <use xlink:href=\"#m51a3b51c5e\" x=\"378.759277\" y=\"173.09729\" style=\"fill: #1f78b4; stroke: #1f78b4\"/>\n     <use xlink:href=\"#m51a3b51c5e\" x=\"387.566662\" y=\"187.426888\" style=\"fill: #1f78b4; stroke: #1f78b4\"/>\n     <use xlink:href=\"#m51a3b51c5e\" x=\"390.063193\" y=\"201.293132\" style=\"fill: #1f78b4; stroke: #1f78b4\"/>\n     <use xlink:href=\"#m51a3b51c5e\" x=\"387.985545\" y=\"193.653688\" style=\"fill: #1f78b4; stroke: #1f78b4\"/>\n     <use xlink:href=\"#m51a3b51c5e\" x=\"369.164069\" y=\"205.297045\" style=\"fill: #1f78b4; stroke: #1f78b4\"/>\n     <use xlink:href=\"#m51a3b51c5e\" x=\"369.189041\" y=\"205.350177\" style=\"fill: #1f78b4; stroke: #1f78b4\"/>\n     <use xlink:href=\"#m51a3b51c5e\" x=\"389.999408\" y=\"201.314578\" style=\"fill: #1f78b4; stroke: #1f78b4\"/>\n     <use xlink:href=\"#m51a3b51c5e\" x=\"364.800652\" y=\"153.252838\" style=\"fill: #1f78b4; stroke: #1f78b4\"/>\n     <use xlink:href=\"#m51a3b51c5e\" x=\"377.552571\" y=\"171.820278\" style=\"fill: #1f78b4; stroke: #1f78b4\"/>\n     <use xlink:href=\"#m51a3b51c5e\" x=\"366.054447\" y=\"152.676523\" style=\"fill: #1f78b4; stroke: #1f78b4\"/>\n     <use xlink:href=\"#m51a3b51c5e\" x=\"387.372453\" y=\"147.17296\" style=\"fill: #1f78b4; stroke: #1f78b4\"/>\n     <use xlink:href=\"#m51a3b51c5e\" x=\"366.609247\" y=\"321.30905\" style=\"fill: #1f78b4; stroke: #1f78b4\"/>\n     <use xlink:href=\"#m51a3b51c5e\" x=\"323.362924\" y=\"359.867823\" style=\"fill: #1f78b4; stroke: #1f78b4\"/>\n     <use xlink:href=\"#m51a3b51c5e\" x=\"361.437174\" y=\"147.302902\" style=\"fill: #1f78b4; stroke: #1f78b4\"/>\n     <use xlink:href=\"#m51a3b51c5e\" x=\"363.978155\" y=\"151.374652\" style=\"fill: #1f78b4; stroke: #1f78b4\"/>\n     <use xlink:href=\"#m51a3b51c5e\" x=\"361.019718\" y=\"146.574019\" style=\"fill: #1f78b4; stroke: #1f78b4\"/>\n     <use xlink:href=\"#m51a3b51c5e\" x=\"369.896383\" y=\"144.675439\" style=\"fill: #1f78b4; stroke: #1f78b4\"/>\n     <use xlink:href=\"#m51a3b51c5e\" x=\"378.80922\" y=\"149.356284\" style=\"fill: #1f78b4; stroke: #1f78b4\"/>\n     <use xlink:href=\"#m51a3b51c5e\" x=\"369.965733\" y=\"144.666423\" style=\"fill: #1f78b4; stroke: #1f78b4\"/>\n     <use xlink:href=\"#m51a3b51c5e\" x=\"361.58836\" y=\"146.935616\" style=\"fill: #1f78b4; stroke: #1f78b4\"/>\n     <use xlink:href=\"#m51a3b51c5e\" x=\"329.521166\" y=\"153.264173\" style=\"fill: #1f78b4; stroke: #1f78b4\"/>\n     <use xlink:href=\"#m51a3b51c5e\" x=\"313.348905\" y=\"155.501723\" style=\"fill: #1f78b4; stroke: #1f78b4\"/>\n     <use xlink:href=\"#m51a3b51c5e\" x=\"313.529201\" y=\"154.711786\" style=\"fill: #1f78b4; stroke: #1f78b4\"/>\n     <use xlink:href=\"#m51a3b51c5e\" x=\"329.508681\" y=\"153.319537\" style=\"fill: #1f78b4; stroke: #1f78b4\"/>\n     <use xlink:href=\"#m51a3b51c5e\" x=\"346.611674\" y=\"243.290795\" style=\"fill: #1f78b4; stroke: #1f78b4\"/>\n     <use xlink:href=\"#m51a3b51c5e\" x=\"284.724242\" y=\"164.534553\" style=\"fill: #1f78b4; stroke: #1f78b4\"/>\n     <use xlink:href=\"#m51a3b51c5e\" x=\"346.858537\" y=\"243.795945\" style=\"fill: #1f78b4; stroke: #1f78b4\"/>\n     <use xlink:href=\"#m51a3b51c5e\" x=\"284.208255\" y=\"145.477806\" style=\"fill: #1f78b4; stroke: #1f78b4\"/>\n     <use xlink:href=\"#m51a3b51c5e\" x=\"284.541164\" y=\"145.534308\" style=\"fill: #1f78b4; stroke: #1f78b4\"/>\n     <use xlink:href=\"#m51a3b51c5e\" x=\"285.373364\" y=\"145.681231\" style=\"fill: #1f78b4; stroke: #1f78b4\"/>\n     <use xlink:href=\"#m51a3b51c5e\" x=\"285.095964\" y=\"145.443887\" style=\"fill: #1f78b4; stroke: #1f78b4\"/>\n     <use xlink:href=\"#m51a3b51c5e\" x=\"311.143616\" y=\"154.710692\" style=\"fill: #1f78b4; stroke: #1f78b4\"/>\n     <use xlink:href=\"#m51a3b51c5e\" x=\"300.286266\" y=\"148.21149\" style=\"fill: #1f78b4; stroke: #1f78b4\"/>\n     <use xlink:href=\"#m51a3b51c5e\" x=\"311.075622\" y=\"154.701632\" style=\"fill: #1f78b4; stroke: #1f78b4\"/>\n     <use xlink:href=\"#m51a3b51c5e\" x=\"367.635585\" y=\"159.683064\" style=\"fill: #1f78b4; stroke: #1f78b4\"/>\n     <use xlink:href=\"#m51a3b51c5e\" x=\"350.742069\" y=\"169.447097\" style=\"fill: #1f78b4; stroke: #1f78b4\"/>\n     <use xlink:href=\"#m51a3b51c5e\" x=\"347.496529\" y=\"164.519891\" style=\"fill: #1f78b4; stroke: #1f78b4\"/>\n     <use xlink:href=\"#m51a3b51c5e\" x=\"347.914056\" y=\"176.385843\" style=\"fill: #1f78b4; stroke: #1f78b4\"/>\n     <use xlink:href=\"#m51a3b51c5e\" x=\"337.837536\" y=\"168.884306\" style=\"fill: #1f78b4; stroke: #1f78b4\"/>\n     <use xlink:href=\"#m51a3b51c5e\" x=\"337.89861\" y=\"168.859447\" style=\"fill: #1f78b4; stroke: #1f78b4\"/>\n     <use xlink:href=\"#m51a3b51c5e\" x=\"349.868272\" y=\"176.272838\" style=\"fill: #1f78b4; stroke: #1f78b4\"/>\n     <use xlink:href=\"#m51a3b51c5e\" x=\"344.048504\" y=\"167.078423\" style=\"fill: #1f78b4; stroke: #1f78b4\"/>\n     <use xlink:href=\"#m51a3b51c5e\" x=\"349.739276\" y=\"175.879599\" style=\"fill: #1f78b4; stroke: #1f78b4\"/>\n     <use xlink:href=\"#m51a3b51c5e\" x=\"349.757327\" y=\"175.933825\" style=\"fill: #1f78b4; stroke: #1f78b4\"/>\n     <use xlink:href=\"#m51a3b51c5e\" x=\"337.773751\" y=\"167.751942\" style=\"fill: #1f78b4; stroke: #1f78b4\"/>\n     <use xlink:href=\"#m51a3b51c5e\" x=\"355.707518\" y=\"229.726275\" style=\"fill: #1f78b4; stroke: #1f78b4\"/>\n     <use xlink:href=\"#m51a3b51c5e\" x=\"346.993099\" y=\"243.459164\" style=\"fill: #1f78b4; stroke: #1f78b4\"/>\n     <use xlink:href=\"#m51a3b51c5e\" x=\"341.588004\" y=\"154.05748\" style=\"fill: #1f78b4; stroke: #1f78b4\"/>\n     <use xlink:href=\"#m51a3b51c5e\" x=\"397.08139\" y=\"210.040038\" style=\"fill: #1f78b4; stroke: #1f78b4\"/>\n     <use xlink:href=\"#m51a3b51c5e\" x=\"410.174566\" y=\"361.461265\" style=\"fill: #1f78b4; stroke: #1f78b4\"/>\n     <use xlink:href=\"#m51a3b51c5e\" x=\"410.37013\" y=\"361.352768\" style=\"fill: #1f78b4; stroke: #1f78b4\"/>\n     <use xlink:href=\"#m51a3b51c5e\" x=\"410.784803\" y=\"361.122251\" style=\"fill: #1f78b4; stroke: #1f78b4\"/>\n     <use xlink:href=\"#m51a3b51c5e\" x=\"409.966515\" y=\"359.901742\" style=\"fill: #1f78b4; stroke: #1f78b4\"/>\n     <use xlink:href=\"#m51a3b51c5e\" x=\"366.401197\" y=\"321.648063\" style=\"fill: #1f78b4; stroke: #1f78b4\"/>\n     <use xlink:href=\"#m51a3b51c5e\" x=\"366.872806\" y=\"321.783695\" style=\"fill: #1f78b4; stroke: #1f78b4\"/>\n     <use xlink:href=\"#m51a3b51c5e\" x=\"351.547942\" y=\"168.600657\" style=\"fill: #1f78b4; stroke: #1f78b4\"/>\n     <use xlink:href=\"#m51a3b51c5e\" x=\"353.108318\" y=\"167.712377\" style=\"fill: #1f78b4; stroke: #1f78b4\"/>\n     <use xlink:href=\"#m51a3b51c5e\" x=\"359.244371\" y=\"164.226045\" style=\"fill: #1f78b4; stroke: #1f78b4\"/>\n     <use xlink:href=\"#m51a3b51c5e\" x=\"367.5718\" y=\"159.702277\" style=\"fill: #1f78b4; stroke: #1f78b4\"/>\n     <use xlink:href=\"#m51a3b51c5e\" x=\"395.30326\" y=\"209.967736\" style=\"fill: #1f78b4; stroke: #1f78b4\"/>\n     <use xlink:href=\"#m51a3b51c5e\" x=\"377.60808\" y=\"218.741776\" style=\"fill: #1f78b4; stroke: #1f78b4\"/>\n     <use xlink:href=\"#m51a3b51c5e\" x=\"355.767165\" y=\"229.69577\" style=\"fill: #1f78b4; stroke: #1f78b4\"/>\n     <use xlink:href=\"#m51a3b51c5e\" x=\"341.108048\" y=\"154.771702\" style=\"fill: #1f78b4; stroke: #1f78b4\"/>\n     <use xlink:href=\"#m51a3b51c5e\" x=\"344.500635\" y=\"159.942991\" style=\"fill: #1f78b4; stroke: #1f78b4\"/>\n     <use xlink:href=\"#m51a3b51c5e\" x=\"347.464637\" y=\"164.470173\" style=\"fill: #1f78b4; stroke: #1f78b4\"/>\n     <use xlink:href=\"#m51a3b51c5e\" x=\"374.390223\" y=\"301.272464\" style=\"fill: #1f78b4; stroke: #1f78b4\"/>\n     <use xlink:href=\"#m51a3b51c5e\" x=\"374.334786\" y=\"300.436222\" style=\"fill: #1f78b4; stroke: #1f78b4\"/>\n     <use xlink:href=\"#m51a3b51c5e\" x=\"346.927887\" y=\"243.479515\" style=\"fill: #1f78b4; stroke: #1f78b4\"/>\n     <use xlink:href=\"#m51a3b51c5e\" x=\"294.451158\" y=\"210.345176\" style=\"fill: #1f78b4; stroke: #1f78b4\"/>\n     <use xlink:href=\"#m51a3b51c5e\" x=\"348.904364\" y=\"251.073748\" style=\"fill: #1f78b4; stroke: #1f78b4\"/>\n     <use xlink:href=\"#m51a3b51c5e\" x=\"374.064306\" y=\"300.526643\" style=\"fill: #1f78b4; stroke: #1f78b4\"/>\n     <use xlink:href=\"#m51a3b51c5e\" x=\"350.32604\" y=\"250.746027\" style=\"fill: #1f78b4; stroke: #1f78b4\"/>\n     <use xlink:href=\"#m51a3b51c5e\" x=\"346.884865\" y=\"243.847939\" style=\"fill: #1f78b4; stroke: #1f78b4\"/>\n     <use xlink:href=\"#m51a3b51c5e\" x=\"364.820058\" y=\"318.065664\" style=\"fill: #1f78b4; stroke: #1f78b4\"/>\n     <use xlink:href=\"#m51a3b51c5e\" x=\"390.860718\" y=\"332.666481\" style=\"fill: #1f78b4; stroke: #1f78b4\"/>\n     <use xlink:href=\"#m51a3b51c5e\" x=\"408.218923\" y=\"360.03733\" style=\"fill: #1f78b4; stroke: #1f78b4\"/>\n     <use xlink:href=\"#m51a3b51c5e\" x=\"372.601035\" y=\"323.149946\" style=\"fill: #1f78b4; stroke: #1f78b4\"/>\n     <use xlink:href=\"#m51a3b51c5e\" x=\"392.490445\" y=\"331.965827\" style=\"fill: #1f78b4; stroke: #1f78b4\"/>\n     <use xlink:href=\"#m51a3b51c5e\" x=\"367.795119\" y=\"319.320092\" style=\"fill: #1f78b4; stroke: #1f78b4\"/>\n     <use xlink:href=\"#m51a3b51c5e\" x=\"124.083261\" y=\"123.226253\" style=\"fill: #1f78b4; stroke: #1f78b4\"/>\n     <use xlink:href=\"#m51a3b51c5e\" x=\"262.404798\" y=\"142.324841\" style=\"fill: #1f78b4; stroke: #1f78b4\"/>\n     <use xlink:href=\"#m51a3b51c5e\" x=\"262.675277\" y=\"141.578976\" style=\"fill: #1f78b4; stroke: #1f78b4\"/>\n     <use xlink:href=\"#m51a3b51c5e\" x=\"284.141688\" y=\"145.465376\" style=\"fill: #1f78b4; stroke: #1f78b4\"/>\n     <use xlink:href=\"#m51a3b51c5e\" x=\"412.296663\" y=\"357.969286\" style=\"fill: #1f78b4; stroke: #1f78b4\"/>\n     <use xlink:href=\"#m51a3b51c5e\" x=\"408.315956\" y=\"360.195545\" style=\"fill: #1f78b4; stroke: #1f78b4\"/>\n     <use xlink:href=\"#m51a3b51c5e\" x=\"422.664353\" y=\"149.873864\" style=\"fill: #1f78b4; stroke: #1f78b4\"/>\n     <use xlink:href=\"#m51a3b51c5e\" x=\"423.098505\" y=\"155.976368\" style=\"fill: #1f78b4; stroke: #1f78b4\"/>\n     <use xlink:href=\"#m51a3b51c5e\" x=\"431.353872\" y=\"134.866239\" style=\"fill: #1f78b4; stroke: #1f78b4\"/>\n     <use xlink:href=\"#m51a3b51c5e\" x=\"404.071832\" y=\"161.762442\" style=\"fill: #1f78b4; stroke: #1f78b4\"/>\n     <use xlink:href=\"#m51a3b51c5e\" x=\"378.824488\" y=\"173.075801\" style=\"fill: #1f78b4; stroke: #1f78b4\"/>\n     <use xlink:href=\"#m51a3b51c5e\" x=\"400.444796\" y=\"168.757734\" style=\"fill: #1f78b4; stroke: #1f78b4\"/>\n     <use xlink:href=\"#m51a3b51c5e\" x=\"56.958545\" y=\"103.281269\" style=\"fill: #1f78b4; stroke: #1f78b4\"/>\n     <use xlink:href=\"#m51a3b51c5e\" x=\"57.248431\" y=\"103.384076\" style=\"fill: #1f78b4; stroke: #1f78b4\"/>\n     <use xlink:href=\"#m51a3b51c5e\" x=\"56.255341\" y=\"102.838267\" style=\"fill: #1f78b4; stroke: #1f78b4\"/>\n     <use xlink:href=\"#m51a3b51c5e\" x=\"484.872208\" y=\"353.300871\" style=\"fill: #1f78b4; stroke: #1f78b4\"/>\n     <use xlink:href=\"#m51a3b51c5e\" x=\"484.311842\" y=\"351.331083\" style=\"fill: #1f78b4; stroke: #1f78b4\"/>\n     <use xlink:href=\"#m51a3b51c5e\" x=\"484.155213\" y=\"351.288245\" style=\"fill: #1f78b4; stroke: #1f78b4\"/>\n     <use xlink:href=\"#m51a3b51c5e\" x=\"406.56558\" y=\"361.603636\" style=\"fill: #1f78b4; stroke: #1f78b4\"/>\n     <use xlink:href=\"#m51a3b51c5e\" x=\"462.935616\" y=\"147.941408\" style=\"fill: #1f78b4; stroke: #1f78b4\"/>\n     <use xlink:href=\"#m51a3b51c5e\" x=\"285.441288\" y=\"145.693661\" style=\"fill: #1f78b4; stroke: #1f78b4\"/>\n     <use xlink:href=\"#m51a3b51c5e\" x=\"334.231405\" y=\"182.592336\" style=\"fill: #1f78b4; stroke: #1f78b4\"/>\n     <use xlink:href=\"#m51a3b51c5e\" x=\"342.239838\" y=\"182.258968\" style=\"fill: #1f78b4; stroke: #1f78b4\"/>\n     <use xlink:href=\"#m51a3b51c5e\" x=\"316.192186\" y=\"163.283538\" style=\"fill: #1f78b4; stroke: #1f78b4\"/>\n     <use xlink:href=\"#m51a3b51c5e\" x=\"314.158917\" y=\"170.078819\" style=\"fill: #1f78b4; stroke: #1f78b4\"/>\n     <use xlink:href=\"#m51a3b51c5e\" x=\"325.426802\" y=\"166.732626\" style=\"fill: #1f78b4; stroke: #1f78b4\"/>\n     <use xlink:href=\"#m51a3b51c5e\" x=\"328.630746\" y=\"176.518104\" style=\"fill: #1f78b4; stroke: #1f78b4\"/>\n     <use xlink:href=\"#m51a3b51c5e\" x=\"333.164827\" y=\"181.645321\" style=\"fill: #1f78b4; stroke: #1f78b4\"/>\n     <use xlink:href=\"#m51a3b51c5e\" x=\"329.199388\" y=\"176.245747\" style=\"fill: #1f78b4; stroke: #1f78b4\"/>\n     <use xlink:href=\"#m51a3b51c5e\" x=\"327.564168\" y=\"175.312257\" style=\"fill: #1f78b4; stroke: #1f78b4\"/>\n     <use xlink:href=\"#m51a3b51c5e\" x=\"326.070359\" y=\"175.797099\" style=\"fill: #1f78b4; stroke: #1f78b4\"/>\n     <use xlink:href=\"#m51a3b51c5e\" x=\"328.854065\" y=\"170.600907\" style=\"fill: #1f78b4; stroke: #1f78b4\"/>\n     <use xlink:href=\"#m51a3b51c5e\" x=\"327.693165\" y=\"170.772689\" style=\"fill: #1f78b4; stroke: #1f78b4\"/>\n     <use xlink:href=\"#m51a3b51c5e\" x=\"327.725057\" y=\"168.737383\" style=\"fill: #1f78b4; stroke: #1f78b4\"/>\n     <use xlink:href=\"#m51a3b51c5e\" x=\"312.515349\" y=\"161.084415\" style=\"fill: #1f78b4; stroke: #1f78b4\"/>\n     <use xlink:href=\"#m51a3b51c5e\" x=\"312.544459\" y=\"161.201928\" style=\"fill: #1f78b4; stroke: #1f78b4\"/>\n     <use xlink:href=\"#m51a3b51c5e\" x=\"312.365518\" y=\"161.105861\" style=\"fill: #1f78b4; stroke: #1f78b4\"/>\n     <use xlink:href=\"#m51a3b51c5e\" x=\"312.554162\" y=\"161.236941\" style=\"fill: #1f78b4; stroke: #1f78b4\"/>\n     <use xlink:href=\"#m51a3b51c5e\" x=\"311.683148\" y=\"161.205298\" style=\"fill: #1f78b4; stroke: #1f78b4\"/>\n     <use xlink:href=\"#m51a3b51c5e\" x=\"308.817607\" y=\"161.406491\" style=\"fill: #1f78b4; stroke: #1f78b4\"/>\n     <use xlink:href=\"#m51a3b51c5e\" x=\"323.227007\" y=\"161.674297\" style=\"fill: #1f78b4; stroke: #1f78b4\"/>\n     <use xlink:href=\"#m51a3b51c5e\" x=\"307.328008\" y=\"161.206436\" style=\"fill: #1f78b4; stroke: #1f78b4\"/>\n     <use xlink:href=\"#m51a3b51c5e\" x=\"306.785693\" y=\"161.06971\" style=\"fill: #1f78b4; stroke: #1f78b4\"/>\n     <use xlink:href=\"#m51a3b51c5e\" x=\"306.93267\" y=\"162.224658\" style=\"fill: #1f78b4; stroke: #1f78b4\"/>\n     <use xlink:href=\"#m51a3b51c5e\" x=\"334.388156\" y=\"180.801158\" style=\"fill: #1f78b4; stroke: #1f78b4\"/>\n     <use xlink:href=\"#m51a3b51c5e\" x=\"136.38305\" y=\"123.233037\" style=\"fill: #1f78b4; stroke: #1f78b4\"/>\n     <use xlink:href=\"#m51a3b51c5e\" x=\"200.477197\" y=\"128.537726\" style=\"fill: #1f78b4; stroke: #1f78b4\"/>\n     <use xlink:href=\"#m51a3b51c5e\" x=\"136.3137\" y=\"123.226253\" style=\"fill: #1f78b4; stroke: #1f78b4\"/>\n     <use xlink:href=\"#m51a3b51c5e\" x=\"103.906748\" y=\"120.830488\" style=\"fill: #1f78b4; stroke: #1f78b4\"/>\n     <use xlink:href=\"#m51a3b51c5e\" x=\"101.618196\" y=\"120.559268\" style=\"fill: #1f78b4; stroke: #1f78b4\"/>\n     <use xlink:href=\"#m51a3b51c5e\" x=\"101.210444\" y=\"120.514058\" style=\"fill: #1f78b4; stroke: #1f78b4\"/>\n     <use xlink:href=\"#m51a3b51c5e\" x=\"101.139667\" y=\"120.508412\" style=\"fill: #1f78b4; stroke: #1f78b4\"/>\n     <use xlink:href=\"#m51a3b51c5e\" x=\"99.479475\" y=\"120.367135\" style=\"fill: #1f78b4; stroke: #1f78b4\"/>\n     <use xlink:href=\"#m51a3b51c5e\" x=\"64.102956\" y=\"107.495391\" style=\"fill: #1f78b4; stroke: #1f78b4\"/>\n     <use xlink:href=\"#m51a3b51c5e\" x=\"62.652099\" y=\"109.314842\" style=\"fill: #1f78b4; stroke: #1f78b4\"/>\n     <use xlink:href=\"#m51a3b51c5e\" x=\"55.621488\" y=\"115.315633\" style=\"fill: #1f78b4; stroke: #1f78b4\"/>\n     <use xlink:href=\"#m51a3b51c5e\" x=\"62.8782\" y=\"109.479797\" style=\"fill: #1f78b4; stroke: #1f78b4\"/>\n     <use xlink:href=\"#m51a3b51c5e\" x=\"62.929499\" y=\"109.518223\" style=\"fill: #1f78b4; stroke: #1f78b4\"/>\n     <use xlink:href=\"#m51a3b51c5e\" x=\"67.918494\" y=\"117.914824\" style=\"fill: #1f78b4; stroke: #1f78b4\"/>\n     <use xlink:href=\"#m51a3b51c5e\" x=\"64.559226\" y=\"107.154101\" style=\"fill: #1f78b4; stroke: #1f78b4\"/>\n     <use xlink:href=\"#m51a3b51c5e\" x=\"64.770058\" y=\"106.896406\" style=\"fill: #1f78b4; stroke: #1f78b4\"/>\n     <use xlink:href=\"#m51a3b51c5e\" x=\"63.231871\" y=\"106.161877\" style=\"fill: #1f78b4; stroke: #1f78b4\"/>\n     <use xlink:href=\"#m51a3b51c5e\" x=\"64.596683\" y=\"107.106615\" style=\"fill: #1f78b4; stroke: #1f78b4\"/>\n     <use xlink:href=\"#m51a3b51c5e\" x=\"62.97666\" y=\"106.037537\" style=\"fill: #1f78b4; stroke: #1f78b4\"/>\n     <use xlink:href=\"#m51a3b51c5e\" x=\"414.155202\" y=\"196.478931\" style=\"fill: #1f78b4; stroke: #1f78b4\"/>\n     <use xlink:href=\"#m51a3b51c5e\" x=\"415.085862\" y=\"196.584014\" style=\"fill: #1f78b4; stroke: #1f78b4\"/>\n     <use xlink:href=\"#m51a3b51c5e\" x=\"293.169609\" y=\"160.903573\" style=\"fill: #1f78b4; stroke: #1f78b4\"/>\n     <use xlink:href=\"#m51a3b51c5e\" x=\"291.422016\" y=\"164.521029\" style=\"fill: #1f78b4; stroke: #1f78b4\"/>\n     <use xlink:href=\"#m51a3b51c5e\" x=\"291.290237\" y=\"165.008104\" style=\"fill: #1f78b4; stroke: #1f78b4\"/>\n     <use xlink:href=\"#m51a3b51c5e\" x=\"299.763358\" y=\"167.130417\" style=\"fill: #1f78b4; stroke: #1f78b4\"/>\n     <use xlink:href=\"#m51a3b51c5e\" x=\"288.679907\" y=\"155.648646\" style=\"fill: #1f78b4; stroke: #1f78b4\"/>\n     <use xlink:href=\"#m51a3b51c5e\" x=\"318.023042\" y=\"171.041633\" style=\"fill: #1f78b4; stroke: #1f78b4\"/>\n     <use xlink:href=\"#m51a3b51c5e\" x=\"324.658386\" y=\"180.185235\" style=\"fill: #1f78b4; stroke: #1f78b4\"/>\n     <use xlink:href=\"#m51a3b51c5e\" x=\"426.138777\" y=\"176.001619\" style=\"fill: #1f78b4; stroke: #1f78b4\"/>\n     <use xlink:href=\"#m51a3b51c5e\" x=\"430.718592\" y=\"153.751204\" style=\"fill: #1f78b4; stroke: #1f78b4\"/>\n    </g>\n   </g>\n   <g id=\"PathCollection_2\">\n    <defs>\n     <path id=\"m80ceef6691\" d=\"M -5 5 \nL 5 5 \nL 5 -5 \nL -5 -5 \nz\n\" style=\"stroke: #000000\"/>\n    </defs>\n    <g clip-path=\"url(#p7171bf712f)\">\n     <use xlink:href=\"#m80ceef6691\" x=\"484.155213\" y=\"351.288245\" style=\"stroke: #000000\"/>\n    </g>\n   </g>\n   <g id=\"PathCollection_3\">\n    <defs>\n     <path id=\"maa6bcc91b1\" d=\"M 0 5 \nC 1.326016 5 2.597899 4.473168 3.535534 3.535534 \nC 4.473168 2.597899 5 1.326016 5 0 \nC 5 -1.326016 4.473168 -2.597899 3.535534 -3.535534 \nC 2.597899 -4.473168 1.326016 -5 0 -5 \nC -1.326016 -5 -2.597899 -4.473168 -3.535534 -3.535534 \nC -4.473168 -2.597899 -5 -1.326016 -5 0 \nC -5 1.326016 -4.473168 2.597899 -3.535534 3.535534 \nC -2.597899 4.473168 -1.326016 5 0 5 \nz\n\" style=\"stroke: #ffffff\"/>\n    </defs>\n    <g clip-path=\"url(#p7171bf712f)\">\n     <use xlink:href=\"#maa6bcc91b1\" x=\"136.38305\" y=\"123.233037\" style=\"fill: #ff0000; stroke: #ffffff\"/>\n     <use xlink:href=\"#maa6bcc91b1\" x=\"377.508193\" y=\"171.777343\" style=\"fill: #ff0000; stroke: #ffffff\"/>\n     <use xlink:href=\"#maa6bcc91b1\" x=\"313.529201\" y=\"154.711786\" style=\"fill: #ff0000; stroke: #ffffff\"/>\n     <use xlink:href=\"#maa6bcc91b1\" x=\"355.767165\" y=\"229.69577\" style=\"fill: #ff0000; stroke: #ffffff\"/>\n     <use xlink:href=\"#maa6bcc91b1\" x=\"327.210425\" y=\"66.008524\" style=\"fill: #ff0000; stroke: #ffffff\"/>\n     <use xlink:href=\"#maa6bcc91b1\" x=\"516.778512\" y=\"302.877197\" style=\"fill: #ff0000; stroke: #ffffff\"/>\n     <use xlink:href=\"#maa6bcc91b1\" x=\"323.362924\" y=\"359.867823\" style=\"fill: #ff0000; stroke: #ffffff\"/>\n     <use xlink:href=\"#maa6bcc91b1\" x=\"419.730889\" y=\"194.331759\" style=\"fill: #ff0000; stroke: #ffffff\"/>\n     <use xlink:href=\"#maa6bcc91b1\" x=\"421.561745\" y=\"158.044455\" style=\"fill: #ff0000; stroke: #ffffff\"/>\n     <use xlink:href=\"#maa6bcc91b1\" x=\"421.39529\" y=\"61.92999\" style=\"fill: #ff0000; stroke: #ffffff\"/>\n     <use xlink:href=\"#maa6bcc91b1\" x=\"262.404798\" y=\"142.324841\" style=\"fill: #ff0000; stroke: #ffffff\"/>\n     <use xlink:href=\"#maa6bcc91b1\" x=\"291.290237\" y=\"165.008104\" style=\"fill: #ff0000; stroke: #ffffff\"/>\n     <use xlink:href=\"#maa6bcc91b1\" x=\"327.725057\" y=\"168.737383\" style=\"fill: #ff0000; stroke: #ffffff\"/>\n     <use xlink:href=\"#maa6bcc91b1\" x=\"56.958545\" y=\"103.281269\" style=\"fill: #ff0000; stroke: #ffffff\"/>\n    </g>\n   </g>\n   <g id=\"text_1\">\n    <g clip-path=\"url(#p7171bf712f)\">\n     <!-- Reservoir -->\n     <g transform=\"translate(455.924275 346.9404) scale(0.12 -0.12)\">\n      <defs>\n       <path id=\"DejaVuSans-52\" d=\"M 2841 2188 \nQ 3044 2119 3236 1894 \nQ 3428 1669 3622 1275 \nL 4263 0 \nL 3584 0 \nL 2988 1197 \nQ 2756 1666 2539 1819 \nQ 2322 1972 1947 1972 \nL 1259 1972 \nL 1259 0 \nL 628 0 \nL 628 4666 \nL 2053 4666 \nQ 2853 4666 3247 4331 \nQ 3641 3997 3641 3322 \nQ 3641 2881 3436 2590 \nQ 3231 2300 2841 2188 \nz\nM 1259 4147 \nL 1259 2491 \nL 2053 2491 \nQ 2509 2491 2742 2702 \nQ 2975 2913 2975 3322 \nQ 2975 3731 2742 3939 \nQ 2509 4147 2053 4147 \nL 1259 4147 \nz\n\" transform=\"scale(0.015625)\"/>\n       <path id=\"DejaVuSans-65\" d=\"M 3597 1894 \nL 3597 1613 \nL 953 1613 \nQ 991 1019 1311 708 \nQ 1631 397 2203 397 \nQ 2534 397 2845 478 \nQ 3156 559 3463 722 \nL 3463 178 \nQ 3153 47 2828 -22 \nQ 2503 -91 2169 -91 \nQ 1331 -91 842 396 \nQ 353 884 353 1716 \nQ 353 2575 817 3079 \nQ 1281 3584 2069 3584 \nQ 2775 3584 3186 3129 \nQ 3597 2675 3597 1894 \nz\nM 3022 2063 \nQ 3016 2534 2758 2815 \nQ 2500 3097 2075 3097 \nQ 1594 3097 1305 2825 \nQ 1016 2553 972 2059 \nL 3022 2063 \nz\n\" transform=\"scale(0.015625)\"/>\n       <path id=\"DejaVuSans-73\" d=\"M 2834 3397 \nL 2834 2853 \nQ 2591 2978 2328 3040 \nQ 2066 3103 1784 3103 \nQ 1356 3103 1142 2972 \nQ 928 2841 928 2578 \nQ 928 2378 1081 2264 \nQ 1234 2150 1697 2047 \nL 1894 2003 \nQ 2506 1872 2764 1633 \nQ 3022 1394 3022 966 \nQ 3022 478 2636 193 \nQ 2250 -91 1575 -91 \nQ 1294 -91 989 -36 \nQ 684 19 347 128 \nL 347 722 \nQ 666 556 975 473 \nQ 1284 391 1588 391 \nQ 1994 391 2212 530 \nQ 2431 669 2431 922 \nQ 2431 1156 2273 1281 \nQ 2116 1406 1581 1522 \nL 1381 1569 \nQ 847 1681 609 1914 \nQ 372 2147 372 2553 \nQ 372 3047 722 3315 \nQ 1072 3584 1716 3584 \nQ 2034 3584 2315 3537 \nQ 2597 3491 2834 3397 \nz\n\" transform=\"scale(0.015625)\"/>\n       <path id=\"DejaVuSans-72\" d=\"M 2631 2963 \nQ 2534 3019 2420 3045 \nQ 2306 3072 2169 3072 \nQ 1681 3072 1420 2755 \nQ 1159 2438 1159 1844 \nL 1159 0 \nL 581 0 \nL 581 3500 \nL 1159 3500 \nL 1159 2956 \nQ 1341 3275 1631 3429 \nQ 1922 3584 2338 3584 \nQ 2397 3584 2469 3576 \nQ 2541 3569 2628 3553 \nL 2631 2963 \nz\n\" transform=\"scale(0.015625)\"/>\n       <path id=\"DejaVuSans-76\" d=\"M 191 3500 \nL 800 3500 \nL 1894 563 \nL 2988 3500 \nL 3597 3500 \nL 2284 0 \nL 1503 0 \nL 191 3500 \nz\n\" transform=\"scale(0.015625)\"/>\n       <path id=\"DejaVuSans-6f\" d=\"M 1959 3097 \nQ 1497 3097 1228 2736 \nQ 959 2375 959 1747 \nQ 959 1119 1226 758 \nQ 1494 397 1959 397 \nQ 2419 397 2687 759 \nQ 2956 1122 2956 1747 \nQ 2956 2369 2687 2733 \nQ 2419 3097 1959 3097 \nz\nM 1959 3584 \nQ 2709 3584 3137 3096 \nQ 3566 2609 3566 1747 \nQ 3566 888 3137 398 \nQ 2709 -91 1959 -91 \nQ 1206 -91 779 398 \nQ 353 888 353 1747 \nQ 353 2609 779 3096 \nQ 1206 3584 1959 3584 \nz\n\" transform=\"scale(0.015625)\"/>\n       <path id=\"DejaVuSans-69\" d=\"M 603 3500 \nL 1178 3500 \nL 1178 0 \nL 603 0 \nL 603 3500 \nz\nM 603 4863 \nL 1178 4863 \nL 1178 4134 \nL 603 4134 \nL 603 4863 \nz\n\" transform=\"scale(0.015625)\"/>\n      </defs>\n      <use xlink:href=\"#DejaVuSans-52\"/>\n      <use xlink:href=\"#DejaVuSans-65\" transform=\"translate(64.982422 0)\"/>\n      <use xlink:href=\"#DejaVuSans-73\" transform=\"translate(126.505859 0)\"/>\n      <use xlink:href=\"#DejaVuSans-65\" transform=\"translate(178.605469 0)\"/>\n      <use xlink:href=\"#DejaVuSans-72\" transform=\"translate(240.128906 0)\"/>\n      <use xlink:href=\"#DejaVuSans-76\" transform=\"translate(281.242188 0)\"/>\n      <use xlink:href=\"#DejaVuSans-6f\" transform=\"translate(340.421875 0)\"/>\n      <use xlink:href=\"#DejaVuSans-69\" transform=\"translate(401.603516 0)\"/>\n      <use xlink:href=\"#DejaVuSans-72\" transform=\"translate(429.386719 0)\"/>\n     </g>\n    </g>\n   </g>\n   <g id=\"text_2\">\n    <g clip-path=\"url(#p7171bf712f)\">\n     <!-- 1 -->\n     <g transform=\"translate(132.56555 118.885192) scale(0.12 -0.12)\">\n      <defs>\n       <path id=\"DejaVuSans-31\" d=\"M 794 531 \nL 1825 531 \nL 1825 4091 \nL 703 3866 \nL 703 4441 \nL 1819 4666 \nL 2450 4666 \nL 2450 531 \nL 3481 531 \nL 3481 0 \nL 794 0 \nL 794 531 \nz\n\" transform=\"scale(0.015625)\"/>\n      </defs>\n      <use xlink:href=\"#DejaVuSans-31\"/>\n     </g>\n    </g>\n   </g>\n   <g id=\"text_3\">\n    <g clip-path=\"url(#p7171bf712f)\">\n     <!-- 2 -->\n     <g transform=\"translate(373.690693 167.429499) scale(0.12 -0.12)\">\n      <defs>\n       <path id=\"DejaVuSans-32\" d=\"M 1228 531 \nL 3431 531 \nL 3431 0 \nL 469 0 \nL 469 531 \nQ 828 903 1448 1529 \nQ 2069 2156 2228 2338 \nQ 2531 2678 2651 2914 \nQ 2772 3150 2772 3378 \nQ 2772 3750 2511 3984 \nQ 2250 4219 1831 4219 \nQ 1534 4219 1204 4116 \nQ 875 4013 500 3803 \nL 500 4441 \nQ 881 4594 1212 4672 \nQ 1544 4750 1819 4750 \nQ 2544 4750 2975 4387 \nQ 3406 4025 3406 3419 \nQ 3406 3131 3298 2873 \nQ 3191 2616 2906 2266 \nQ 2828 2175 2409 1742 \nQ 1991 1309 1228 531 \nz\n\" transform=\"scale(0.015625)\"/>\n      </defs>\n      <use xlink:href=\"#DejaVuSans-32\"/>\n     </g>\n    </g>\n   </g>\n   <g id=\"text_4\">\n    <g clip-path=\"url(#p7171bf712f)\">\n     <!-- 3 -->\n     <g transform=\"translate(309.711701 150.363941) scale(0.12 -0.12)\">\n      <defs>\n       <path id=\"DejaVuSans-33\" d=\"M 2597 2516 \nQ 3050 2419 3304 2112 \nQ 3559 1806 3559 1356 \nQ 3559 666 3084 287 \nQ 2609 -91 1734 -91 \nQ 1441 -91 1130 -33 \nQ 819 25 488 141 \nL 488 750 \nQ 750 597 1062 519 \nQ 1375 441 1716 441 \nQ 2309 441 2620 675 \nQ 2931 909 2931 1356 \nQ 2931 1769 2642 2001 \nQ 2353 2234 1838 2234 \nL 1294 2234 \nL 1294 2753 \nL 1863 2753 \nQ 2328 2753 2575 2939 \nQ 2822 3125 2822 3475 \nQ 2822 3834 2567 4026 \nQ 2313 4219 1838 4219 \nQ 1578 4219 1281 4162 \nQ 984 4106 628 3988 \nL 628 4550 \nQ 988 4650 1302 4700 \nQ 1616 4750 1894 4750 \nQ 2613 4750 3031 4423 \nQ 3450 4097 3450 3541 \nQ 3450 3153 3228 2886 \nQ 3006 2619 2597 2516 \nz\n\" transform=\"scale(0.015625)\"/>\n      </defs>\n      <use xlink:href=\"#DejaVuSans-33\"/>\n     </g>\n    </g>\n   </g>\n   <g id=\"text_5\">\n    <g clip-path=\"url(#p7171bf712f)\">\n     <!-- 4 -->\n     <g transform=\"translate(351.949665 225.347925) scale(0.12 -0.12)\">\n      <defs>\n       <path id=\"DejaVuSans-34\" d=\"M 2419 4116 \nL 825 1625 \nL 2419 1625 \nL 2419 4116 \nz\nM 2253 4666 \nL 3047 4666 \nL 3047 1625 \nL 3713 1625 \nL 3713 1100 \nL 3047 1100 \nL 3047 0 \nL 2419 0 \nL 2419 1100 \nL 313 1100 \nL 313 1709 \nL 2253 4666 \nz\n\" transform=\"scale(0.015625)\"/>\n      </defs>\n      <use xlink:href=\"#DejaVuSans-34\"/>\n     </g>\n    </g>\n   </g>\n   <g id=\"text_6\">\n    <g clip-path=\"url(#p7171bf712f)\">\n     <!-- 5 -->\n     <g transform=\"translate(323.392925 61.660679) scale(0.12 -0.12)\">\n      <defs>\n       <path id=\"DejaVuSans-35\" d=\"M 691 4666 \nL 3169 4666 \nL 3169 4134 \nL 1269 4134 \nL 1269 2991 \nQ 1406 3038 1543 3061 \nQ 1681 3084 1819 3084 \nQ 2600 3084 3056 2656 \nQ 3513 2228 3513 1497 \nQ 3513 744 3044 326 \nQ 2575 -91 1722 -91 \nQ 1428 -91 1123 -41 \nQ 819 9 494 109 \nL 494 744 \nQ 775 591 1075 516 \nQ 1375 441 1709 441 \nQ 2250 441 2565 725 \nQ 2881 1009 2881 1497 \nQ 2881 1984 2565 2268 \nQ 2250 2553 1709 2553 \nQ 1456 2553 1204 2497 \nQ 953 2441 691 2322 \nL 691 4666 \nz\n\" transform=\"scale(0.015625)\"/>\n      </defs>\n      <use xlink:href=\"#DejaVuSans-35\"/>\n     </g>\n    </g>\n   </g>\n   <g id=\"text_7\">\n    <g clip-path=\"url(#p7171bf712f)\">\n     <!-- 6 -->\n     <g transform=\"translate(512.961012 298.529352) scale(0.12 -0.12)\">\n      <defs>\n       <path id=\"DejaVuSans-36\" d=\"M 2113 2584 \nQ 1688 2584 1439 2293 \nQ 1191 2003 1191 1497 \nQ 1191 994 1439 701 \nQ 1688 409 2113 409 \nQ 2538 409 2786 701 \nQ 3034 994 3034 1497 \nQ 3034 2003 2786 2293 \nQ 2538 2584 2113 2584 \nz\nM 3366 4563 \nL 3366 3988 \nQ 3128 4100 2886 4159 \nQ 2644 4219 2406 4219 \nQ 1781 4219 1451 3797 \nQ 1122 3375 1075 2522 \nQ 1259 2794 1537 2939 \nQ 1816 3084 2150 3084 \nQ 2853 3084 3261 2657 \nQ 3669 2231 3669 1497 \nQ 3669 778 3244 343 \nQ 2819 -91 2113 -91 \nQ 1303 -91 875 529 \nQ 447 1150 447 2328 \nQ 447 3434 972 4092 \nQ 1497 4750 2381 4750 \nQ 2619 4750 2861 4703 \nQ 3103 4656 3366 4563 \nz\n\" transform=\"scale(0.015625)\"/>\n      </defs>\n      <use xlink:href=\"#DejaVuSans-36\"/>\n     </g>\n    </g>\n   </g>\n   <g id=\"text_8\">\n    <g clip-path=\"url(#p7171bf712f)\">\n     <!-- 7 -->\n     <g transform=\"translate(319.545424 355.519978) scale(0.12 -0.12)\">\n      <defs>\n       <path id=\"DejaVuSans-37\" d=\"M 525 4666 \nL 3525 4666 \nL 3525 4397 \nL 1831 0 \nL 1172 0 \nL 2766 4134 \nL 525 4134 \nL 525 4666 \nz\n\" transform=\"scale(0.015625)\"/>\n      </defs>\n      <use xlink:href=\"#DejaVuSans-37\"/>\n     </g>\n    </g>\n   </g>\n   <g id=\"text_9\">\n    <g clip-path=\"url(#p7171bf712f)\">\n     <!-- 8 -->\n     <g transform=\"translate(415.913389 189.983914) scale(0.12 -0.12)\">\n      <defs>\n       <path id=\"DejaVuSans-38\" d=\"M 2034 2216 \nQ 1584 2216 1326 1975 \nQ 1069 1734 1069 1313 \nQ 1069 891 1326 650 \nQ 1584 409 2034 409 \nQ 2484 409 2743 651 \nQ 3003 894 3003 1313 \nQ 3003 1734 2745 1975 \nQ 2488 2216 2034 2216 \nz\nM 1403 2484 \nQ 997 2584 770 2862 \nQ 544 3141 544 3541 \nQ 544 4100 942 4425 \nQ 1341 4750 2034 4750 \nQ 2731 4750 3128 4425 \nQ 3525 4100 3525 3541 \nQ 3525 3141 3298 2862 \nQ 3072 2584 2669 2484 \nQ 3125 2378 3379 2068 \nQ 3634 1759 3634 1313 \nQ 3634 634 3220 271 \nQ 2806 -91 2034 -91 \nQ 1263 -91 848 271 \nQ 434 634 434 1313 \nQ 434 1759 690 2068 \nQ 947 2378 1403 2484 \nz\nM 1172 3481 \nQ 1172 3119 1398 2916 \nQ 1625 2713 2034 2713 \nQ 2441 2713 2670 2916 \nQ 2900 3119 2900 3481 \nQ 2900 3844 2670 4047 \nQ 2441 4250 2034 4250 \nQ 1625 4250 1398 4047 \nQ 1172 3844 1172 3481 \nz\n\" transform=\"scale(0.015625)\"/>\n      </defs>\n      <use xlink:href=\"#DejaVuSans-38\"/>\n     </g>\n    </g>\n   </g>\n   <g id=\"text_10\">\n    <g clip-path=\"url(#p7171bf712f)\">\n     <!-- 9 -->\n     <g transform=\"translate(417.744245 153.69661) scale(0.12 -0.12)\">\n      <defs>\n       <path id=\"DejaVuSans-39\" d=\"M 703 97 \nL 703 672 \nQ 941 559 1184 500 \nQ 1428 441 1663 441 \nQ 2288 441 2617 861 \nQ 2947 1281 2994 2138 \nQ 2813 1869 2534 1725 \nQ 2256 1581 1919 1581 \nQ 1219 1581 811 2004 \nQ 403 2428 403 3163 \nQ 403 3881 828 4315 \nQ 1253 4750 1959 4750 \nQ 2769 4750 3195 4129 \nQ 3622 3509 3622 2328 \nQ 3622 1225 3098 567 \nQ 2575 -91 1691 -91 \nQ 1453 -91 1209 -44 \nQ 966 3 703 97 \nz\nM 1959 2075 \nQ 2384 2075 2632 2365 \nQ 2881 2656 2881 3163 \nQ 2881 3666 2632 3958 \nQ 2384 4250 1959 4250 \nQ 1534 4250 1286 3958 \nQ 1038 3666 1038 3163 \nQ 1038 2656 1286 2365 \nQ 1534 2075 1959 2075 \nz\n\" transform=\"scale(0.015625)\"/>\n      </defs>\n      <use xlink:href=\"#DejaVuSans-39\"/>\n     </g>\n    </g>\n   </g>\n   <g id=\"text_11\">\n    <g clip-path=\"url(#p7171bf712f)\">\n     <!-- 10 -->\n     <g transform=\"translate(413.76029 57.582145) scale(0.12 -0.12)\">\n      <defs>\n       <path id=\"DejaVuSans-30\" d=\"M 2034 4250 \nQ 1547 4250 1301 3770 \nQ 1056 3291 1056 2328 \nQ 1056 1369 1301 889 \nQ 1547 409 2034 409 \nQ 2525 409 2770 889 \nQ 3016 1369 3016 2328 \nQ 3016 3291 2770 3770 \nQ 2525 4250 2034 4250 \nz\nM 2034 4750 \nQ 2819 4750 3233 4129 \nQ 3647 3509 3647 2328 \nQ 3647 1150 3233 529 \nQ 2819 -91 2034 -91 \nQ 1250 -91 836 529 \nQ 422 1150 422 2328 \nQ 422 3509 836 4129 \nQ 1250 4750 2034 4750 \nz\n\" transform=\"scale(0.015625)\"/>\n      </defs>\n      <use xlink:href=\"#DejaVuSans-31\"/>\n      <use xlink:href=\"#DejaVuSans-30\" transform=\"translate(63.623047 0)\"/>\n     </g>\n    </g>\n   </g>\n   <g id=\"text_12\">\n    <g clip-path=\"url(#p7171bf712f)\">\n     <!-- 11 -->\n     <g transform=\"translate(254.769798 137.976996) scale(0.12 -0.12)\">\n      <use xlink:href=\"#DejaVuSans-31\"/>\n      <use xlink:href=\"#DejaVuSans-31\" transform=\"translate(63.623047 0)\"/>\n     </g>\n    </g>\n   </g>\n   <g id=\"text_13\">\n    <g clip-path=\"url(#p7171bf712f)\">\n     <!-- 12 -->\n     <g transform=\"translate(283.655237 160.660259) scale(0.12 -0.12)\">\n      <use xlink:href=\"#DejaVuSans-31\"/>\n      <use xlink:href=\"#DejaVuSans-32\" transform=\"translate(63.623047 0)\"/>\n     </g>\n    </g>\n   </g>\n   <g id=\"text_14\">\n    <g clip-path=\"url(#p7171bf712f)\">\n     <!-- 13 -->\n     <g transform=\"translate(320.090057 164.389538) scale(0.12 -0.12)\">\n      <use xlink:href=\"#DejaVuSans-31\"/>\n      <use xlink:href=\"#DejaVuSans-33\" transform=\"translate(63.623047 0)\"/>\n     </g>\n    </g>\n   </g>\n   <g id=\"text_15\">\n    <g clip-path=\"url(#p7171bf712f)\">\n     <!-- 14 -->\n     <g transform=\"translate(49.323545 98.933424) scale(0.12 -0.12)\">\n      <use xlink:href=\"#DejaVuSans-31\"/>\n      <use xlink:href=\"#DejaVuSans-34\" transform=\"translate(63.623047 0)\"/>\n     </g>\n    </g>\n   </g>\n  </g>\n </g>\n <defs>\n  <clipPath id=\"p7171bf712f\">\n   <rect x=\"7.2\" y=\"7.2\" width=\"558\" height=\"388.08\"/>\n  </clipPath>\n </defs>\n</svg>\n"
          },
          "metadata": {}
        }
      ],
      "source": [
        " plot_network(wdn, sensor_idx)"
      ]
    },
    {
      "cell_type": "markdown",
      "id": "cf326963",
      "metadata": {
        "id": "cf326963"
      },
      "source": [
        "Simulate initial (uncalibrated) network hydraulics over 4 days. We first define a function to solve network hydraulics using the `wntr` package, which we used previously in the hyraulic modelling notebook. The following tasks are performed in this function:\n",
        "- Load network properties\n",
        "- Modify simulation time to match operational data\n",
        "- Assign h0 data at model reservoir\n",
        "- Scale and apply new demand pattern from inflow data\n",
        "- Option to modify pipe roughness (or HW) coefficients\n",
        "\n",
        "<font color=\"blue\">NB: this is done for you below. Provided the correct inputs, you do not need to replicate this function."
      ]
    },
    {
      "cell_type": "code",
      "execution_count": 7,
      "id": "8ab6a264",
      "metadata": {
        "id": "8ab6a264"
      },
      "outputs": [],
      "source": [
        "#### DO NOT CHANGE THIS ####\n",
        "# hydraulic solver function\n",
        "def hydraulic_solver(inp_file, d_data, h0_data, C=None, demand=False):\n",
        "\n",
        "    # load network from wntr\n",
        "    inp_file = os.path.join(net_dir, net_name)\n",
        "    wn = wntr.network.WaterNetworkModel(inp_file)\n",
        "\n",
        "    # get network properties\n",
        "    reservoir_names = wn.reservoir_name_list\n",
        "    junction_names = wn.junction_name_list\n",
        "    link_names = wn.link_name_list\n",
        "\n",
        "    # modify simulation time and hydraulic time step\n",
        "    nt = h0_data.shape[1]\n",
        "    wn.options.time.duration = (nt - 1) * 3600\n",
        "    wn.options.time.hydraulic_timestep = 3600\n",
        "    wn.options.time.pattern_timestep = 3600\n",
        "    wn.options.time.report_timestep = 3600\n",
        "\n",
        "    # assign reservoir data\n",
        "    for (i, name) in enumerate(reservoir_names):\n",
        "        wn.add_pattern(f'h0_{i}', h0_data[i])\n",
        "        reservoir = wn.get_node(name)\n",
        "        reservoir.head_timeseries.base_value = 1\n",
        "        reservoir.head_timeseries.pattern_name = wn.get_pattern(f'h0_{i}')\n",
        "\n",
        "    # replace demand data\n",
        "    for idx, name in enumerate(junction_names):\n",
        "\n",
        "        if any(val != 0 for val in d_data[idx, :]):\n",
        "            node = wn.get_node(name)\n",
        "            d_pat = d_data[idx, :]\n",
        "            wn.add_pattern('d_'+name, d_pat)\n",
        "\n",
        "            for (i, num) in enumerate(node.demand_timeseries_list):\n",
        "                if i == 0:\n",
        "                    node.demand_timeseries_list[i].base_value = 1\n",
        "                    node.demand_timeseries_list[i].pattern_name = 'd_'+name\n",
        "                else:\n",
        "                    node.demand_timeseries_list[i].base_value = None\n",
        "                    node.demand_timeseries_list[i].pattern_name = None\n",
        "\n",
        "    # assign roughness (or HW) coefficients\n",
        "    if C is not None:\n",
        "        for name, link in wn.links():\n",
        "\n",
        "            # check if the link is a pipe\n",
        "            if isinstance(link, wntr.network.Pipe):\n",
        "                link.roughness = C[link_names.index(name)]\n",
        "\n",
        "            # check if link is a valve\n",
        "            elif isinstance(link, wntr.network.Valve):\n",
        "                link.minor_loss = C[link_names.index(name)]\n",
        "                link.initial_setting = C[link_names.index(name)]\n",
        "\n",
        "    # run simulation and get results\n",
        "    sim = wntr.sim.EpanetSimulator(wn)\n",
        "    results = sim.run_sim()\n",
        "\n",
        "    q_sim = results.link['flowrate'].T\n",
        "    h_sim = results.node['head'].T\n",
        "    h_sim = h_sim[~h_sim.index.isin(reservoir_names)] # delete reservoir nodes\n",
        "    d = results.node['demand'].T\n",
        "    d = d[~d.index.isin(reservoir_names)] # delete reservoir nodes\n",
        "\n",
        "\n",
        "    if demand == True:\n",
        "        return d.to_numpy()\n",
        "    else:\n",
        "        return q_sim.to_numpy(), h_sim.to_numpy()"
      ]
    },
    {
      "cell_type": "markdown",
      "id": "0bf50026",
      "metadata": {
        "id": "0bf50026"
      },
      "source": [
        "### Part 0: Preliminary evaluation"
      ]
    },
    {
      "cell_type": "markdown",
      "id": "3ccd2677",
      "metadata": {
        "id": "3ccd2677"
      },
      "source": [
        "Run simulation with initial $C_0$ values."
      ]
    },
    {
      "cell_type": "code",
      "execution_count": 8,
      "id": "396feded",
      "metadata": {
        "id": "396feded"
      },
      "outputs": [],
      "source": [
        "C_0 = link_df['C'].to_numpy()\n",
        "_, h_0 = hydraulic_solver(wdn, d_data, h0_data, C=C_0)"
      ]
    },
    {
      "cell_type": "markdown",
      "id": "1529c117",
      "metadata": {
        "id": "1529c117"
      },
      "source": [
        "Compare simulated heads at sensor nodes (node indices in `sensor_idx`) with the simulated heads over the 4-day period. Visualise the results with, e.g. a boxplot of pressure residuals on the test dataset."
      ]
    },
    {
      "cell_type": "code",
      "execution_count": 18,
      "id": "f8324840",
      "metadata": {
        "id": "f8324840",
        "outputId": "e3bc7027-1416-4a80-d2bd-8cad6c0de182",
        "colab": {
          "base_uri": "https://localhost:8080/",
          "height": 558
        }
      },
      "outputs": [
        {
          "output_type": "display_data",
          "data": {
            "text/plain": [
              "<Figure size 3000x2100 with 2 Axes>"
            ],
            "image/svg+xml": "<?xml version=\"1.0\" encoding=\"utf-8\" standalone=\"no\"?>\n<!DOCTYPE svg PUBLIC \"-//W3C//DTD SVG 1.1//EN\"\n  \"http://www.w3.org/Graphics/SVG/1.1/DTD/svg11.dtd\">\n<svg xmlns:xlink=\"http://www.w3.org/1999/xlink\" width=\"537.08025pt\" height=\"402.48pt\" viewBox=\"0 0 537.08025 402.48\" xmlns=\"http://www.w3.org/2000/svg\" version=\"1.1\">\n <metadata>\n  <rdf:RDF xmlns:dc=\"http://purl.org/dc/elements/1.1/\" xmlns:cc=\"http://creativecommons.org/ns#\" xmlns:rdf=\"http://www.w3.org/1999/02/22-rdf-syntax-ns#\">\n   <cc:Work>\n    <dc:type rdf:resource=\"http://purl.org/dc/dcmitype/StillImage\"/>\n    <dc:date>2025-03-11T13:15:25.981242</dc:date>\n    <dc:format>image/svg+xml</dc:format>\n    <dc:creator>\n     <cc:Agent>\n      <dc:title>Matplotlib v3.10.0, https://matplotlib.org/</dc:title>\n     </cc:Agent>\n    </dc:creator>\n   </cc:Work>\n  </rdf:RDF>\n </metadata>\n <defs>\n  <style type=\"text/css\">*{stroke-linejoin: round; stroke-linecap: butt}</style>\n </defs>\n <g id=\"figure_1\">\n  <g id=\"patch_1\">\n   <path d=\"M 0 402.48 \nL 537.08025 402.48 \nL 537.08025 -0 \nL 0 -0 \nz\n\" style=\"fill: #ffffff\"/>\n  </g>\n  <g id=\"axes_1\">\n   <g id=\"LineCollection_1\">\n    <path d=\"M 299.076987 323.490141 \nL 299.476421 323.185003 \n\" clip-path=\"url(#p361e3c2b62)\" style=\"fill: none; stroke: #000000\"/>\n    <path d=\"M 299.076987 323.490141 \nL 294.990357 321.805141 \n\" clip-path=\"url(#p361e3c2b62)\" style=\"fill: none; stroke: #000000\"/>\n    <path d=\"M 299.476421 323.185003 \nL 299.520828 323.149946 \n\" clip-path=\"url(#p361e3c2b62)\" style=\"fill: none; stroke: #000000\"/>\n    <path d=\"M 294.990357 321.805141 \nL 294.938245 321.783695 \n\" clip-path=\"url(#p361e3c2b62)\" style=\"fill: none; stroke: #000000\"/>\n    <path d=\"M 389.064818 353.256798 \nL 330.94445 359.89045 \n\" clip-path=\"url(#p361e3c2b62)\" style=\"fill: none; stroke: #000000\"/>\n    <path d=\"M 389.064818 353.256798 \nL 389.275608 353.290673 \n\" clip-path=\"url(#p361e3c2b62)\" style=\"fill: none; stroke: #000000\"/>\n    <path d=\"M 389.064818 353.256798 \nL 389.098095 353.008162 \n\" clip-path=\"url(#p361e3c2b62)\" style=\"fill: none; stroke: #000000\"/>\n    <path d=\"M 330.94445 359.89045 \nL 330.067843 361.122251 \n\" clip-path=\"url(#p361e3c2b62)\" style=\"fill: none; stroke: #000000\"/>\n    <path d=\"M 325.784863 79.039621 \nL 339.454986 148.619479 \n\" clip-path=\"url(#p361e3c2b62)\" style=\"fill: none; stroke: #000000\"/>\n    <path d=\"M 325.784863 79.039621 \nL 338.556232 61.92999 \n\" clip-path=\"url(#p361e3c2b62)\" style=\"fill: none; stroke: #000000\"/>\n    <path d=\"M 339.454986 148.619479 \nL 339.932103 148.574268 \n\" clip-path=\"url(#p361e3c2b62)\" style=\"fill: none; stroke: #000000\"/>\n    <path d=\"M 339.454986 148.619479 \nL 339.571483 149.873864 \n\" clip-path=\"url(#p361e3c2b62)\" style=\"fill: none; stroke: #000000\"/>\n    <path d=\"M 338.556232 61.92999 \nL 338.567305 61.918699 \n\" clip-path=\"url(#p361e3c2b62)\" style=\"fill: none; stroke: #000000\"/>\n    <path d=\"M 346.156941 154.563768 \nL 346.234624 154.959284 \n\" clip-path=\"url(#p361e3c2b62)\" style=\"fill: none; stroke: #000000\"/>\n    <path d=\"M 346.156941 154.563768 \nL 346.023777 153.806612 \n\" clip-path=\"url(#p361e3c2b62)\" style=\"fill: none; stroke: #000000\"/>\n    <path d=\"M 346.156941 154.563768 \nL 347.055695 154.337759 \n\" clip-path=\"url(#p361e3c2b62)\" style=\"fill: none; stroke: #000000\"/>\n    <path d=\"M 346.234624 154.959284 \nL 339.943233 156.575309 \n\" clip-path=\"url(#p361e3c2b62)\" style=\"fill: none; stroke: #000000\"/>\n    <path d=\"M 346.234624 154.959284 \nL 347.843489 154.563768 \n\" clip-path=\"url(#p361e3c2b62)\" style=\"fill: none; stroke: #000000\"/>\n    <path d=\"M 339.943233 156.575309 \nL 338.689396 158.044455 \n\" clip-path=\"url(#p361e3c2b62)\" style=\"fill: none; stroke: #000000\"/>\n    <path d=\"M 339.943233 156.575309 \nL 339.92103 156.03287 \n\" clip-path=\"url(#p361e3c2b62)\" style=\"fill: none; stroke: #000000\"/>\n    <path d=\"M 341.041704 148.461264 \nL 339.987583 148.568623 \n\" clip-path=\"url(#p361e3c2b62)\" style=\"fill: none; stroke: #000000\"/>\n    <path d=\"M 339.987583 148.568623 \nL 339.932103 148.574268 \n\" clip-path=\"url(#p361e3c2b62)\" style=\"fill: none; stroke: #000000\"/>\n    <path d=\"M 338.689396 158.044455 \nL 338.201148 158.168751 \n\" clip-path=\"url(#p361e3c2b62)\" style=\"fill: none; stroke: #000000\"/>\n    <path d=\"M 338.689396 158.044455 \nL 338.911316 159.942991 \n\" clip-path=\"url(#p361e3c2b62)\" style=\"fill: none; stroke: #000000\"/>\n    <path d=\"M 325.773733 161.43472 \nL 338.147894 158.182319 \n\" clip-path=\"url(#p361e3c2b62)\" style=\"fill: none; stroke: #000000\"/>\n    <path d=\"M 325.773733 161.43472 \nL 324.697466 161.762442 \n\" clip-path=\"url(#p361e3c2b62)\" style=\"fill: none; stroke: #000000\"/>\n    <path d=\"M 338.147894 158.182319 \nL 338.201148 158.168751 \n\" clip-path=\"url(#p361e3c2b62)\" style=\"fill: none; stroke: #000000\"/>\n    <path d=\"M 339.532669 165.491765 \nL 338.917937 159.998399 \n\" clip-path=\"url(#p361e3c2b62)\" style=\"fill: none; stroke: #000000\"/>\n    <path d=\"M 339.532669 165.491765 \nL 341.862831 174.887374 \n\" clip-path=\"url(#p361e3c2b62)\" style=\"fill: none; stroke: #000000\"/>\n    <path d=\"M 339.532669 165.491765 \nL 340.298317 165.344842 \n\" clip-path=\"url(#p361e3c2b62)\" style=\"fill: none; stroke: #000000\"/>\n    <path d=\"M 338.917937 159.998399 \nL 338.911316 159.942991 \n\" clip-path=\"url(#p361e3c2b62)\" style=\"fill: none; stroke: #000000\"/>\n    <path d=\"M 342.062548 175.312257 \nL 341.884978 174.939324 \n\" clip-path=\"url(#p361e3c2b62)\" style=\"fill: none; stroke: #000000\"/>\n    <path d=\"M 342.062548 175.312257 \nL 341.663115 175.470472 \n\" clip-path=\"url(#p361e3c2b62)\" style=\"fill: none; stroke: #000000\"/>\n    <path d=\"M 342.062548 175.312257 \nL 342.351021 176.001619 \n\" clip-path=\"url(#p361e3c2b62)\" style=\"fill: none; stroke: #000000\"/>\n    <path d=\"M 341.884978 174.939324 \nL 341.862831 174.887374 \n\" clip-path=\"url(#p361e3c2b62)\" style=\"fill: none; stroke: #000000\"/>\n    <path d=\"M 347.887895 188.771694 \nL 342.373225 176.053613 \n\" clip-path=\"url(#p361e3c2b62)\" style=\"fill: none; stroke: #000000\"/>\n    <path d=\"M 347.887895 188.771694 \nL 348.004392 189.07228 \n\" clip-path=\"url(#p361e3c2b62)\" style=\"fill: none; stroke: #000000\"/>\n    <path d=\"M 347.887895 188.771694 \nL 347.355298 189.031621 \n\" clip-path=\"url(#p361e3c2b62)\" style=\"fill: none; stroke: #000000\"/>\n    <path d=\"M 342.373225 176.053613 \nL 342.351021 176.001619 \n\" clip-path=\"url(#p361e3c2b62)\" style=\"fill: none; stroke: #000000\"/>\n    <path d=\"M 330.378577 183.053413 \nL 341.61203 175.490823 \n\" clip-path=\"url(#p361e3c2b62)\" style=\"fill: none; stroke: #000000\"/>\n    <path d=\"M 341.61203 175.490823 \nL 341.663115 175.470472 \n\" clip-path=\"url(#p361e3c2b62)\" style=\"fill: none; stroke: #000000\"/>\n    <path d=\"M 347.897884 154.549063 \nL 356.306364 152.33182 \n\" clip-path=\"url(#p361e3c2b62)\" style=\"fill: none; stroke: #000000\"/>\n    <path d=\"M 347.897884 154.549063 \nL 347.843489 154.563768 \n\" clip-path=\"url(#p361e3c2b62)\" style=\"fill: none; stroke: #000000\"/>\n    <path d=\"M 356.306364 152.33182 \nL 371.788493 147.941408 \n\" clip-path=\"url(#p361e3c2b62)\" style=\"fill: none; stroke: #000000\"/>\n    <path d=\"M 346.023777 153.806612 \nL 346.014873 153.751204 \n\" clip-path=\"url(#p361e3c2b62)\" style=\"fill: none; stroke: #000000\"/>\n    <path d=\"M 339.92103 156.03287 \nL 339.918804 155.976368 \n\" clip-path=\"url(#p361e3c2b62)\" style=\"fill: none; stroke: #000000\"/>\n    <path d=\"M 347.355298 189.031621 \nL 347.305355 189.055343 \n\" clip-path=\"url(#p361e3c2b62)\" style=\"fill: none; stroke: #000000\"/>\n    <path d=\"M 340.298317 165.344842 \nL 340.353797 165.334688 \n\" clip-path=\"url(#p361e3c2b62)\" style=\"fill: none; stroke: #000000\"/>\n    <path d=\"M 342.295541 164.372968 \nL 342.417632 164.960618 \n\" clip-path=\"url(#p361e3c2b62)\" style=\"fill: none; stroke: #000000\"/>\n    <path d=\"M 342.295541 164.372968 \nL 342.284468 164.317604 \n\" clip-path=\"url(#p361e3c2b62)\" style=\"fill: none; stroke: #000000\"/>\n    <path d=\"M 342.417632 164.960618 \nL 340.353797 165.334688 \n\" clip-path=\"url(#p361e3c2b62)\" style=\"fill: none; stroke: #000000\"/>\n    <path d=\"M 342.417632 164.960618 \nL 342.595145 165.514348 \n\" clip-path=\"url(#p361e3c2b62)\" style=\"fill: none; stroke: #000000\"/>\n    <path d=\"M 337.224711 194.331759 \nL 347.305355 189.055343 \n\" clip-path=\"url(#p361e3c2b62)\" style=\"fill: none; stroke: #000000\"/>\n    <path d=\"M 337.224711 194.331759 \nL 334.040202 196.671022 \n\" clip-path=\"url(#p361e3c2b62)\" style=\"fill: none; stroke: #000000\"/>\n    <path d=\"M 337.224711 194.331759 \nL 337.435558 194.682064 \n\" clip-path=\"url(#p361e3c2b62)\" style=\"fill: none; stroke: #000000\"/>\n    <path d=\"M 340.08747 199.179835 \nL 337.464383 194.730688 \n\" clip-path=\"url(#p361e3c2b62)\" style=\"fill: none; stroke: #000000\"/>\n    <path d=\"M 340.08747 199.179835 \nL 345.058413 195.258422 \n\" clip-path=\"url(#p361e3c2b62)\" style=\"fill: none; stroke: #000000\"/>\n    <path d=\"M 340.08747 199.179835 \nL 339.86555 207.938076 \n\" clip-path=\"url(#p361e3c2b62)\" style=\"fill: none; stroke: #000000\"/>\n    <path d=\"M 337.464383 194.730688 \nL 337.435558 194.682064 \n\" clip-path=\"url(#p361e3c2b62)\" style=\"fill: none; stroke: #000000\"/>\n    <path d=\"M 334.040202 196.671022 \nL 334.006926 196.908366 \n\" clip-path=\"url(#p361e3c2b62)\" style=\"fill: none; stroke: #000000\"/>\n    <path d=\"M 334.040202 196.671022 \nL 333.563085 196.591936 \n\" clip-path=\"url(#p361e3c2b62)\" style=\"fill: none; stroke: #000000\"/>\n    <path d=\"M 325.773733 209.158585 \nL 333.999163 196.96373 \n\" clip-path=\"url(#p361e3c2b62)\" style=\"fill: none; stroke: #000000\"/>\n    <path d=\"M 325.773733 209.158585 \nL 319.146151 210.077326 \n\" clip-path=\"url(#p361e3c2b62)\" style=\"fill: none; stroke: #000000\"/>\n    <path d=\"M 333.999163 196.96373 \nL 334.006926 196.908366 \n\" clip-path=\"url(#p361e3c2b62)\" style=\"fill: none; stroke: #000000\"/>\n    <path d=\"M 333.563085 196.591936 \nL 333.50869 196.584014 \n\" clip-path=\"url(#p361e3c2b62)\" style=\"fill: none; stroke: #000000\"/>\n    <path d=\"M 341.529951 160.767985 \nL 342.284468 164.317604 \n\" clip-path=\"url(#p361e3c2b62)\" style=\"fill: none; stroke: #000000\"/>\n    <path d=\"M 352.625846 165.141416 \nL 342.612896 165.567481 \n\" clip-path=\"url(#p361e3c2b62)\" style=\"fill: none; stroke: #000000\"/>\n    <path d=\"M 352.625846 165.141416 \nL 352.681326 165.548267 \n\" clip-path=\"url(#p361e3c2b62)\" style=\"fill: none; stroke: #000000\"/>\n    <path d=\"M 352.625846 165.141416 \nL 352.614772 164.598977 \n\" clip-path=\"url(#p361e3c2b62)\" style=\"fill: none; stroke: #000000\"/>\n    <path d=\"M 342.612896 165.567481 \nL 342.595145 165.514348 \n\" clip-path=\"url(#p361e3c2b62)\" style=\"fill: none; stroke: #000000\"/>\n    <path d=\"M 354.611997 168.226587 \nL 352.69354 165.603632 \n\" clip-path=\"url(#p361e3c2b62)\" style=\"fill: none; stroke: #000000\"/>\n    <path d=\"M 352.69354 165.603632 \nL 352.681326 165.548267 \n\" clip-path=\"url(#p361e3c2b62)\" style=\"fill: none; stroke: #000000\"/>\n    <path d=\"M 350.317887 158.948534 \nL 352.614772 164.542475 \n\" clip-path=\"url(#p361e3c2b62)\" style=\"fill: none; stroke: #000000\"/>\n    <path d=\"M 352.614772 164.542475 \nL 352.614772 164.598977 \n\" clip-path=\"url(#p361e3c2b62)\" style=\"fill: none; stroke: #000000\"/>\n    <path d=\"M 338.567305 61.918699 \nL 338.599497 61.87235 \n\" clip-path=\"url(#p361e3c2b62)\" style=\"fill: none; stroke: #000000\"/>\n    <path d=\"M 352.836693 40.876364 \nL 338.599497 61.87235 \n\" clip-path=\"url(#p361e3c2b62)\" style=\"fill: none; stroke: #000000\"/>\n    <path d=\"M 389.275608 353.290673 \nL 389.337766 353.300871 \n\" clip-path=\"url(#p361e3c2b62)\" style=\"fill: none; stroke: #000000\"/>\n    <path d=\"M 389.098095 353.008162 \nL 389.105857 352.95166 \n\" clip-path=\"url(#p361e3c2b62)\" style=\"fill: none; stroke: #000000\"/>\n    <path d=\"M 263.803096 65.749734 \nL 263.259425 65.987035 \n\" clip-path=\"url(#p361e3c2b62)\" style=\"fill: none; stroke: #000000\"/>\n    <path d=\"M 263.259425 65.987035 \nL 263.20834 66.008524 \n\" clip-path=\"url(#p361e3c2b62)\" style=\"fill: none; stroke: #000000\"/>\n    <path d=\"M 263.20834 66.008524 \nL 285.56109 131.481619 \n\" clip-path=\"url(#p361e3c2b62)\" style=\"fill: none; stroke: #000000\"/>\n    <path d=\"M 285.56109 131.481619 \nL 285.584378 131.532476 \n\" clip-path=\"url(#p361e3c2b62)\" style=\"fill: none; stroke: #000000\"/>\n    <path d=\"M 285.584378 131.532476 \nL 286.816012 133.871738 \n\" clip-path=\"url(#p361e3c2b62)\" style=\"fill: none; stroke: #000000\"/>\n    <path d=\"M 286.816012 133.871738 \nL 290.236882 146.520887 \n\" clip-path=\"url(#p361e3c2b62)\" style=\"fill: none; stroke: #000000\"/>\n    <path d=\"M 332.065124 358.466515 \nL 331.998571 357.822363 \n\" clip-path=\"url(#p361e3c2b62)\" style=\"fill: none; stroke: #000000\"/>\n    <path d=\"M 331.998571 357.822363 \nL 331.27733 357.969286 \n\" clip-path=\"url(#p361e3c2b62)\" style=\"fill: none; stroke: #000000\"/>\n    <path d=\"M 331.998571 357.822363 \nL 388.76417 351.288245 \n\" clip-path=\"url(#p361e3c2b62)\" style=\"fill: none; stroke: #000000\"/>\n    <path d=\"M 414.86281 302.877197 \nL 389.105857 352.95166 \n\" clip-path=\"url(#p361e3c2b62)\" style=\"fill: none; stroke: #000000\"/>\n    <path d=\"M 292.75232 153.004245 \nL 292.907686 153.060747 \n\" clip-path=\"url(#p361e3c2b62)\" style=\"fill: none; stroke: #000000\"/>\n    <path d=\"M 292.75232 153.004245 \nL 292.70015 152.985032 \n\" clip-path=\"url(#p361e3c2b62)\" style=\"fill: none; stroke: #000000\"/>\n    <path d=\"M 292.907686 153.060747 \nL 293.229436 153.230254 \n\" clip-path=\"url(#p361e3c2b62)\" style=\"fill: none; stroke: #000000\"/>\n    <path d=\"M 292.907686 153.060747 \nL 294.283557 152.676523 \n\" clip-path=\"url(#p361e3c2b62)\" style=\"fill: none; stroke: #000000\"/>\n    <path d=\"M 292.65249 151.422095 \nL 292.59701 152.947743 \n\" clip-path=\"url(#p361e3c2b62)\" style=\"fill: none; stroke: #000000\"/>\n    <path d=\"M 292.65249 151.422095 \nL 292.622524 151.374652 \n\" clip-path=\"url(#p361e3c2b62)\" style=\"fill: none; stroke: #000000\"/>\n    <path d=\"M 292.59701 152.947743 \nL 292.70015 152.985032 \n\" clip-path=\"url(#p361e3c2b62)\" style=\"fill: none; stroke: #000000\"/>\n    <path d=\"M 292.59701 152.947743 \nL 274.710404 154.05748 \n\" clip-path=\"url(#p361e3c2b62)\" style=\"fill: none; stroke: #000000\"/>\n    <path d=\"M 330.367446 173.990078 \nL 311.545442 187.405399 \n\" clip-path=\"url(#p361e3c2b62)\" style=\"fill: none; stroke: #000000\"/>\n    <path d=\"M 311.545442 187.405399 \nL 311.49333 187.426888 \n\" clip-path=\"url(#p361e3c2b62)\" style=\"fill: none; stroke: #000000\"/>\n    <path d=\"M 304.303185 173.165084 \nL 310.527966 187.833695 \n\" clip-path=\"url(#p361e3c2b62)\" style=\"fill: none; stroke: #000000\"/>\n    <path d=\"M 304.303185 173.165084 \nL 304.447421 173.09729 \n\" clip-path=\"url(#p361e3c2b62)\" style=\"fill: none; stroke: #000000\"/>\n    <path d=\"M 304.303185 173.165084 \nL 303.482057 171.820278 \n\" clip-path=\"url(#p361e3c2b62)\" style=\"fill: none; stroke: #000000\"/>\n    <path d=\"M 310.527966 187.833695 \nL 311.99265 193.631105 \n\" clip-path=\"url(#p361e3c2b62)\" style=\"fill: none; stroke: #000000\"/>\n    <path d=\"M 310.527966 187.833695 \nL 311.49333 187.426888 \n\" clip-path=\"url(#p361e3c2b62)\" style=\"fill: none; stroke: #000000\"/>\n    <path d=\"M 314.100835 201.044496 \nL 318.483758 209.46368 \n\" clip-path=\"url(#p361e3c2b62)\" style=\"fill: none; stroke: #000000\"/>\n    <path d=\"M 314.100835 201.044496 \nL 311.99265 193.631105 \n\" clip-path=\"url(#p361e3c2b62)\" style=\"fill: none; stroke: #000000\"/>\n    <path d=\"M 314.100835 201.044496 \nL 313.490554 201.293132 \n\" clip-path=\"url(#p361e3c2b62)\" style=\"fill: none; stroke: #000000\"/>\n    <path d=\"M 318.483758 209.46368 \nL 317.729241 209.938325 \n\" clip-path=\"url(#p361e3c2b62)\" style=\"fill: none; stroke: #000000\"/>\n    <path d=\"M 318.483758 209.46368 \nL 319.105112 210.040038 \n\" clip-path=\"url(#p361e3c2b62)\" style=\"fill: none; stroke: #000000\"/>\n    <path d=\"M 311.99265 193.631105 \nL 311.88169 193.642397 \n\" clip-path=\"url(#p361e3c2b62)\" style=\"fill: none; stroke: #000000\"/>\n    <path d=\"M 311.88169 193.642397 \nL 311.828436 193.653688 \n\" clip-path=\"url(#p361e3c2b62)\" style=\"fill: none; stroke: #000000\"/>\n    <path d=\"M 304.680415 150.009495 \nL 294.337953 152.661818 \n\" clip-path=\"url(#p361e3c2b62)\" style=\"fill: none; stroke: #000000\"/>\n    <path d=\"M 304.680415 150.009495 \nL 311.215929 147.026037 \n\" clip-path=\"url(#p361e3c2b62)\" style=\"fill: none; stroke: #000000\"/>\n    <path d=\"M 304.680415 150.009495 \nL 304.502901 149.410554 \n\" clip-path=\"url(#p361e3c2b62)\" style=\"fill: none; stroke: #000000\"/>\n    <path d=\"M 294.337953 152.661818 \nL 294.283557 152.676523 \n\" clip-path=\"url(#p361e3c2b62)\" style=\"fill: none; stroke: #000000\"/>\n    <path d=\"M 311.215929 147.026037 \nL 312.42536 146.020245 \n\" clip-path=\"url(#p361e3c2b62)\" style=\"fill: none; stroke: #000000\"/>\n    <path d=\"M 311.215929 147.026037 \nL 311.337963 147.17296 \n\" clip-path=\"url(#p361e3c2b62)\" style=\"fill: none; stroke: #000000\"/>\n    <path d=\"M 310.594519 154.597643 \nL 311.374607 147.215895 \n\" clip-path=\"url(#p361e3c2b62)\" style=\"fill: none; stroke: #000000\"/>\n    <path d=\"M 311.374607 147.215895 \nL 311.337963 147.17296 \n\" clip-path=\"url(#p361e3c2b62)\" style=\"fill: none; stroke: #000000\"/>\n    <path d=\"M 290.477695 147.04862 \nL 290.566451 147.252046 \n\" clip-path=\"url(#p361e3c2b62)\" style=\"fill: none; stroke: #000000\"/>\n    <path d=\"M 290.477695 147.04862 \nL 290.255775 146.574019 \n\" clip-path=\"url(#p361e3c2b62)\" style=\"fill: none; stroke: #000000\"/>\n    <path d=\"M 290.477695 147.04862 \nL 290.710688 146.935616 \n\" clip-path=\"url(#p361e3c2b62)\" style=\"fill: none; stroke: #000000\"/>\n    <path d=\"M 290.566451 147.252046 \nL 290.589739 147.302902 \n\" clip-path=\"url(#p361e3c2b62)\" style=\"fill: none; stroke: #000000\"/>\n    <path d=\"M 290.236882 146.520887 \nL 290.255775 146.574019 \n\" clip-path=\"url(#p361e3c2b62)\" style=\"fill: none; stroke: #000000\"/>\n    <path d=\"M 304.502901 149.410554 \nL 304.487376 149.356284 \n\" clip-path=\"url(#p361e3c2b62)\" style=\"fill: none; stroke: #000000\"/>\n    <path d=\"M 297.057559 144.720649 \nL 290.761716 146.913033 \n\" clip-path=\"url(#p361e3c2b62)\" style=\"fill: none; stroke: #000000\"/>\n    <path d=\"M 297.057559 144.720649 \nL 297.357106 144.675439 \n\" clip-path=\"url(#p361e3c2b62)\" style=\"fill: none; stroke: #000000\"/>\n    <path d=\"M 290.761716 146.913033 \nL 290.710688 146.935616 \n\" clip-path=\"url(#p361e3c2b62)\" style=\"fill: none; stroke: #000000\"/>\n    <path d=\"M 241.711136 147.9527 \nL 229.57111 145.455222 \n\" clip-path=\"url(#p361e3c2b62)\" style=\"fill: none; stroke: #000000\"/>\n    <path d=\"M 241.711136 147.9527 \nL 241.921983 147.997911 \n\" clip-path=\"url(#p361e3c2b62)\" style=\"fill: none; stroke: #000000\"/>\n    <path d=\"M 241.711136 147.9527 \nL 241.67786 148.156126 \n\" clip-path=\"url(#p361e3c2b62)\" style=\"fill: none; stroke: #000000\"/>\n    <path d=\"M 229.57111 145.455222 \nL 229.516771 145.443887 \n\" clip-path=\"url(#p361e3c2b62)\" style=\"fill: none; stroke: #000000\"/>\n    <path d=\"M 252.218954 155.004494 \nL 252.252288 154.767194 \n\" clip-path=\"url(#p361e3c2b62)\" style=\"fill: none; stroke: #000000\"/>\n    <path d=\"M 252.218954 155.004494 \nL 252.119124 155.501723 \n\" clip-path=\"url(#p361e3c2b62)\" style=\"fill: none; stroke: #000000\"/>\n    <path d=\"M 252.218954 155.004494 \nL 250.354893 154.710692 \n\" clip-path=\"url(#p361e3c2b62)\" style=\"fill: none; stroke: #000000\"/>\n    <path d=\"M 252.252288 154.767194 \nL 252.263361 154.711786 \n\" clip-path=\"url(#p361e3c2b62)\" style=\"fill: none; stroke: #000000\"/>\n    <path d=\"M 251.630877 158.180043 \nL 252.109135 155.557131 \n\" clip-path=\"url(#p361e3c2b62)\" style=\"fill: none; stroke: #000000\"/>\n    <path d=\"M 251.630877 158.180043 \nL 251.452279 161.084415 \n\" clip-path=\"url(#p361e3c2b62)\" style=\"fill: none; stroke: #000000\"/>\n    <path d=\"M 252.109135 155.557131 \nL 252.119124 155.501723 \n\" clip-path=\"url(#p361e3c2b62)\" style=\"fill: none; stroke: #000000\"/>\n    <path d=\"M 241.67786 148.156126 \nL 241.669013 148.21149 \n\" clip-path=\"url(#p361e3c2b62)\" style=\"fill: none; stroke: #000000\"/>\n    <path d=\"M 296.369595 159.332758 \nL 303.446554 171.777343 \n\" clip-path=\"url(#p361e3c2b62)\" style=\"fill: none; stroke: #000000\"/>\n    <path d=\"M 296.369595 159.332758 \nL 293.280521 153.252838 \n\" clip-path=\"url(#p361e3c2b62)\" style=\"fill: none; stroke: #000000\"/>\n    <path d=\"M 296.369595 159.332758 \nL 295.548468 159.683064 \n\" clip-path=\"url(#p361e3c2b62)\" style=\"fill: none; stroke: #000000\"/>\n    <path d=\"M 303.446554 171.777343 \nL 303.482057 171.820278 \n\" clip-path=\"url(#p361e3c2b62)\" style=\"fill: none; stroke: #000000\"/>\n    <path d=\"M 293.229436 153.230254 \nL 293.280521 153.252838 \n\" clip-path=\"url(#p361e3c2b62)\" style=\"fill: none; stroke: #000000\"/>\n    <path d=\"M 281.911622 169.141958 \nL 282.632862 168.633438 \n\" clip-path=\"url(#p361e3c2b62)\" style=\"fill: none; stroke: #000000\"/>\n    <path d=\"M 281.911622 169.141958 \nL 279.514907 164.655479 \n\" clip-path=\"url(#p361e3c2b62)\" style=\"fill: none; stroke: #000000\"/>\n    <path d=\"M 281.911622 169.141958 \nL 282.033655 169.447097 \n\" clip-path=\"url(#p361e3c2b62)\" style=\"fill: none; stroke: #000000\"/>\n    <path d=\"M 282.632862 168.633438 \nL 282.678354 168.600657 \n\" clip-path=\"url(#p361e3c2b62)\" style=\"fill: none; stroke: #000000\"/>\n    <path d=\"M 284.363817 173.775361 \nL 282.060311 169.496815 \n\" clip-path=\"url(#p361e3c2b62)\" style=\"fill: none; stroke: #000000\"/>\n    <path d=\"M 282.060311 169.496815 \nL 282.033655 169.447097 \n\" clip-path=\"url(#p361e3c2b62)\" style=\"fill: none; stroke: #000000\"/>\n    <path d=\"M 274.000236 154.168209 \nL 265.15682 152.812111 \n\" clip-path=\"url(#p361e3c2b62)\" style=\"fill: none; stroke: #000000\"/>\n    <path d=\"M 274.000236 154.168209 \nL 274.29984 154.721983 \n\" clip-path=\"url(#p361e3c2b62)\" style=\"fill: none; stroke: #000000\"/>\n    <path d=\"M 274.000236 154.168209 \nL 274.654924 154.06654 \n\" clip-path=\"url(#p361e3c2b62)\" style=\"fill: none; stroke: #000000\"/>\n    <path d=\"M 265.15682 152.812111 \nL 265.056933 153.264173 \n\" clip-path=\"url(#p361e3c2b62)\" style=\"fill: none; stroke: #000000\"/>\n    <path d=\"M 279.514907 164.655479 \nL 276.297121 166.395845 \n\" clip-path=\"url(#p361e3c2b62)\" style=\"fill: none; stroke: #000000\"/>\n    <path d=\"M 279.514907 164.655479 \nL 279.437223 164.519891 \n\" clip-path=\"url(#p361e3c2b62)\" style=\"fill: none; stroke: #000000\"/>\n    <path d=\"M 274.29984 154.721983 \nL 274.326438 154.771702 \n\" clip-path=\"url(#p361e3c2b62)\" style=\"fill: none; stroke: #000000\"/>\n    <path d=\"M 283.276419 180.781945 \nL 281.346833 176.328246 \n\" clip-path=\"url(#p361e3c2b62)\" style=\"fill: none; stroke: #000000\"/>\n    <path d=\"M 281.346833 176.328246 \nL 281.334618 176.272838 \n\" clip-path=\"url(#p361e3c2b62)\" style=\"fill: none; stroke: #000000\"/>\n    <path d=\"M 276.297121 166.395845 \nL 276.652148 167.028705 \n\" clip-path=\"url(#p361e3c2b62)\" style=\"fill: none; stroke: #000000\"/>\n    <path d=\"M 276.297121 166.395845 \nL 272.102842 168.667313 \n\" clip-path=\"url(#p361e3c2b62)\" style=\"fill: none; stroke: #000000\"/>\n    <path d=\"M 276.652148 167.028705 \nL 276.678804 167.078423 \n\" clip-path=\"url(#p361e3c2b62)\" style=\"fill: none; stroke: #000000\"/>\n    <path d=\"M 272.102842 168.667313 \nL 271.758888 168.859447 \n\" clip-path=\"url(#p361e3c2b62)\" style=\"fill: none; stroke: #000000\"/>\n    <path d=\"M 272.102842 168.667313 \nL 271.659001 167.751942 \n\" clip-path=\"url(#p361e3c2b62)\" style=\"fill: none; stroke: #000000\"/>\n    <path d=\"M 281.279138 176.069457 \nL 279.825584 176.374551 \n\" clip-path=\"url(#p361e3c2b62)\" style=\"fill: none; stroke: #000000\"/>\n    <path d=\"M 281.279138 176.069457 \nL 281.334618 176.272838 \n\" clip-path=\"url(#p361e3c2b62)\" style=\"fill: none; stroke: #000000\"/>\n    <path d=\"M 281.279138 176.069457 \nL 281.245861 175.933825 \n\" clip-path=\"url(#p361e3c2b62)\" style=\"fill: none; stroke: #000000\"/>\n    <path d=\"M 279.825584 176.374551 \nL 279.771245 176.385843 \n\" clip-path=\"url(#p361e3c2b62)\" style=\"fill: none; stroke: #000000\"/>\n    <path d=\"M 269.695053 160.654981 \nL 271.635713 167.701086 \n\" clip-path=\"url(#p361e3c2b62)\" style=\"fill: none; stroke: #000000\"/>\n    <path d=\"M 271.635713 167.701086 \nL 271.659001 167.751942 \n\" clip-path=\"url(#p361e3c2b62)\" style=\"fill: none; stroke: #000000\"/>\n    <path d=\"M 278.826943 243.536017 \nL 278.749316 243.343883 \n\" clip-path=\"url(#p361e3c2b62)\" style=\"fill: none; stroke: #000000\"/>\n    <path d=\"M 278.826943 243.536017 \nL 278.92683 243.795945 \n\" clip-path=\"url(#p361e3c2b62)\" style=\"fill: none; stroke: #000000\"/>\n    <path d=\"M 278.826943 243.536017 \nL 278.98231 243.479515 \n\" clip-path=\"url(#p361e3c2b62)\" style=\"fill: none; stroke: #000000\"/>\n    <path d=\"M 278.749316 243.343883 \nL 278.729339 243.290795 \n\" clip-path=\"url(#p361e3c2b62)\" style=\"fill: none; stroke: #000000\"/>\n    <path d=\"M 319.146151 210.077326 \nL 319.105112 210.040038 \n\" clip-path=\"url(#p361e3c2b62)\" style=\"fill: none; stroke: #000000\"/>\n    <path d=\"M 317.729241 209.938325 \nL 317.682608 209.967736 \n\" clip-path=\"url(#p361e3c2b62)\" style=\"fill: none; stroke: #000000\"/>\n    <path d=\"M 274.654924 154.06654 \nL 274.710404 154.05748 \n\" clip-path=\"url(#p361e3c2b62)\" style=\"fill: none; stroke: #000000\"/>\n    <path d=\"M 304.447421 173.09729 \nL 304.499591 173.075801 \n\" clip-path=\"url(#p361e3c2b62)\" style=\"fill: none; stroke: #000000\"/>\n    <path d=\"M 313.490554 201.293132 \nL 313.439526 201.314578 \n\" clip-path=\"url(#p361e3c2b62)\" style=\"fill: none; stroke: #000000\"/>\n    <path d=\"M 311.828436 193.653688 \nL 296.771255 205.297045 \n\" clip-path=\"url(#p361e3c2b62)\" style=\"fill: none; stroke: #000000\"/>\n    <path d=\"M 296.771255 205.297045 \nL 296.791232 205.350177 \n\" clip-path=\"url(#p361e3c2b62)\" style=\"fill: none; stroke: #000000\"/>\n    <path d=\"M 296.791232 205.350177 \nL 313.439526 201.314578 \n\" clip-path=\"url(#p361e3c2b62)\" style=\"fill: none; stroke: #000000\"/>\n    <path d=\"M 294.727398 321.30905 \nL 260.13034 359.867823 \n\" clip-path=\"url(#p361e3c2b62)\" style=\"fill: none; stroke: #000000\"/>\n    <path d=\"M 294.727398 321.30905 \nL 294.560958 321.648063 \n\" clip-path=\"url(#p361e3c2b62)\" style=\"fill: none; stroke: #000000\"/>\n    <path d=\"M 294.727398 321.30905 \nL 295.676095 319.320092 \n\" clip-path=\"url(#p361e3c2b62)\" style=\"fill: none; stroke: #000000\"/>\n    <path d=\"M 290.589739 147.302902 \nL 292.622524 151.374652 \n\" clip-path=\"url(#p361e3c2b62)\" style=\"fill: none; stroke: #000000\"/>\n    <path d=\"M 297.357106 144.675439 \nL 297.412586 144.666423 \n\" clip-path=\"url(#p361e3c2b62)\" style=\"fill: none; stroke: #000000\"/>\n    <path d=\"M 304.487376 149.356284 \nL 297.412586 144.666423 \n\" clip-path=\"url(#p361e3c2b62)\" style=\"fill: none; stroke: #000000\"/>\n    <path d=\"M 265.056933 153.264173 \nL 265.046944 153.319537 \n\" clip-path=\"url(#p361e3c2b62)\" style=\"fill: none; stroke: #000000\"/>\n    <path d=\"M 252.263361 154.711786 \nL 265.046944 153.319537 \n\" clip-path=\"url(#p361e3c2b62)\" style=\"fill: none; stroke: #000000\"/>\n    <path d=\"M 278.729339 243.290795 \nL 229.219394 164.534553 \n\" clip-path=\"url(#p361e3c2b62)\" style=\"fill: none; stroke: #000000\"/>\n    <path d=\"M 229.219394 164.534553 \nL 229.79303 145.693661 \n\" clip-path=\"url(#p361e3c2b62)\" style=\"fill: none; stroke: #000000\"/>\n    <path d=\"M 278.92683 243.795945 \nL 278.947892 243.847939 \n\" clip-path=\"url(#p361e3c2b62)\" style=\"fill: none; stroke: #000000\"/>\n    <path d=\"M 228.806604 145.477806 \nL 229.072931 145.534308 \n\" clip-path=\"url(#p361e3c2b62)\" style=\"fill: none; stroke: #000000\"/>\n    <path d=\"M 228.806604 145.477806 \nL 228.75335 145.465376 \n\" clip-path=\"url(#p361e3c2b62)\" style=\"fill: none; stroke: #000000\"/>\n    <path d=\"M 229.072931 145.534308 \nL 229.738692 145.681231 \n\" clip-path=\"url(#p361e3c2b62)\" style=\"fill: none; stroke: #000000\"/>\n    <path d=\"M 229.072931 145.534308 \nL 229.516771 145.443887 \n\" clip-path=\"url(#p361e3c2b62)\" style=\"fill: none; stroke: #000000\"/>\n    <path d=\"M 229.738692 145.681231 \nL 229.79303 145.693661 \n\" clip-path=\"url(#p361e3c2b62)\" style=\"fill: none; stroke: #000000\"/>\n    <path d=\"M 250.354893 154.710692 \nL 250.300497 154.701632 \n\" clip-path=\"url(#p361e3c2b62)\" style=\"fill: none; stroke: #000000\"/>\n    <path d=\"M 241.669013 148.21149 \nL 250.300497 154.701632 \n\" clip-path=\"url(#p361e3c2b62)\" style=\"fill: none; stroke: #000000\"/>\n    <path d=\"M 295.548468 159.683064 \nL 295.49744 159.702277 \n\" clip-path=\"url(#p361e3c2b62)\" style=\"fill: none; stroke: #000000\"/>\n    <path d=\"M 279.437223 164.519891 \nL 279.411709 164.470173 \n\" clip-path=\"url(#p361e3c2b62)\" style=\"fill: none; stroke: #000000\"/>\n    <path d=\"M 279.771245 176.385843 \nL 271.710029 168.884306 \n\" clip-path=\"url(#p361e3c2b62)\" style=\"fill: none; stroke: #000000\"/>\n    <path d=\"M 271.710029 168.884306 \nL 271.758888 168.859447 \n\" clip-path=\"url(#p361e3c2b62)\" style=\"fill: none; stroke: #000000\"/>\n    <path d=\"M 276.678804 167.078423 \nL 281.231421 175.879599 \n\" clip-path=\"url(#p361e3c2b62)\" style=\"fill: none; stroke: #000000\"/>\n    <path d=\"M 281.231421 175.879599 \nL 281.245861 175.933825 \n\" clip-path=\"url(#p361e3c2b62)\" style=\"fill: none; stroke: #000000\"/>\n    <path d=\"M 286.006015 229.726275 \nL 279.034479 243.459164 \n\" clip-path=\"url(#p361e3c2b62)\" style=\"fill: none; stroke: #000000\"/>\n    <path d=\"M 286.006015 229.726275 \nL 286.053732 229.69577 \n\" clip-path=\"url(#p361e3c2b62)\" style=\"fill: none; stroke: #000000\"/>\n    <path d=\"M 279.034479 243.459164 \nL 278.98231 243.479515 \n\" clip-path=\"url(#p361e3c2b62)\" style=\"fill: none; stroke: #000000\"/>\n    <path d=\"M 329.579652 361.461265 \nL 329.736104 361.352768 \n\" clip-path=\"url(#p361e3c2b62)\" style=\"fill: none; stroke: #000000\"/>\n    <path d=\"M 329.736104 361.352768 \nL 330.067843 361.122251 \n\" clip-path=\"url(#p361e3c2b62)\" style=\"fill: none; stroke: #000000\"/>\n    <path d=\"M 329.736104 361.352768 \nL 326.692464 361.603636 \n\" clip-path=\"url(#p361e3c2b62)\" style=\"fill: none; stroke: #000000\"/>\n    <path d=\"M 330.067843 361.122251 \nL 329.413212 359.901742 \n\" clip-path=\"url(#p361e3c2b62)\" style=\"fill: none; stroke: #000000\"/>\n    <path d=\"M 329.413212 359.901742 \nL 315.432356 331.965827 \n\" clip-path=\"url(#p361e3c2b62)\" style=\"fill: none; stroke: #000000\"/>\n    <path d=\"M 294.560958 321.648063 \nL 294.938245 321.783695 \n\" clip-path=\"url(#p361e3c2b62)\" style=\"fill: none; stroke: #000000\"/>\n    <path d=\"M 282.678354 168.600657 \nL 283.926655 167.712377 \n\" clip-path=\"url(#p361e3c2b62)\" style=\"fill: none; stroke: #000000\"/>\n    <path d=\"M 283.926655 167.712377 \nL 288.835497 164.226045 \n\" clip-path=\"url(#p361e3c2b62)\" style=\"fill: none; stroke: #000000\"/>\n    <path d=\"M 288.835497 164.226045 \nL 295.49744 159.702277 \n\" clip-path=\"url(#p361e3c2b62)\" style=\"fill: none; stroke: #000000\"/>\n    <path d=\"M 317.682608 209.967736 \nL 303.526464 218.741776 \n\" clip-path=\"url(#p361e3c2b62)\" style=\"fill: none; stroke: #000000\"/>\n    <path d=\"M 303.526464 218.741776 \nL 286.053732 229.69577 \n\" clip-path=\"url(#p361e3c2b62)\" style=\"fill: none; stroke: #000000\"/>\n    <path d=\"M 274.326438 154.771702 \nL 277.040508 159.942991 \n\" clip-path=\"url(#p361e3c2b62)\" style=\"fill: none; stroke: #000000\"/>\n    <path d=\"M 277.040508 159.942991 \nL 279.411709 164.470173 \n\" clip-path=\"url(#p361e3c2b62)\" style=\"fill: none; stroke: #000000\"/>\n    <path d=\"M 300.952179 301.272464 \nL 300.907829 300.436222 \n\" clip-path=\"url(#p361e3c2b62)\" style=\"fill: none; stroke: #000000\"/>\n    <path d=\"M 300.952179 301.272464 \nL 295.676095 319.320092 \n\" clip-path=\"url(#p361e3c2b62)\" style=\"fill: none; stroke: #000000\"/>\n    <path d=\"M 300.952179 301.272464 \nL 300.691445 300.526643 \n\" clip-path=\"url(#p361e3c2b62)\" style=\"fill: none; stroke: #000000\"/>\n    <path d=\"M 237.000926 210.345176 \nL 280.563491 251.073748 \n\" clip-path=\"url(#p361e3c2b62)\" style=\"fill: none; stroke: #000000\"/>\n    <path d=\"M 237.000926 210.345176 \nL 211.363838 142.324841 \n\" clip-path=\"url(#p361e3c2b62)\" style=\"fill: none; stroke: #000000\"/>\n    <path d=\"M 280.563491 251.073748 \nL 293.296047 318.065664 \n\" clip-path=\"url(#p361e3c2b62)\" style=\"fill: none; stroke: #000000\"/>\n    <path d=\"M 280.563491 251.073748 \nL 281.700832 250.746027 \n\" clip-path=\"url(#p361e3c2b62)\" style=\"fill: none; stroke: #000000\"/>\n    <path d=\"M 300.691445 300.526643 \nL 281.700832 250.746027 \n\" clip-path=\"url(#p361e3c2b62)\" style=\"fill: none; stroke: #000000\"/>\n    <path d=\"M 281.700832 250.746027 \nL 278.947892 243.847939 \n\" clip-path=\"url(#p361e3c2b62)\" style=\"fill: none; stroke: #000000\"/>\n    <path d=\"M 293.296047 318.065664 \nL 314.128575 332.666481 \n\" clip-path=\"url(#p361e3c2b62)\" style=\"fill: none; stroke: #000000\"/>\n    <path d=\"M 293.296047 318.065664 \nL 295.676095 319.320092 \n\" clip-path=\"url(#p361e3c2b62)\" style=\"fill: none; stroke: #000000\"/>\n    <path d=\"M 314.128575 332.666481 \nL 328.015138 360.03733 \n\" clip-path=\"url(#p361e3c2b62)\" style=\"fill: none; stroke: #000000\"/>\n    <path d=\"M 314.128575 332.666481 \nL 315.432356 331.965827 \n\" clip-path=\"url(#p361e3c2b62)\" style=\"fill: none; stroke: #000000\"/>\n    <path d=\"M 328.015138 360.03733 \nL 328.092765 360.195545 \n\" clip-path=\"url(#p361e3c2b62)\" style=\"fill: none; stroke: #000000\"/>\n    <path d=\"M 299.520828 323.149946 \nL 315.432356 331.965827 \n\" clip-path=\"url(#p361e3c2b62)\" style=\"fill: none; stroke: #000000\"/>\n    <path d=\"M 100.706609 123.226253 \nL 211.363838 142.324841 \n\" clip-path=\"url(#p361e3c2b62)\" style=\"fill: none; stroke: #000000\"/>\n    <path d=\"M 100.706609 123.226253 \nL 47.238745 103.384076 \n\" clip-path=\"url(#p361e3c2b62)\" style=\"fill: none; stroke: #000000\"/>\n    <path d=\"M 211.363838 142.324841 \nL 211.580222 141.578976 \n\" clip-path=\"url(#p361e3c2b62)\" style=\"fill: none; stroke: #000000\"/>\n    <path d=\"M 211.580222 141.578976 \nL 228.75335 145.465376 \n\" clip-path=\"url(#p361e3c2b62)\" style=\"fill: none; stroke: #000000\"/>\n    <path d=\"M 211.580222 141.578976 \nL 161.821758 128.537726 \n\" clip-path=\"url(#p361e3c2b62)\" style=\"fill: none; stroke: #000000\"/>\n    <path d=\"M 331.27733 357.969286 \nL 328.092765 360.195545 \n\" clip-path=\"url(#p361e3c2b62)\" style=\"fill: none; stroke: #000000\"/>\n    <path d=\"M 339.571483 149.873864 \nL 339.918804 155.976368 \n\" clip-path=\"url(#p361e3c2b62)\" style=\"fill: none; stroke: #000000\"/>\n    <path d=\"M 339.571483 149.873864 \nL 346.523098 134.866239 \n\" clip-path=\"url(#p361e3c2b62)\" style=\"fill: none; stroke: #000000\"/>\n    <path d=\"M 324.697466 161.762442 \nL 304.499591 173.075801 \n\" clip-path=\"url(#p361e3c2b62)\" style=\"fill: none; stroke: #000000\"/>\n    <path d=\"M 324.697466 161.762442 \nL 321.795837 168.757734 \n\" clip-path=\"url(#p361e3c2b62)\" style=\"fill: none; stroke: #000000\"/>\n    <path d=\"M 47.006836 103.281269 \nL 47.238745 103.384076 \n\" clip-path=\"url(#p361e3c2b62)\" style=\"fill: none; stroke: #000000\"/>\n    <path d=\"M 47.238745 103.384076 \nL 46.444273 102.838267 \n\" clip-path=\"url(#p361e3c2b62)\" style=\"fill: none; stroke: #000000\"/>\n    <path d=\"M 388.889474 351.331083 \nL 388.76417 351.288245 \n\" clip-path=\"url(#p361e3c2b62)\" style=\"fill: none; stroke: #000000\"/>\n    <path d=\"M 268.825124 182.592336 \nL 275.23187 182.258968 \n\" clip-path=\"url(#p361e3c2b62)\" style=\"fill: none; stroke: #000000\"/>\n    <path d=\"M 268.825124 182.592336 \nL 267.971861 181.645321 \n\" clip-path=\"url(#p361e3c2b62)\" style=\"fill: none; stroke: #000000\"/>\n    <path d=\"M 254.393749 163.283538 \nL 252.767133 170.078819 \n\" clip-path=\"url(#p361e3c2b62)\" style=\"fill: none; stroke: #000000\"/>\n    <path d=\"M 254.393749 163.283538 \nL 261.781442 166.732626 \n\" clip-path=\"url(#p361e3c2b62)\" style=\"fill: none; stroke: #000000\"/>\n    <path d=\"M 254.393749 163.283538 \nL 251.48333 161.236941 \n\" clip-path=\"url(#p361e3c2b62)\" style=\"fill: none; stroke: #000000\"/>\n    <path d=\"M 261.781442 166.732626 \nL 263.620046 168.737383 \n\" clip-path=\"url(#p361e3c2b62)\" style=\"fill: none; stroke: #000000\"/>\n    <path d=\"M 261.781442 166.732626 \nL 260.021606 161.674297 \n\" clip-path=\"url(#p361e3c2b62)\" style=\"fill: none; stroke: #000000\"/>\n    <path d=\"M 264.344597 176.518104 \nL 267.971861 181.645321 \n\" clip-path=\"url(#p361e3c2b62)\" style=\"fill: none; stroke: #000000\"/>\n    <path d=\"M 264.344597 176.518104 \nL 264.79951 176.245747 \n\" clip-path=\"url(#p361e3c2b62)\" style=\"fill: none; stroke: #000000\"/>\n    <path d=\"M 264.344597 176.518104 \nL 263.491334 175.312257 \n\" clip-path=\"url(#p361e3c2b62)\" style=\"fill: none; stroke: #000000\"/>\n    <path d=\"M 267.971861 181.645321 \nL 268.950525 180.801158 \n\" clip-path=\"url(#p361e3c2b62)\" style=\"fill: none; stroke: #000000\"/>\n    <path d=\"M 263.491334 175.312257 \nL 262.296287 175.797099 \n\" clip-path=\"url(#p361e3c2b62)\" style=\"fill: none; stroke: #000000\"/>\n    <path d=\"M 263.491334 175.312257 \nL 264.523252 170.600907 \n\" clip-path=\"url(#p361e3c2b62)\" style=\"fill: none; stroke: #000000\"/>\n    <path d=\"M 262.296287 175.797099 \nL 261.166709 180.185235 \n\" clip-path=\"url(#p361e3c2b62)\" style=\"fill: none; stroke: #000000\"/>\n    <path d=\"M 264.523252 170.600907 \nL 263.594532 170.772689 \n\" clip-path=\"url(#p361e3c2b62)\" style=\"fill: none; stroke: #000000\"/>\n    <path d=\"M 264.523252 170.600907 \nL 263.620046 168.737383 \n\" clip-path=\"url(#p361e3c2b62)\" style=\"fill: none; stroke: #000000\"/>\n    <path d=\"M 263.594532 170.772689 \nL 255.858433 171.041633 \n\" clip-path=\"url(#p361e3c2b62)\" style=\"fill: none; stroke: #000000\"/>\n    <path d=\"M 251.452279 161.084415 \nL 251.475567 161.201928 \n\" clip-path=\"url(#p361e3c2b62)\" style=\"fill: none; stroke: #000000\"/>\n    <path d=\"M 251.452279 161.084415 \nL 251.332415 161.105861 \n\" clip-path=\"url(#p361e3c2b62)\" style=\"fill: none; stroke: #000000\"/>\n    <path d=\"M 251.475567 161.201928 \nL 251.48333 161.236941 \n\" clip-path=\"url(#p361e3c2b62)\" style=\"fill: none; stroke: #000000\"/>\n    <path d=\"M 251.332415 161.105861 \nL 250.786519 161.205298 \n\" clip-path=\"url(#p361e3c2b62)\" style=\"fill: none; stroke: #000000\"/>\n    <path d=\"M 250.786519 161.205298 \nL 248.494085 161.406491 \n\" clip-path=\"url(#p361e3c2b62)\" style=\"fill: none; stroke: #000000\"/>\n    <path d=\"M 248.494085 161.406491 \nL 247.302406 161.206436 \n\" clip-path=\"url(#p361e3c2b62)\" style=\"fill: none; stroke: #000000\"/>\n    <path d=\"M 247.302406 161.206436 \nL 246.868554 161.06971 \n\" clip-path=\"url(#p361e3c2b62)\" style=\"fill: none; stroke: #000000\"/>\n    <path d=\"M 247.302406 161.206436 \nL 246.986136 162.224658 \n\" clip-path=\"url(#p361e3c2b62)\" style=\"fill: none; stroke: #000000\"/>\n    <path d=\"M 246.868554 161.06971 \nL 235.975687 160.903573 \n\" clip-path=\"url(#p361e3c2b62)\" style=\"fill: none; stroke: #000000\"/>\n    <path d=\"M 110.54644 123.233037 \nL 161.821758 128.537726 \n\" clip-path=\"url(#p361e3c2b62)\" style=\"fill: none; stroke: #000000\"/>\n    <path d=\"M 110.54644 123.233037 \nL 110.49096 123.226253 \n\" clip-path=\"url(#p361e3c2b62)\" style=\"fill: none; stroke: #000000\"/>\n    <path d=\"M 110.49096 123.226253 \nL 84.565398 120.830488 \n\" clip-path=\"url(#p361e3c2b62)\" style=\"fill: none; stroke: #000000\"/>\n    <path d=\"M 84.565398 120.830488 \nL 82.734557 120.559268 \n\" clip-path=\"url(#p361e3c2b62)\" style=\"fill: none; stroke: #000000\"/>\n    <path d=\"M 82.734557 120.559268 \nL 82.408355 120.514058 \n\" clip-path=\"url(#p361e3c2b62)\" style=\"fill: none; stroke: #000000\"/>\n    <path d=\"M 82.408355 120.514058 \nL 82.351733 120.508412 \n\" clip-path=\"url(#p361e3c2b62)\" style=\"fill: none; stroke: #000000\"/>\n    <path d=\"M 82.351733 120.508412 \nL 81.02358 120.367135 \n\" clip-path=\"url(#p361e3c2b62)\" style=\"fill: none; stroke: #000000\"/>\n    <path d=\"M 81.02358 120.367135 \nL 53.256047 106.896406 \n\" clip-path=\"url(#p361e3c2b62)\" style=\"fill: none; stroke: #000000\"/>\n    <path d=\"M 52.722365 107.495391 \nL 51.561679 109.314842 \n\" clip-path=\"url(#p361e3c2b62)\" style=\"fill: none; stroke: #000000\"/>\n    <path d=\"M 52.722365 107.495391 \nL 53.08738 107.154101 \n\" clip-path=\"url(#p361e3c2b62)\" style=\"fill: none; stroke: #000000\"/>\n    <path d=\"M 51.561679 109.314842 \nL 45.93719 115.315633 \n\" clip-path=\"url(#p361e3c2b62)\" style=\"fill: none; stroke: #000000\"/>\n    <path d=\"M 51.561679 109.314842 \nL 51.74256 109.479797 \n\" clip-path=\"url(#p361e3c2b62)\" style=\"fill: none; stroke: #000000\"/>\n    <path d=\"M 51.74256 109.479797 \nL 51.783599 109.518223 \n\" clip-path=\"url(#p361e3c2b62)\" style=\"fill: none; stroke: #000000\"/>\n    <path d=\"M 51.783599 109.518223 \nL 55.774795 117.914824 \n\" clip-path=\"url(#p361e3c2b62)\" style=\"fill: none; stroke: #000000\"/>\n    <path d=\"M 53.08738 107.154101 \nL 53.117346 107.106615 \n\" clip-path=\"url(#p361e3c2b62)\" style=\"fill: none; stroke: #000000\"/>\n    <path d=\"M 53.256047 106.896406 \nL 52.025497 106.161877 \n\" clip-path=\"url(#p361e3c2b62)\" style=\"fill: none; stroke: #000000\"/>\n    <path d=\"M 53.256047 106.896406 \nL 53.117346 107.106615 \n\" clip-path=\"url(#p361e3c2b62)\" style=\"fill: none; stroke: #000000\"/>\n    <path d=\"M 52.025497 106.161877 \nL 51.821328 106.037537 \n\" clip-path=\"url(#p361e3c2b62)\" style=\"fill: none; stroke: #000000\"/>\n    <path d=\"M 332.764161 196.478931 \nL 333.50869 196.584014 \n\" clip-path=\"url(#p361e3c2b62)\" style=\"fill: none; stroke: #000000\"/>\n    <path d=\"M 235.975687 160.903573 \nL 234.577613 164.521029 \n\" clip-path=\"url(#p361e3c2b62)\" style=\"fill: none; stroke: #000000\"/>\n    <path d=\"M 235.975687 160.903573 \nL 232.383925 155.648646 \n\" clip-path=\"url(#p361e3c2b62)\" style=\"fill: none; stroke: #000000\"/>\n    <path d=\"M 234.577613 164.521029 \nL 234.47219 165.008104 \n\" clip-path=\"url(#p361e3c2b62)\" style=\"fill: none; stroke: #000000\"/>\n    <path d=\"M 234.577613 164.521029 \nL 241.250686 167.130417 \n\" clip-path=\"url(#p361e3c2b62)\" style=\"fill: none; stroke: #000000\"/>\n   </g>\n   <g id=\"PathCollection_1\">\n    <defs>\n     <path id=\"m29f1f9821d\" d=\"M 0 2.236068 \nC 0.593012 2.236068 1.161816 2.000462 1.581139 1.581139 \nC 2.000462 1.161816 2.236068 0.593012 2.236068 0 \nC 2.236068 -0.593012 2.000462 -1.161816 1.581139 -1.581139 \nC 1.161816 -2.000462 0.593012 -2.236068 0 -2.236068 \nC -0.593012 -2.236068 -1.161816 -2.000462 -1.581139 -1.581139 \nC -2.000462 -1.161816 -2.236068 -0.593012 -2.236068 0 \nC -2.236068 0.593012 -2.000462 1.161816 -1.581139 1.581139 \nC -1.161816 2.000462 -0.593012 2.236068 0 2.236068 \nz\n\" style=\"stroke: #1f78b4\"/>\n    </defs>\n    <g clip-path=\"url(#p361e3c2b62)\">\n     <use xlink:href=\"#m29f1f9821d\" x=\"299.076987\" y=\"323.490141\" style=\"fill: #1f78b4; stroke: #1f78b4\"/>\n     <use xlink:href=\"#m29f1f9821d\" x=\"299.476421\" y=\"323.185003\" style=\"fill: #1f78b4; stroke: #1f78b4\"/>\n     <use xlink:href=\"#m29f1f9821d\" x=\"294.990357\" y=\"321.805141\" style=\"fill: #1f78b4; stroke: #1f78b4\"/>\n     <use xlink:href=\"#m29f1f9821d\" x=\"389.064818\" y=\"353.256798\" style=\"fill: #1f78b4; stroke: #1f78b4\"/>\n     <use xlink:href=\"#m29f1f9821d\" x=\"330.94445\" y=\"359.89045\" style=\"fill: #1f78b4; stroke: #1f78b4\"/>\n     <use xlink:href=\"#m29f1f9821d\" x=\"325.784863\" y=\"79.039621\" style=\"fill: #1f78b4; stroke: #1f78b4\"/>\n     <use xlink:href=\"#m29f1f9821d\" x=\"339.454986\" y=\"148.619479\" style=\"fill: #1f78b4; stroke: #1f78b4\"/>\n     <use xlink:href=\"#m29f1f9821d\" x=\"338.556232\" y=\"61.92999\" style=\"fill: #1f78b4; stroke: #1f78b4\"/>\n     <use xlink:href=\"#m29f1f9821d\" x=\"346.156941\" y=\"154.563768\" style=\"fill: #1f78b4; stroke: #1f78b4\"/>\n     <use xlink:href=\"#m29f1f9821d\" x=\"346.234624\" y=\"154.959284\" style=\"fill: #1f78b4; stroke: #1f78b4\"/>\n     <use xlink:href=\"#m29f1f9821d\" x=\"339.943233\" y=\"156.575309\" style=\"fill: #1f78b4; stroke: #1f78b4\"/>\n     <use xlink:href=\"#m29f1f9821d\" x=\"341.041704\" y=\"148.461264\" style=\"fill: #1f78b4; stroke: #1f78b4\"/>\n     <use xlink:href=\"#m29f1f9821d\" x=\"339.987583\" y=\"148.568623\" style=\"fill: #1f78b4; stroke: #1f78b4\"/>\n     <use xlink:href=\"#m29f1f9821d\" x=\"338.689396\" y=\"158.044455\" style=\"fill: #1f78b4; stroke: #1f78b4\"/>\n     <use xlink:href=\"#m29f1f9821d\" x=\"325.773733\" y=\"161.43472\" style=\"fill: #1f78b4; stroke: #1f78b4\"/>\n     <use xlink:href=\"#m29f1f9821d\" x=\"338.147894\" y=\"158.182319\" style=\"fill: #1f78b4; stroke: #1f78b4\"/>\n     <use xlink:href=\"#m29f1f9821d\" x=\"339.532669\" y=\"165.491765\" style=\"fill: #1f78b4; stroke: #1f78b4\"/>\n     <use xlink:href=\"#m29f1f9821d\" x=\"338.917937\" y=\"159.998399\" style=\"fill: #1f78b4; stroke: #1f78b4\"/>\n     <use xlink:href=\"#m29f1f9821d\" x=\"342.062548\" y=\"175.312257\" style=\"fill: #1f78b4; stroke: #1f78b4\"/>\n     <use xlink:href=\"#m29f1f9821d\" x=\"341.884978\" y=\"174.939324\" style=\"fill: #1f78b4; stroke: #1f78b4\"/>\n     <use xlink:href=\"#m29f1f9821d\" x=\"347.887895\" y=\"188.771694\" style=\"fill: #1f78b4; stroke: #1f78b4\"/>\n     <use xlink:href=\"#m29f1f9821d\" x=\"342.373225\" y=\"176.053613\" style=\"fill: #1f78b4; stroke: #1f78b4\"/>\n     <use xlink:href=\"#m29f1f9821d\" x=\"330.378577\" y=\"183.053413\" style=\"fill: #1f78b4; stroke: #1f78b4\"/>\n     <use xlink:href=\"#m29f1f9821d\" x=\"341.61203\" y=\"175.490823\" style=\"fill: #1f78b4; stroke: #1f78b4\"/>\n     <use xlink:href=\"#m29f1f9821d\" x=\"347.897884\" y=\"154.549063\" style=\"fill: #1f78b4; stroke: #1f78b4\"/>\n     <use xlink:href=\"#m29f1f9821d\" x=\"356.306364\" y=\"152.33182\" style=\"fill: #1f78b4; stroke: #1f78b4\"/>\n     <use xlink:href=\"#m29f1f9821d\" x=\"346.023777\" y=\"153.806612\" style=\"fill: #1f78b4; stroke: #1f78b4\"/>\n     <use xlink:href=\"#m29f1f9821d\" x=\"347.055695\" y=\"154.337759\" style=\"fill: #1f78b4; stroke: #1f78b4\"/>\n     <use xlink:href=\"#m29f1f9821d\" x=\"339.92103\" y=\"156.03287\" style=\"fill: #1f78b4; stroke: #1f78b4\"/>\n     <use xlink:href=\"#m29f1f9821d\" x=\"339.932103\" y=\"148.574268\" style=\"fill: #1f78b4; stroke: #1f78b4\"/>\n     <use xlink:href=\"#m29f1f9821d\" x=\"338.201148\" y=\"158.168751\" style=\"fill: #1f78b4; stroke: #1f78b4\"/>\n     <use xlink:href=\"#m29f1f9821d\" x=\"338.911316\" y=\"159.942991\" style=\"fill: #1f78b4; stroke: #1f78b4\"/>\n     <use xlink:href=\"#m29f1f9821d\" x=\"341.862831\" y=\"174.887374\" style=\"fill: #1f78b4; stroke: #1f78b4\"/>\n     <use xlink:href=\"#m29f1f9821d\" x=\"348.004392\" y=\"189.07228\" style=\"fill: #1f78b4; stroke: #1f78b4\"/>\n     <use xlink:href=\"#m29f1f9821d\" x=\"347.355298\" y=\"189.031621\" style=\"fill: #1f78b4; stroke: #1f78b4\"/>\n     <use xlink:href=\"#m29f1f9821d\" x=\"341.663115\" y=\"175.470472\" style=\"fill: #1f78b4; stroke: #1f78b4\"/>\n     <use xlink:href=\"#m29f1f9821d\" x=\"340.298317\" y=\"165.344842\" style=\"fill: #1f78b4; stroke: #1f78b4\"/>\n     <use xlink:href=\"#m29f1f9821d\" x=\"342.295541\" y=\"164.372968\" style=\"fill: #1f78b4; stroke: #1f78b4\"/>\n     <use xlink:href=\"#m29f1f9821d\" x=\"342.417632\" y=\"164.960618\" style=\"fill: #1f78b4; stroke: #1f78b4\"/>\n     <use xlink:href=\"#m29f1f9821d\" x=\"337.224711\" y=\"194.331759\" style=\"fill: #1f78b4; stroke: #1f78b4\"/>\n     <use xlink:href=\"#m29f1f9821d\" x=\"347.305355\" y=\"189.055343\" style=\"fill: #1f78b4; stroke: #1f78b4\"/>\n     <use xlink:href=\"#m29f1f9821d\" x=\"340.08747\" y=\"199.179835\" style=\"fill: #1f78b4; stroke: #1f78b4\"/>\n     <use xlink:href=\"#m29f1f9821d\" x=\"337.464383\" y=\"194.730688\" style=\"fill: #1f78b4; stroke: #1f78b4\"/>\n     <use xlink:href=\"#m29f1f9821d\" x=\"345.058413\" y=\"195.258422\" style=\"fill: #1f78b4; stroke: #1f78b4\"/>\n     <use xlink:href=\"#m29f1f9821d\" x=\"339.86555\" y=\"207.938076\" style=\"fill: #1f78b4; stroke: #1f78b4\"/>\n     <use xlink:href=\"#m29f1f9821d\" x=\"334.040202\" y=\"196.671022\" style=\"fill: #1f78b4; stroke: #1f78b4\"/>\n     <use xlink:href=\"#m29f1f9821d\" x=\"325.773733\" y=\"209.158585\" style=\"fill: #1f78b4; stroke: #1f78b4\"/>\n     <use xlink:href=\"#m29f1f9821d\" x=\"333.999163\" y=\"196.96373\" style=\"fill: #1f78b4; stroke: #1f78b4\"/>\n     <use xlink:href=\"#m29f1f9821d\" x=\"334.006926\" y=\"196.908366\" style=\"fill: #1f78b4; stroke: #1f78b4\"/>\n     <use xlink:href=\"#m29f1f9821d\" x=\"337.435558\" y=\"194.682064\" style=\"fill: #1f78b4; stroke: #1f78b4\"/>\n     <use xlink:href=\"#m29f1f9821d\" x=\"333.563085\" y=\"196.591936\" style=\"fill: #1f78b4; stroke: #1f78b4\"/>\n     <use xlink:href=\"#m29f1f9821d\" x=\"340.353797\" y=\"165.334688\" style=\"fill: #1f78b4; stroke: #1f78b4\"/>\n     <use xlink:href=\"#m29f1f9821d\" x=\"341.529951\" y=\"160.767985\" style=\"fill: #1f78b4; stroke: #1f78b4\"/>\n     <use xlink:href=\"#m29f1f9821d\" x=\"342.284468\" y=\"164.317604\" style=\"fill: #1f78b4; stroke: #1f78b4\"/>\n     <use xlink:href=\"#m29f1f9821d\" x=\"352.625846\" y=\"165.141416\" style=\"fill: #1f78b4; stroke: #1f78b4\"/>\n     <use xlink:href=\"#m29f1f9821d\" x=\"342.612896\" y=\"165.567481\" style=\"fill: #1f78b4; stroke: #1f78b4\"/>\n     <use xlink:href=\"#m29f1f9821d\" x=\"354.611997\" y=\"168.226587\" style=\"fill: #1f78b4; stroke: #1f78b4\"/>\n     <use xlink:href=\"#m29f1f9821d\" x=\"352.69354\" y=\"165.603632\" style=\"fill: #1f78b4; stroke: #1f78b4\"/>\n     <use xlink:href=\"#m29f1f9821d\" x=\"350.317887\" y=\"158.948534\" style=\"fill: #1f78b4; stroke: #1f78b4\"/>\n     <use xlink:href=\"#m29f1f9821d\" x=\"352.614772\" y=\"164.542475\" style=\"fill: #1f78b4; stroke: #1f78b4\"/>\n     <use xlink:href=\"#m29f1f9821d\" x=\"347.843489\" y=\"154.563768\" style=\"fill: #1f78b4; stroke: #1f78b4\"/>\n     <use xlink:href=\"#m29f1f9821d\" x=\"342.595145\" y=\"165.514348\" style=\"fill: #1f78b4; stroke: #1f78b4\"/>\n     <use xlink:href=\"#m29f1f9821d\" x=\"352.681326\" y=\"165.548267\" style=\"fill: #1f78b4; stroke: #1f78b4\"/>\n     <use xlink:href=\"#m29f1f9821d\" x=\"352.614772\" y=\"164.598977\" style=\"fill: #1f78b4; stroke: #1f78b4\"/>\n     <use xlink:href=\"#m29f1f9821d\" x=\"338.567305\" y=\"61.918699\" style=\"fill: #1f78b4; stroke: #1f78b4\"/>\n     <use xlink:href=\"#m29f1f9821d\" x=\"352.836693\" y=\"40.876364\" style=\"fill: #1f78b4; stroke: #1f78b4\"/>\n     <use xlink:href=\"#m29f1f9821d\" x=\"338.599497\" y=\"61.87235\" style=\"fill: #1f78b4; stroke: #1f78b4\"/>\n     <use xlink:href=\"#m29f1f9821d\" x=\"389.275608\" y=\"353.290673\" style=\"fill: #1f78b4; stroke: #1f78b4\"/>\n     <use xlink:href=\"#m29f1f9821d\" x=\"389.098095\" y=\"353.008162\" style=\"fill: #1f78b4; stroke: #1f78b4\"/>\n     <use xlink:href=\"#m29f1f9821d\" x=\"263.803096\" y=\"65.749734\" style=\"fill: #1f78b4; stroke: #1f78b4\"/>\n     <use xlink:href=\"#m29f1f9821d\" x=\"263.259425\" y=\"65.987035\" style=\"fill: #1f78b4; stroke: #1f78b4\"/>\n     <use xlink:href=\"#m29f1f9821d\" x=\"263.20834\" y=\"66.008524\" style=\"fill: #1f78b4; stroke: #1f78b4\"/>\n     <use xlink:href=\"#m29f1f9821d\" x=\"285.56109\" y=\"131.481619\" style=\"fill: #1f78b4; stroke: #1f78b4\"/>\n     <use xlink:href=\"#m29f1f9821d\" x=\"285.584378\" y=\"131.532476\" style=\"fill: #1f78b4; stroke: #1f78b4\"/>\n     <use xlink:href=\"#m29f1f9821d\" x=\"286.816012\" y=\"133.871738\" style=\"fill: #1f78b4; stroke: #1f78b4\"/>\n     <use xlink:href=\"#m29f1f9821d\" x=\"332.065124\" y=\"358.466515\" style=\"fill: #1f78b4; stroke: #1f78b4\"/>\n     <use xlink:href=\"#m29f1f9821d\" x=\"331.998571\" y=\"357.822363\" style=\"fill: #1f78b4; stroke: #1f78b4\"/>\n     <use xlink:href=\"#m29f1f9821d\" x=\"414.86281\" y=\"302.877197\" style=\"fill: #1f78b4; stroke: #1f78b4\"/>\n     <use xlink:href=\"#m29f1f9821d\" x=\"389.105857\" y=\"352.95166\" style=\"fill: #1f78b4; stroke: #1f78b4\"/>\n     <use xlink:href=\"#m29f1f9821d\" x=\"292.75232\" y=\"153.004245\" style=\"fill: #1f78b4; stroke: #1f78b4\"/>\n     <use xlink:href=\"#m29f1f9821d\" x=\"292.907686\" y=\"153.060747\" style=\"fill: #1f78b4; stroke: #1f78b4\"/>\n     <use xlink:href=\"#m29f1f9821d\" x=\"292.65249\" y=\"151.422095\" style=\"fill: #1f78b4; stroke: #1f78b4\"/>\n     <use xlink:href=\"#m29f1f9821d\" x=\"292.59701\" y=\"152.947743\" style=\"fill: #1f78b4; stroke: #1f78b4\"/>\n     <use xlink:href=\"#m29f1f9821d\" x=\"330.367446\" y=\"173.990078\" style=\"fill: #1f78b4; stroke: #1f78b4\"/>\n     <use xlink:href=\"#m29f1f9821d\" x=\"311.545442\" y=\"187.405399\" style=\"fill: #1f78b4; stroke: #1f78b4\"/>\n     <use xlink:href=\"#m29f1f9821d\" x=\"304.303185\" y=\"173.165084\" style=\"fill: #1f78b4; stroke: #1f78b4\"/>\n     <use xlink:href=\"#m29f1f9821d\" x=\"310.527966\" y=\"187.833695\" style=\"fill: #1f78b4; stroke: #1f78b4\"/>\n     <use xlink:href=\"#m29f1f9821d\" x=\"314.100835\" y=\"201.044496\" style=\"fill: #1f78b4; stroke: #1f78b4\"/>\n     <use xlink:href=\"#m29f1f9821d\" x=\"318.483758\" y=\"209.46368\" style=\"fill: #1f78b4; stroke: #1f78b4\"/>\n     <use xlink:href=\"#m29f1f9821d\" x=\"311.99265\" y=\"193.631105\" style=\"fill: #1f78b4; stroke: #1f78b4\"/>\n     <use xlink:href=\"#m29f1f9821d\" x=\"311.88169\" y=\"193.642397\" style=\"fill: #1f78b4; stroke: #1f78b4\"/>\n     <use xlink:href=\"#m29f1f9821d\" x=\"304.680415\" y=\"150.009495\" style=\"fill: #1f78b4; stroke: #1f78b4\"/>\n     <use xlink:href=\"#m29f1f9821d\" x=\"294.337953\" y=\"152.661818\" style=\"fill: #1f78b4; stroke: #1f78b4\"/>\n     <use xlink:href=\"#m29f1f9821d\" x=\"311.215929\" y=\"147.026037\" style=\"fill: #1f78b4; stroke: #1f78b4\"/>\n     <use xlink:href=\"#m29f1f9821d\" x=\"312.42536\" y=\"146.020245\" style=\"fill: #1f78b4; stroke: #1f78b4\"/>\n     <use xlink:href=\"#m29f1f9821d\" x=\"310.594519\" y=\"154.597643\" style=\"fill: #1f78b4; stroke: #1f78b4\"/>\n     <use xlink:href=\"#m29f1f9821d\" x=\"311.374607\" y=\"147.215895\" style=\"fill: #1f78b4; stroke: #1f78b4\"/>\n     <use xlink:href=\"#m29f1f9821d\" x=\"292.70015\" y=\"152.985032\" style=\"fill: #1f78b4; stroke: #1f78b4\"/>\n     <use xlink:href=\"#m29f1f9821d\" x=\"290.477695\" y=\"147.04862\" style=\"fill: #1f78b4; stroke: #1f78b4\"/>\n     <use xlink:href=\"#m29f1f9821d\" x=\"290.566451\" y=\"147.252046\" style=\"fill: #1f78b4; stroke: #1f78b4\"/>\n     <use xlink:href=\"#m29f1f9821d\" x=\"290.236882\" y=\"146.520887\" style=\"fill: #1f78b4; stroke: #1f78b4\"/>\n     <use xlink:href=\"#m29f1f9821d\" x=\"304.502901\" y=\"149.410554\" style=\"fill: #1f78b4; stroke: #1f78b4\"/>\n     <use xlink:href=\"#m29f1f9821d\" x=\"297.057559\" y=\"144.720649\" style=\"fill: #1f78b4; stroke: #1f78b4\"/>\n     <use xlink:href=\"#m29f1f9821d\" x=\"290.761716\" y=\"146.913033\" style=\"fill: #1f78b4; stroke: #1f78b4\"/>\n     <use xlink:href=\"#m29f1f9821d\" x=\"241.711136\" y=\"147.9527\" style=\"fill: #1f78b4; stroke: #1f78b4\"/>\n     <use xlink:href=\"#m29f1f9821d\" x=\"229.57111\" y=\"145.455222\" style=\"fill: #1f78b4; stroke: #1f78b4\"/>\n     <use xlink:href=\"#m29f1f9821d\" x=\"241.921983\" y=\"147.997911\" style=\"fill: #1f78b4; stroke: #1f78b4\"/>\n     <use xlink:href=\"#m29f1f9821d\" x=\"252.218954\" y=\"155.004494\" style=\"fill: #1f78b4; stroke: #1f78b4\"/>\n     <use xlink:href=\"#m29f1f9821d\" x=\"252.252288\" y=\"154.767194\" style=\"fill: #1f78b4; stroke: #1f78b4\"/>\n     <use xlink:href=\"#m29f1f9821d\" x=\"251.630877\" y=\"158.180043\" style=\"fill: #1f78b4; stroke: #1f78b4\"/>\n     <use xlink:href=\"#m29f1f9821d\" x=\"252.109135\" y=\"155.557131\" style=\"fill: #1f78b4; stroke: #1f78b4\"/>\n     <use xlink:href=\"#m29f1f9821d\" x=\"241.67786\" y=\"148.156126\" style=\"fill: #1f78b4; stroke: #1f78b4\"/>\n     <use xlink:href=\"#m29f1f9821d\" x=\"296.369595\" y=\"159.332758\" style=\"fill: #1f78b4; stroke: #1f78b4\"/>\n     <use xlink:href=\"#m29f1f9821d\" x=\"303.446554\" y=\"171.777343\" style=\"fill: #1f78b4; stroke: #1f78b4\"/>\n     <use xlink:href=\"#m29f1f9821d\" x=\"293.229436\" y=\"153.230254\" style=\"fill: #1f78b4; stroke: #1f78b4\"/>\n     <use xlink:href=\"#m29f1f9821d\" x=\"281.911622\" y=\"169.141958\" style=\"fill: #1f78b4; stroke: #1f78b4\"/>\n     <use xlink:href=\"#m29f1f9821d\" x=\"282.632862\" y=\"168.633438\" style=\"fill: #1f78b4; stroke: #1f78b4\"/>\n     <use xlink:href=\"#m29f1f9821d\" x=\"284.363817\" y=\"173.775361\" style=\"fill: #1f78b4; stroke: #1f78b4\"/>\n     <use xlink:href=\"#m29f1f9821d\" x=\"282.060311\" y=\"169.496815\" style=\"fill: #1f78b4; stroke: #1f78b4\"/>\n     <use xlink:href=\"#m29f1f9821d\" x=\"274.000236\" y=\"154.168209\" style=\"fill: #1f78b4; stroke: #1f78b4\"/>\n     <use xlink:href=\"#m29f1f9821d\" x=\"265.15682\" y=\"152.812111\" style=\"fill: #1f78b4; stroke: #1f78b4\"/>\n     <use xlink:href=\"#m29f1f9821d\" x=\"279.514907\" y=\"164.655479\" style=\"fill: #1f78b4; stroke: #1f78b4\"/>\n     <use xlink:href=\"#m29f1f9821d\" x=\"274.29984\" y=\"154.721983\" style=\"fill: #1f78b4; stroke: #1f78b4\"/>\n     <use xlink:href=\"#m29f1f9821d\" x=\"283.276419\" y=\"180.781945\" style=\"fill: #1f78b4; stroke: #1f78b4\"/>\n     <use xlink:href=\"#m29f1f9821d\" x=\"281.346833\" y=\"176.328246\" style=\"fill: #1f78b4; stroke: #1f78b4\"/>\n     <use xlink:href=\"#m29f1f9821d\" x=\"276.297121\" y=\"166.395845\" style=\"fill: #1f78b4; stroke: #1f78b4\"/>\n     <use xlink:href=\"#m29f1f9821d\" x=\"276.652148\" y=\"167.028705\" style=\"fill: #1f78b4; stroke: #1f78b4\"/>\n     <use xlink:href=\"#m29f1f9821d\" x=\"272.102842\" y=\"168.667313\" style=\"fill: #1f78b4; stroke: #1f78b4\"/>\n     <use xlink:href=\"#m29f1f9821d\" x=\"281.279138\" y=\"176.069457\" style=\"fill: #1f78b4; stroke: #1f78b4\"/>\n     <use xlink:href=\"#m29f1f9821d\" x=\"279.825584\" y=\"176.374551\" style=\"fill: #1f78b4; stroke: #1f78b4\"/>\n     <use xlink:href=\"#m29f1f9821d\" x=\"269.695053\" y=\"160.654981\" style=\"fill: #1f78b4; stroke: #1f78b4\"/>\n     <use xlink:href=\"#m29f1f9821d\" x=\"271.635713\" y=\"167.701086\" style=\"fill: #1f78b4; stroke: #1f78b4\"/>\n     <use xlink:href=\"#m29f1f9821d\" x=\"278.826943\" y=\"243.536017\" style=\"fill: #1f78b4; stroke: #1f78b4\"/>\n     <use xlink:href=\"#m29f1f9821d\" x=\"278.749316\" y=\"243.343883\" style=\"fill: #1f78b4; stroke: #1f78b4\"/>\n     <use xlink:href=\"#m29f1f9821d\" x=\"319.146151\" y=\"210.077326\" style=\"fill: #1f78b4; stroke: #1f78b4\"/>\n     <use xlink:href=\"#m29f1f9821d\" x=\"317.729241\" y=\"209.938325\" style=\"fill: #1f78b4; stroke: #1f78b4\"/>\n     <use xlink:href=\"#m29f1f9821d\" x=\"274.654924\" y=\"154.06654\" style=\"fill: #1f78b4; stroke: #1f78b4\"/>\n     <use xlink:href=\"#m29f1f9821d\" x=\"304.447421\" y=\"173.09729\" style=\"fill: #1f78b4; stroke: #1f78b4\"/>\n     <use xlink:href=\"#m29f1f9821d\" x=\"311.49333\" y=\"187.426888\" style=\"fill: #1f78b4; stroke: #1f78b4\"/>\n     <use xlink:href=\"#m29f1f9821d\" x=\"313.490554\" y=\"201.293132\" style=\"fill: #1f78b4; stroke: #1f78b4\"/>\n     <use xlink:href=\"#m29f1f9821d\" x=\"311.828436\" y=\"193.653688\" style=\"fill: #1f78b4; stroke: #1f78b4\"/>\n     <use xlink:href=\"#m29f1f9821d\" x=\"296.771255\" y=\"205.297045\" style=\"fill: #1f78b4; stroke: #1f78b4\"/>\n     <use xlink:href=\"#m29f1f9821d\" x=\"296.791232\" y=\"205.350177\" style=\"fill: #1f78b4; stroke: #1f78b4\"/>\n     <use xlink:href=\"#m29f1f9821d\" x=\"313.439526\" y=\"201.314578\" style=\"fill: #1f78b4; stroke: #1f78b4\"/>\n     <use xlink:href=\"#m29f1f9821d\" x=\"293.280521\" y=\"153.252838\" style=\"fill: #1f78b4; stroke: #1f78b4\"/>\n     <use xlink:href=\"#m29f1f9821d\" x=\"303.482057\" y=\"171.820278\" style=\"fill: #1f78b4; stroke: #1f78b4\"/>\n     <use xlink:href=\"#m29f1f9821d\" x=\"294.283557\" y=\"152.676523\" style=\"fill: #1f78b4; stroke: #1f78b4\"/>\n     <use xlink:href=\"#m29f1f9821d\" x=\"311.337963\" y=\"147.17296\" style=\"fill: #1f78b4; stroke: #1f78b4\"/>\n     <use xlink:href=\"#m29f1f9821d\" x=\"294.727398\" y=\"321.30905\" style=\"fill: #1f78b4; stroke: #1f78b4\"/>\n     <use xlink:href=\"#m29f1f9821d\" x=\"260.13034\" y=\"359.867823\" style=\"fill: #1f78b4; stroke: #1f78b4\"/>\n     <use xlink:href=\"#m29f1f9821d\" x=\"290.589739\" y=\"147.302902\" style=\"fill: #1f78b4; stroke: #1f78b4\"/>\n     <use xlink:href=\"#m29f1f9821d\" x=\"292.622524\" y=\"151.374652\" style=\"fill: #1f78b4; stroke: #1f78b4\"/>\n     <use xlink:href=\"#m29f1f9821d\" x=\"290.255775\" y=\"146.574019\" style=\"fill: #1f78b4; stroke: #1f78b4\"/>\n     <use xlink:href=\"#m29f1f9821d\" x=\"297.357106\" y=\"144.675439\" style=\"fill: #1f78b4; stroke: #1f78b4\"/>\n     <use xlink:href=\"#m29f1f9821d\" x=\"304.487376\" y=\"149.356284\" style=\"fill: #1f78b4; stroke: #1f78b4\"/>\n     <use xlink:href=\"#m29f1f9821d\" x=\"297.412586\" y=\"144.666423\" style=\"fill: #1f78b4; stroke: #1f78b4\"/>\n     <use xlink:href=\"#m29f1f9821d\" x=\"290.710688\" y=\"146.935616\" style=\"fill: #1f78b4; stroke: #1f78b4\"/>\n     <use xlink:href=\"#m29f1f9821d\" x=\"265.056933\" y=\"153.264173\" style=\"fill: #1f78b4; stroke: #1f78b4\"/>\n     <use xlink:href=\"#m29f1f9821d\" x=\"252.119124\" y=\"155.501723\" style=\"fill: #1f78b4; stroke: #1f78b4\"/>\n     <use xlink:href=\"#m29f1f9821d\" x=\"252.263361\" y=\"154.711786\" style=\"fill: #1f78b4; stroke: #1f78b4\"/>\n     <use xlink:href=\"#m29f1f9821d\" x=\"265.046944\" y=\"153.319537\" style=\"fill: #1f78b4; stroke: #1f78b4\"/>\n     <use xlink:href=\"#m29f1f9821d\" x=\"278.729339\" y=\"243.290795\" style=\"fill: #1f78b4; stroke: #1f78b4\"/>\n     <use xlink:href=\"#m29f1f9821d\" x=\"229.219394\" y=\"164.534553\" style=\"fill: #1f78b4; stroke: #1f78b4\"/>\n     <use xlink:href=\"#m29f1f9821d\" x=\"278.92683\" y=\"243.795945\" style=\"fill: #1f78b4; stroke: #1f78b4\"/>\n     <use xlink:href=\"#m29f1f9821d\" x=\"228.806604\" y=\"145.477806\" style=\"fill: #1f78b4; stroke: #1f78b4\"/>\n     <use xlink:href=\"#m29f1f9821d\" x=\"229.072931\" y=\"145.534308\" style=\"fill: #1f78b4; stroke: #1f78b4\"/>\n     <use xlink:href=\"#m29f1f9821d\" x=\"229.738692\" y=\"145.681231\" style=\"fill: #1f78b4; stroke: #1f78b4\"/>\n     <use xlink:href=\"#m29f1f9821d\" x=\"229.516771\" y=\"145.443887\" style=\"fill: #1f78b4; stroke: #1f78b4\"/>\n     <use xlink:href=\"#m29f1f9821d\" x=\"250.354893\" y=\"154.710692\" style=\"fill: #1f78b4; stroke: #1f78b4\"/>\n     <use xlink:href=\"#m29f1f9821d\" x=\"241.669013\" y=\"148.21149\" style=\"fill: #1f78b4; stroke: #1f78b4\"/>\n     <use xlink:href=\"#m29f1f9821d\" x=\"250.300497\" y=\"154.701632\" style=\"fill: #1f78b4; stroke: #1f78b4\"/>\n     <use xlink:href=\"#m29f1f9821d\" x=\"295.548468\" y=\"159.683064\" style=\"fill: #1f78b4; stroke: #1f78b4\"/>\n     <use xlink:href=\"#m29f1f9821d\" x=\"282.033655\" y=\"169.447097\" style=\"fill: #1f78b4; stroke: #1f78b4\"/>\n     <use xlink:href=\"#m29f1f9821d\" x=\"279.437223\" y=\"164.519891\" style=\"fill: #1f78b4; stroke: #1f78b4\"/>\n     <use xlink:href=\"#m29f1f9821d\" x=\"279.771245\" y=\"176.385843\" style=\"fill: #1f78b4; stroke: #1f78b4\"/>\n     <use xlink:href=\"#m29f1f9821d\" x=\"271.710029\" y=\"168.884306\" style=\"fill: #1f78b4; stroke: #1f78b4\"/>\n     <use xlink:href=\"#m29f1f9821d\" x=\"271.758888\" y=\"168.859447\" style=\"fill: #1f78b4; stroke: #1f78b4\"/>\n     <use xlink:href=\"#m29f1f9821d\" x=\"281.334618\" y=\"176.272838\" style=\"fill: #1f78b4; stroke: #1f78b4\"/>\n     <use xlink:href=\"#m29f1f9821d\" x=\"276.678804\" y=\"167.078423\" style=\"fill: #1f78b4; stroke: #1f78b4\"/>\n     <use xlink:href=\"#m29f1f9821d\" x=\"281.231421\" y=\"175.879599\" style=\"fill: #1f78b4; stroke: #1f78b4\"/>\n     <use xlink:href=\"#m29f1f9821d\" x=\"281.245861\" y=\"175.933825\" style=\"fill: #1f78b4; stroke: #1f78b4\"/>\n     <use xlink:href=\"#m29f1f9821d\" x=\"271.659001\" y=\"167.751942\" style=\"fill: #1f78b4; stroke: #1f78b4\"/>\n     <use xlink:href=\"#m29f1f9821d\" x=\"286.006015\" y=\"229.726275\" style=\"fill: #1f78b4; stroke: #1f78b4\"/>\n     <use xlink:href=\"#m29f1f9821d\" x=\"279.034479\" y=\"243.459164\" style=\"fill: #1f78b4; stroke: #1f78b4\"/>\n     <use xlink:href=\"#m29f1f9821d\" x=\"274.710404\" y=\"154.05748\" style=\"fill: #1f78b4; stroke: #1f78b4\"/>\n     <use xlink:href=\"#m29f1f9821d\" x=\"319.105112\" y=\"210.040038\" style=\"fill: #1f78b4; stroke: #1f78b4\"/>\n     <use xlink:href=\"#m29f1f9821d\" x=\"329.579652\" y=\"361.461265\" style=\"fill: #1f78b4; stroke: #1f78b4\"/>\n     <use xlink:href=\"#m29f1f9821d\" x=\"329.736104\" y=\"361.352768\" style=\"fill: #1f78b4; stroke: #1f78b4\"/>\n     <use xlink:href=\"#m29f1f9821d\" x=\"330.067843\" y=\"361.122251\" style=\"fill: #1f78b4; stroke: #1f78b4\"/>\n     <use xlink:href=\"#m29f1f9821d\" x=\"329.413212\" y=\"359.901742\" style=\"fill: #1f78b4; stroke: #1f78b4\"/>\n     <use xlink:href=\"#m29f1f9821d\" x=\"294.560958\" y=\"321.648063\" style=\"fill: #1f78b4; stroke: #1f78b4\"/>\n     <use xlink:href=\"#m29f1f9821d\" x=\"294.938245\" y=\"321.783695\" style=\"fill: #1f78b4; stroke: #1f78b4\"/>\n     <use xlink:href=\"#m29f1f9821d\" x=\"282.678354\" y=\"168.600657\" style=\"fill: #1f78b4; stroke: #1f78b4\"/>\n     <use xlink:href=\"#m29f1f9821d\" x=\"283.926655\" y=\"167.712377\" style=\"fill: #1f78b4; stroke: #1f78b4\"/>\n     <use xlink:href=\"#m29f1f9821d\" x=\"288.835497\" y=\"164.226045\" style=\"fill: #1f78b4; stroke: #1f78b4\"/>\n     <use xlink:href=\"#m29f1f9821d\" x=\"295.49744\" y=\"159.702277\" style=\"fill: #1f78b4; stroke: #1f78b4\"/>\n     <use xlink:href=\"#m29f1f9821d\" x=\"317.682608\" y=\"209.967736\" style=\"fill: #1f78b4; stroke: #1f78b4\"/>\n     <use xlink:href=\"#m29f1f9821d\" x=\"303.526464\" y=\"218.741776\" style=\"fill: #1f78b4; stroke: #1f78b4\"/>\n     <use xlink:href=\"#m29f1f9821d\" x=\"286.053732\" y=\"229.69577\" style=\"fill: #1f78b4; stroke: #1f78b4\"/>\n     <use xlink:href=\"#m29f1f9821d\" x=\"274.326438\" y=\"154.771702\" style=\"fill: #1f78b4; stroke: #1f78b4\"/>\n     <use xlink:href=\"#m29f1f9821d\" x=\"277.040508\" y=\"159.942991\" style=\"fill: #1f78b4; stroke: #1f78b4\"/>\n     <use xlink:href=\"#m29f1f9821d\" x=\"279.411709\" y=\"164.470173\" style=\"fill: #1f78b4; stroke: #1f78b4\"/>\n     <use xlink:href=\"#m29f1f9821d\" x=\"300.952179\" y=\"301.272464\" style=\"fill: #1f78b4; stroke: #1f78b4\"/>\n     <use xlink:href=\"#m29f1f9821d\" x=\"300.907829\" y=\"300.436222\" style=\"fill: #1f78b4; stroke: #1f78b4\"/>\n     <use xlink:href=\"#m29f1f9821d\" x=\"278.98231\" y=\"243.479515\" style=\"fill: #1f78b4; stroke: #1f78b4\"/>\n     <use xlink:href=\"#m29f1f9821d\" x=\"237.000926\" y=\"210.345176\" style=\"fill: #1f78b4; stroke: #1f78b4\"/>\n     <use xlink:href=\"#m29f1f9821d\" x=\"280.563491\" y=\"251.073748\" style=\"fill: #1f78b4; stroke: #1f78b4\"/>\n     <use xlink:href=\"#m29f1f9821d\" x=\"300.691445\" y=\"300.526643\" style=\"fill: #1f78b4; stroke: #1f78b4\"/>\n     <use xlink:href=\"#m29f1f9821d\" x=\"281.700832\" y=\"250.746027\" style=\"fill: #1f78b4; stroke: #1f78b4\"/>\n     <use xlink:href=\"#m29f1f9821d\" x=\"278.947892\" y=\"243.847939\" style=\"fill: #1f78b4; stroke: #1f78b4\"/>\n     <use xlink:href=\"#m29f1f9821d\" x=\"293.296047\" y=\"318.065664\" style=\"fill: #1f78b4; stroke: #1f78b4\"/>\n     <use xlink:href=\"#m29f1f9821d\" x=\"314.128575\" y=\"332.666481\" style=\"fill: #1f78b4; stroke: #1f78b4\"/>\n     <use xlink:href=\"#m29f1f9821d\" x=\"328.015138\" y=\"360.03733\" style=\"fill: #1f78b4; stroke: #1f78b4\"/>\n     <use xlink:href=\"#m29f1f9821d\" x=\"299.520828\" y=\"323.149946\" style=\"fill: #1f78b4; stroke: #1f78b4\"/>\n     <use xlink:href=\"#m29f1f9821d\" x=\"315.432356\" y=\"331.965827\" style=\"fill: #1f78b4; stroke: #1f78b4\"/>\n     <use xlink:href=\"#m29f1f9821d\" x=\"295.676095\" y=\"319.320092\" style=\"fill: #1f78b4; stroke: #1f78b4\"/>\n     <use xlink:href=\"#m29f1f9821d\" x=\"100.706609\" y=\"123.226253\" style=\"fill: #1f78b4; stroke: #1f78b4\"/>\n     <use xlink:href=\"#m29f1f9821d\" x=\"211.363838\" y=\"142.324841\" style=\"fill: #1f78b4; stroke: #1f78b4\"/>\n     <use xlink:href=\"#m29f1f9821d\" x=\"211.580222\" y=\"141.578976\" style=\"fill: #1f78b4; stroke: #1f78b4\"/>\n     <use xlink:href=\"#m29f1f9821d\" x=\"228.75335\" y=\"145.465376\" style=\"fill: #1f78b4; stroke: #1f78b4\"/>\n     <use xlink:href=\"#m29f1f9821d\" x=\"331.27733\" y=\"357.969286\" style=\"fill: #1f78b4; stroke: #1f78b4\"/>\n     <use xlink:href=\"#m29f1f9821d\" x=\"328.092765\" y=\"360.195545\" style=\"fill: #1f78b4; stroke: #1f78b4\"/>\n     <use xlink:href=\"#m29f1f9821d\" x=\"339.571483\" y=\"149.873864\" style=\"fill: #1f78b4; stroke: #1f78b4\"/>\n     <use xlink:href=\"#m29f1f9821d\" x=\"339.918804\" y=\"155.976368\" style=\"fill: #1f78b4; stroke: #1f78b4\"/>\n     <use xlink:href=\"#m29f1f9821d\" x=\"346.523098\" y=\"134.866239\" style=\"fill: #1f78b4; stroke: #1f78b4\"/>\n     <use xlink:href=\"#m29f1f9821d\" x=\"324.697466\" y=\"161.762442\" style=\"fill: #1f78b4; stroke: #1f78b4\"/>\n     <use xlink:href=\"#m29f1f9821d\" x=\"304.499591\" y=\"173.075801\" style=\"fill: #1f78b4; stroke: #1f78b4\"/>\n     <use xlink:href=\"#m29f1f9821d\" x=\"321.795837\" y=\"168.757734\" style=\"fill: #1f78b4; stroke: #1f78b4\"/>\n     <use xlink:href=\"#m29f1f9821d\" x=\"47.006836\" y=\"103.281269\" style=\"fill: #1f78b4; stroke: #1f78b4\"/>\n     <use xlink:href=\"#m29f1f9821d\" x=\"47.238745\" y=\"103.384076\" style=\"fill: #1f78b4; stroke: #1f78b4\"/>\n     <use xlink:href=\"#m29f1f9821d\" x=\"46.444273\" y=\"102.838267\" style=\"fill: #1f78b4; stroke: #1f78b4\"/>\n     <use xlink:href=\"#m29f1f9821d\" x=\"389.337766\" y=\"353.300871\" style=\"fill: #1f78b4; stroke: #1f78b4\"/>\n     <use xlink:href=\"#m29f1f9821d\" x=\"388.889474\" y=\"351.331083\" style=\"fill: #1f78b4; stroke: #1f78b4\"/>\n     <use xlink:href=\"#m29f1f9821d\" x=\"388.76417\" y=\"351.288245\" style=\"fill: #1f78b4; stroke: #1f78b4\"/>\n     <use xlink:href=\"#m29f1f9821d\" x=\"326.692464\" y=\"361.603636\" style=\"fill: #1f78b4; stroke: #1f78b4\"/>\n     <use xlink:href=\"#m29f1f9821d\" x=\"371.788493\" y=\"147.941408\" style=\"fill: #1f78b4; stroke: #1f78b4\"/>\n     <use xlink:href=\"#m29f1f9821d\" x=\"229.79303\" y=\"145.693661\" style=\"fill: #1f78b4; stroke: #1f78b4\"/>\n     <use xlink:href=\"#m29f1f9821d\" x=\"268.825124\" y=\"182.592336\" style=\"fill: #1f78b4; stroke: #1f78b4\"/>\n     <use xlink:href=\"#m29f1f9821d\" x=\"275.23187\" y=\"182.258968\" style=\"fill: #1f78b4; stroke: #1f78b4\"/>\n     <use xlink:href=\"#m29f1f9821d\" x=\"254.393749\" y=\"163.283538\" style=\"fill: #1f78b4; stroke: #1f78b4\"/>\n     <use xlink:href=\"#m29f1f9821d\" x=\"252.767133\" y=\"170.078819\" style=\"fill: #1f78b4; stroke: #1f78b4\"/>\n     <use xlink:href=\"#m29f1f9821d\" x=\"261.781442\" y=\"166.732626\" style=\"fill: #1f78b4; stroke: #1f78b4\"/>\n     <use xlink:href=\"#m29f1f9821d\" x=\"264.344597\" y=\"176.518104\" style=\"fill: #1f78b4; stroke: #1f78b4\"/>\n     <use xlink:href=\"#m29f1f9821d\" x=\"267.971861\" y=\"181.645321\" style=\"fill: #1f78b4; stroke: #1f78b4\"/>\n     <use xlink:href=\"#m29f1f9821d\" x=\"264.79951\" y=\"176.245747\" style=\"fill: #1f78b4; stroke: #1f78b4\"/>\n     <use xlink:href=\"#m29f1f9821d\" x=\"263.491334\" y=\"175.312257\" style=\"fill: #1f78b4; stroke: #1f78b4\"/>\n     <use xlink:href=\"#m29f1f9821d\" x=\"262.296287\" y=\"175.797099\" style=\"fill: #1f78b4; stroke: #1f78b4\"/>\n     <use xlink:href=\"#m29f1f9821d\" x=\"264.523252\" y=\"170.600907\" style=\"fill: #1f78b4; stroke: #1f78b4\"/>\n     <use xlink:href=\"#m29f1f9821d\" x=\"263.594532\" y=\"170.772689\" style=\"fill: #1f78b4; stroke: #1f78b4\"/>\n     <use xlink:href=\"#m29f1f9821d\" x=\"263.620046\" y=\"168.737383\" style=\"fill: #1f78b4; stroke: #1f78b4\"/>\n     <use xlink:href=\"#m29f1f9821d\" x=\"251.452279\" y=\"161.084415\" style=\"fill: #1f78b4; stroke: #1f78b4\"/>\n     <use xlink:href=\"#m29f1f9821d\" x=\"251.475567\" y=\"161.201928\" style=\"fill: #1f78b4; stroke: #1f78b4\"/>\n     <use xlink:href=\"#m29f1f9821d\" x=\"251.332415\" y=\"161.105861\" style=\"fill: #1f78b4; stroke: #1f78b4\"/>\n     <use xlink:href=\"#m29f1f9821d\" x=\"251.48333\" y=\"161.236941\" style=\"fill: #1f78b4; stroke: #1f78b4\"/>\n     <use xlink:href=\"#m29f1f9821d\" x=\"250.786519\" y=\"161.205298\" style=\"fill: #1f78b4; stroke: #1f78b4\"/>\n     <use xlink:href=\"#m29f1f9821d\" x=\"248.494085\" y=\"161.406491\" style=\"fill: #1f78b4; stroke: #1f78b4\"/>\n     <use xlink:href=\"#m29f1f9821d\" x=\"260.021606\" y=\"161.674297\" style=\"fill: #1f78b4; stroke: #1f78b4\"/>\n     <use xlink:href=\"#m29f1f9821d\" x=\"247.302406\" y=\"161.206436\" style=\"fill: #1f78b4; stroke: #1f78b4\"/>\n     <use xlink:href=\"#m29f1f9821d\" x=\"246.868554\" y=\"161.06971\" style=\"fill: #1f78b4; stroke: #1f78b4\"/>\n     <use xlink:href=\"#m29f1f9821d\" x=\"246.986136\" y=\"162.224658\" style=\"fill: #1f78b4; stroke: #1f78b4\"/>\n     <use xlink:href=\"#m29f1f9821d\" x=\"268.950525\" y=\"180.801158\" style=\"fill: #1f78b4; stroke: #1f78b4\"/>\n     <use xlink:href=\"#m29f1f9821d\" x=\"110.54644\" y=\"123.233037\" style=\"fill: #1f78b4; stroke: #1f78b4\"/>\n     <use xlink:href=\"#m29f1f9821d\" x=\"161.821758\" y=\"128.537726\" style=\"fill: #1f78b4; stroke: #1f78b4\"/>\n     <use xlink:href=\"#m29f1f9821d\" x=\"110.49096\" y=\"123.226253\" style=\"fill: #1f78b4; stroke: #1f78b4\"/>\n     <use xlink:href=\"#m29f1f9821d\" x=\"84.565398\" y=\"120.830488\" style=\"fill: #1f78b4; stroke: #1f78b4\"/>\n     <use xlink:href=\"#m29f1f9821d\" x=\"82.734557\" y=\"120.559268\" style=\"fill: #1f78b4; stroke: #1f78b4\"/>\n     <use xlink:href=\"#m29f1f9821d\" x=\"82.408355\" y=\"120.514058\" style=\"fill: #1f78b4; stroke: #1f78b4\"/>\n     <use xlink:href=\"#m29f1f9821d\" x=\"82.351733\" y=\"120.508412\" style=\"fill: #1f78b4; stroke: #1f78b4\"/>\n     <use xlink:href=\"#m29f1f9821d\" x=\"81.02358\" y=\"120.367135\" style=\"fill: #1f78b4; stroke: #1f78b4\"/>\n     <use xlink:href=\"#m29f1f9821d\" x=\"52.722365\" y=\"107.495391\" style=\"fill: #1f78b4; stroke: #1f78b4\"/>\n     <use xlink:href=\"#m29f1f9821d\" x=\"51.561679\" y=\"109.314842\" style=\"fill: #1f78b4; stroke: #1f78b4\"/>\n     <use xlink:href=\"#m29f1f9821d\" x=\"45.93719\" y=\"115.315633\" style=\"fill: #1f78b4; stroke: #1f78b4\"/>\n     <use xlink:href=\"#m29f1f9821d\" x=\"51.74256\" y=\"109.479797\" style=\"fill: #1f78b4; stroke: #1f78b4\"/>\n     <use xlink:href=\"#m29f1f9821d\" x=\"51.783599\" y=\"109.518223\" style=\"fill: #1f78b4; stroke: #1f78b4\"/>\n     <use xlink:href=\"#m29f1f9821d\" x=\"55.774795\" y=\"117.914824\" style=\"fill: #1f78b4; stroke: #1f78b4\"/>\n     <use xlink:href=\"#m29f1f9821d\" x=\"53.08738\" y=\"107.154101\" style=\"fill: #1f78b4; stroke: #1f78b4\"/>\n     <use xlink:href=\"#m29f1f9821d\" x=\"53.256047\" y=\"106.896406\" style=\"fill: #1f78b4; stroke: #1f78b4\"/>\n     <use xlink:href=\"#m29f1f9821d\" x=\"52.025497\" y=\"106.161877\" style=\"fill: #1f78b4; stroke: #1f78b4\"/>\n     <use xlink:href=\"#m29f1f9821d\" x=\"53.117346\" y=\"107.106615\" style=\"fill: #1f78b4; stroke: #1f78b4\"/>\n     <use xlink:href=\"#m29f1f9821d\" x=\"51.821328\" y=\"106.037537\" style=\"fill: #1f78b4; stroke: #1f78b4\"/>\n     <use xlink:href=\"#m29f1f9821d\" x=\"332.764161\" y=\"196.478931\" style=\"fill: #1f78b4; stroke: #1f78b4\"/>\n     <use xlink:href=\"#m29f1f9821d\" x=\"333.50869\" y=\"196.584014\" style=\"fill: #1f78b4; stroke: #1f78b4\"/>\n     <use xlink:href=\"#m29f1f9821d\" x=\"235.975687\" y=\"160.903573\" style=\"fill: #1f78b4; stroke: #1f78b4\"/>\n     <use xlink:href=\"#m29f1f9821d\" x=\"234.577613\" y=\"164.521029\" style=\"fill: #1f78b4; stroke: #1f78b4\"/>\n     <use xlink:href=\"#m29f1f9821d\" x=\"234.47219\" y=\"165.008104\" style=\"fill: #1f78b4; stroke: #1f78b4\"/>\n     <use xlink:href=\"#m29f1f9821d\" x=\"241.250686\" y=\"167.130417\" style=\"fill: #1f78b4; stroke: #1f78b4\"/>\n     <use xlink:href=\"#m29f1f9821d\" x=\"232.383925\" y=\"155.648646\" style=\"fill: #1f78b4; stroke: #1f78b4\"/>\n     <use xlink:href=\"#m29f1f9821d\" x=\"255.858433\" y=\"171.041633\" style=\"fill: #1f78b4; stroke: #1f78b4\"/>\n     <use xlink:href=\"#m29f1f9821d\" x=\"261.166709\" y=\"180.185235\" style=\"fill: #1f78b4; stroke: #1f78b4\"/>\n     <use xlink:href=\"#m29f1f9821d\" x=\"342.351021\" y=\"176.001619\" style=\"fill: #1f78b4; stroke: #1f78b4\"/>\n     <use xlink:href=\"#m29f1f9821d\" x=\"346.014873\" y=\"153.751204\" style=\"fill: #1f78b4; stroke: #1f78b4\"/>\n    </g>\n   </g>\n   <g id=\"PathCollection_2\">\n    <defs>\n     <path id=\"maa01efc132\" d=\"M -5 5 \nL 5 5 \nL 5 -5 \nL -5 -5 \nz\n\" style=\"stroke: #000000\"/>\n    </defs>\n    <g clip-path=\"url(#p361e3c2b62)\">\n     <use xlink:href=\"#maa01efc132\" x=\"388.76417\" y=\"351.288245\" style=\"stroke: #000000\"/>\n    </g>\n   </g>\n   <g id=\"PathCollection_3\">\n    <defs>\n     <path id=\"me5701847b3\" d=\"M 0 5 \nC 1.326016 5 2.597899 4.473168 3.535534 3.535534 \nC 4.473168 2.597899 5 1.326016 5 0 \nC 5 -1.326016 4.473168 -2.597899 3.535534 -3.535534 \nC 2.597899 -4.473168 1.326016 -5 0 -5 \nC -1.326016 -5 -2.597899 -4.473168 -3.535534 -3.535534 \nC -4.473168 -2.597899 -5 -1.326016 -5 0 \nC -5 1.326016 -4.473168 2.597899 -3.535534 3.535534 \nC -2.597899 4.473168 -1.326016 5 0 5 \nz\n\" style=\"stroke: #ffffff\"/>\n    </defs>\n    <g clip-path=\"url(#p361e3c2b62)\">\n     <use xlink:href=\"#me5701847b3\" x=\"110.54644\" y=\"123.233037\" style=\"fill: #ff0000; stroke: #ffffff\"/>\n     <use xlink:href=\"#me5701847b3\" x=\"303.446554\" y=\"171.777343\" style=\"fill: #ff0000; stroke: #ffffff\"/>\n     <use xlink:href=\"#me5701847b3\" x=\"252.263361\" y=\"154.711786\" style=\"fill: #ff0000; stroke: #ffffff\"/>\n     <use xlink:href=\"#me5701847b3\" x=\"286.053732\" y=\"229.69577\" style=\"fill: #ff0000; stroke: #ffffff\"/>\n     <use xlink:href=\"#me5701847b3\" x=\"263.20834\" y=\"66.008524\" style=\"fill: #ff0000; stroke: #ffffff\"/>\n     <use xlink:href=\"#me5701847b3\" x=\"414.86281\" y=\"302.877197\" style=\"fill: #ff0000; stroke: #ffffff\"/>\n     <use xlink:href=\"#me5701847b3\" x=\"260.13034\" y=\"359.867823\" style=\"fill: #ff0000; stroke: #ffffff\"/>\n     <use xlink:href=\"#me5701847b3\" x=\"337.224711\" y=\"194.331759\" style=\"fill: #ff0000; stroke: #ffffff\"/>\n     <use xlink:href=\"#me5701847b3\" x=\"338.689396\" y=\"158.044455\" style=\"fill: #ff0000; stroke: #ffffff\"/>\n     <use xlink:href=\"#me5701847b3\" x=\"338.556232\" y=\"61.92999\" style=\"fill: #ff0000; stroke: #ffffff\"/>\n     <use xlink:href=\"#me5701847b3\" x=\"211.363838\" y=\"142.324841\" style=\"fill: #ff0000; stroke: #ffffff\"/>\n     <use xlink:href=\"#me5701847b3\" x=\"234.47219\" y=\"165.008104\" style=\"fill: #ff0000; stroke: #ffffff\"/>\n     <use xlink:href=\"#me5701847b3\" x=\"263.620046\" y=\"168.737383\" style=\"fill: #ff0000; stroke: #ffffff\"/>\n     <use xlink:href=\"#me5701847b3\" x=\"47.006836\" y=\"103.281269\" style=\"fill: #ff0000; stroke: #ffffff\"/>\n    </g>\n   </g>\n   <g id=\"PathCollection_4\">\n    <defs>\n     <path id=\"C0_0_67b8440525\" d=\"M 0 5 \nC 1.326016 5 2.597899 4.473168 3.535534 3.535534 \nC 4.473168 2.597899 5 1.326016 5 -0 \nC 5 -1.326016 4.473168 -2.597899 3.535534 -3.535534 \nC 2.597899 -4.473168 1.326016 -5 0 -5 \nC -1.326016 -5 -2.597899 -4.473168 -3.535534 -3.535534 \nC -4.473168 -2.597899 -5 -1.326016 -5 0 \nC -5 1.326016 -4.473168 2.597899 -3.535534 3.535534 \nC -2.597899 4.473168 -1.326016 5 0 5 \nz\n\"/>\n    </defs>\n    <g clip-path=\"url(#p361e3c2b62)\">\n     <use xlink:href=\"#C0_0_67b8440525\" x=\"110.54644\" y=\"123.233037\" style=\"fill: #04703b; stroke: #ffffff\"/>\n    </g>\n    <g clip-path=\"url(#p361e3c2b62)\">\n     <use xlink:href=\"#C0_0_67b8440525\" x=\"303.446554\" y=\"171.777343\" style=\"fill: #c21c27; stroke: #ffffff\"/>\n    </g>\n    <g clip-path=\"url(#p361e3c2b62)\">\n     <use xlink:href=\"#C0_0_67b8440525\" x=\"252.263361\" y=\"154.711786\" style=\"fill: #fff7b2; stroke: #ffffff\"/>\n    </g>\n    <g clip-path=\"url(#p361e3c2b62)\">\n     <use xlink:href=\"#C0_0_67b8440525\" x=\"286.053732\" y=\"229.69577\" style=\"fill: #097940; stroke: #ffffff\"/>\n    </g>\n    <g clip-path=\"url(#p361e3c2b62)\">\n     <use xlink:href=\"#C0_0_67b8440525\" x=\"263.20834\" y=\"66.008524\" style=\"fill: #b71126; stroke: #ffffff\"/>\n    </g>\n    <g clip-path=\"url(#p361e3c2b62)\">\n     <use xlink:href=\"#C0_0_67b8440525\" x=\"414.86281\" y=\"302.877197\" style=\"fill: #0c7f43; stroke: #ffffff\"/>\n    </g>\n    <g clip-path=\"url(#p361e3c2b62)\">\n     <use xlink:href=\"#C0_0_67b8440525\" x=\"260.13034\" y=\"359.867823\" style=\"fill: #0d8044; stroke: #ffffff\"/>\n    </g>\n    <g clip-path=\"url(#p361e3c2b62)\">\n     <use xlink:href=\"#C0_0_67b8440525\" x=\"337.224711\" y=\"194.331759\" style=\"fill: #a70226; stroke: #ffffff\"/>\n    </g>\n    <g clip-path=\"url(#p361e3c2b62)\">\n     <use xlink:href=\"#C0_0_67b8440525\" x=\"338.689396\" y=\"158.044455\" style=\"fill: #b91326; stroke: #ffffff\"/>\n    </g>\n    <g clip-path=\"url(#p361e3c2b62)\">\n     <use xlink:href=\"#C0_0_67b8440525\" x=\"338.556232\" y=\"61.92999\" style=\"fill: #a50026; stroke: #ffffff\"/>\n    </g>\n    <g clip-path=\"url(#p361e3c2b62)\">\n     <use xlink:href=\"#C0_0_67b8440525\" x=\"211.363838\" y=\"142.324841\" style=\"fill: #036e3a; stroke: #ffffff\"/>\n    </g>\n    <g clip-path=\"url(#p361e3c2b62)\">\n     <use xlink:href=\"#C0_0_67b8440525\" x=\"234.47219\" y=\"165.008104\" style=\"fill: #fff8b4; stroke: #ffffff\"/>\n    </g>\n    <g clip-path=\"url(#p361e3c2b62)\">\n     <use xlink:href=\"#C0_0_67b8440525\" x=\"263.620046\" y=\"168.737383\" style=\"fill: #fffab6; stroke: #ffffff\"/>\n    </g>\n    <g clip-path=\"url(#p361e3c2b62)\">\n     <use xlink:href=\"#C0_0_67b8440525\" x=\"47.006836\" y=\"103.281269\" style=\"fill: #006837; stroke: #ffffff\"/>\n    </g>\n   </g>\n   <g id=\"text_1\">\n    <g clip-path=\"url(#p361e3c2b62)\">\n     <!-- Reservoir -->\n     <g transform=\"translate(360.533233 346.9404) scale(0.12 -0.12)\">\n      <defs>\n       <path id=\"DejaVuSans-52\" d=\"M 2841 2188 \nQ 3044 2119 3236 1894 \nQ 3428 1669 3622 1275 \nL 4263 0 \nL 3584 0 \nL 2988 1197 \nQ 2756 1666 2539 1819 \nQ 2322 1972 1947 1972 \nL 1259 1972 \nL 1259 0 \nL 628 0 \nL 628 4666 \nL 2053 4666 \nQ 2853 4666 3247 4331 \nQ 3641 3997 3641 3322 \nQ 3641 2881 3436 2590 \nQ 3231 2300 2841 2188 \nz\nM 1259 4147 \nL 1259 2491 \nL 2053 2491 \nQ 2509 2491 2742 2702 \nQ 2975 2913 2975 3322 \nQ 2975 3731 2742 3939 \nQ 2509 4147 2053 4147 \nL 1259 4147 \nz\n\" transform=\"scale(0.015625)\"/>\n       <path id=\"DejaVuSans-65\" d=\"M 3597 1894 \nL 3597 1613 \nL 953 1613 \nQ 991 1019 1311 708 \nQ 1631 397 2203 397 \nQ 2534 397 2845 478 \nQ 3156 559 3463 722 \nL 3463 178 \nQ 3153 47 2828 -22 \nQ 2503 -91 2169 -91 \nQ 1331 -91 842 396 \nQ 353 884 353 1716 \nQ 353 2575 817 3079 \nQ 1281 3584 2069 3584 \nQ 2775 3584 3186 3129 \nQ 3597 2675 3597 1894 \nz\nM 3022 2063 \nQ 3016 2534 2758 2815 \nQ 2500 3097 2075 3097 \nQ 1594 3097 1305 2825 \nQ 1016 2553 972 2059 \nL 3022 2063 \nz\n\" transform=\"scale(0.015625)\"/>\n       <path id=\"DejaVuSans-73\" d=\"M 2834 3397 \nL 2834 2853 \nQ 2591 2978 2328 3040 \nQ 2066 3103 1784 3103 \nQ 1356 3103 1142 2972 \nQ 928 2841 928 2578 \nQ 928 2378 1081 2264 \nQ 1234 2150 1697 2047 \nL 1894 2003 \nQ 2506 1872 2764 1633 \nQ 3022 1394 3022 966 \nQ 3022 478 2636 193 \nQ 2250 -91 1575 -91 \nQ 1294 -91 989 -36 \nQ 684 19 347 128 \nL 347 722 \nQ 666 556 975 473 \nQ 1284 391 1588 391 \nQ 1994 391 2212 530 \nQ 2431 669 2431 922 \nQ 2431 1156 2273 1281 \nQ 2116 1406 1581 1522 \nL 1381 1569 \nQ 847 1681 609 1914 \nQ 372 2147 372 2553 \nQ 372 3047 722 3315 \nQ 1072 3584 1716 3584 \nQ 2034 3584 2315 3537 \nQ 2597 3491 2834 3397 \nz\n\" transform=\"scale(0.015625)\"/>\n       <path id=\"DejaVuSans-72\" d=\"M 2631 2963 \nQ 2534 3019 2420 3045 \nQ 2306 3072 2169 3072 \nQ 1681 3072 1420 2755 \nQ 1159 2438 1159 1844 \nL 1159 0 \nL 581 0 \nL 581 3500 \nL 1159 3500 \nL 1159 2956 \nQ 1341 3275 1631 3429 \nQ 1922 3584 2338 3584 \nQ 2397 3584 2469 3576 \nQ 2541 3569 2628 3553 \nL 2631 2963 \nz\n\" transform=\"scale(0.015625)\"/>\n       <path id=\"DejaVuSans-76\" d=\"M 191 3500 \nL 800 3500 \nL 1894 563 \nL 2988 3500 \nL 3597 3500 \nL 2284 0 \nL 1503 0 \nL 191 3500 \nz\n\" transform=\"scale(0.015625)\"/>\n       <path id=\"DejaVuSans-6f\" d=\"M 1959 3097 \nQ 1497 3097 1228 2736 \nQ 959 2375 959 1747 \nQ 959 1119 1226 758 \nQ 1494 397 1959 397 \nQ 2419 397 2687 759 \nQ 2956 1122 2956 1747 \nQ 2956 2369 2687 2733 \nQ 2419 3097 1959 3097 \nz\nM 1959 3584 \nQ 2709 3584 3137 3096 \nQ 3566 2609 3566 1747 \nQ 3566 888 3137 398 \nQ 2709 -91 1959 -91 \nQ 1206 -91 779 398 \nQ 353 888 353 1747 \nQ 353 2609 779 3096 \nQ 1206 3584 1959 3584 \nz\n\" transform=\"scale(0.015625)\"/>\n       <path id=\"DejaVuSans-69\" d=\"M 603 3500 \nL 1178 3500 \nL 1178 0 \nL 603 0 \nL 603 3500 \nz\nM 603 4863 \nL 1178 4863 \nL 1178 4134 \nL 603 4134 \nL 603 4863 \nz\n\" transform=\"scale(0.015625)\"/>\n      </defs>\n      <use xlink:href=\"#DejaVuSans-52\"/>\n      <use xlink:href=\"#DejaVuSans-65\" transform=\"translate(64.982422 0)\"/>\n      <use xlink:href=\"#DejaVuSans-73\" transform=\"translate(126.505859 0)\"/>\n      <use xlink:href=\"#DejaVuSans-65\" transform=\"translate(178.605469 0)\"/>\n      <use xlink:href=\"#DejaVuSans-72\" transform=\"translate(240.128906 0)\"/>\n      <use xlink:href=\"#DejaVuSans-76\" transform=\"translate(281.242188 0)\"/>\n      <use xlink:href=\"#DejaVuSans-6f\" transform=\"translate(340.421875 0)\"/>\n      <use xlink:href=\"#DejaVuSans-69\" transform=\"translate(401.603516 0)\"/>\n      <use xlink:href=\"#DejaVuSans-72\" transform=\"translate(429.386719 0)\"/>\n     </g>\n    </g>\n   </g>\n   <g id=\"text_2\">\n    <g clip-path=\"url(#p361e3c2b62)\">\n     <!-- 1 -->\n     <g transform=\"translate(106.72894 118.885192) scale(0.12 -0.12)\">\n      <defs>\n       <path id=\"DejaVuSans-31\" d=\"M 794 531 \nL 1825 531 \nL 1825 4091 \nL 703 3866 \nL 703 4441 \nL 1819 4666 \nL 2450 4666 \nL 2450 531 \nL 3481 531 \nL 3481 0 \nL 794 0 \nL 794 531 \nz\n\" transform=\"scale(0.015625)\"/>\n      </defs>\n      <use xlink:href=\"#DejaVuSans-31\"/>\n     </g>\n    </g>\n   </g>\n   <g id=\"text_3\">\n    <g clip-path=\"url(#p361e3c2b62)\">\n     <!-- 2 -->\n     <g transform=\"translate(299.629054 167.429499) scale(0.12 -0.12)\">\n      <defs>\n       <path id=\"DejaVuSans-32\" d=\"M 1228 531 \nL 3431 531 \nL 3431 0 \nL 469 0 \nL 469 531 \nQ 828 903 1448 1529 \nQ 2069 2156 2228 2338 \nQ 2531 2678 2651 2914 \nQ 2772 3150 2772 3378 \nQ 2772 3750 2511 3984 \nQ 2250 4219 1831 4219 \nQ 1534 4219 1204 4116 \nQ 875 4013 500 3803 \nL 500 4441 \nQ 881 4594 1212 4672 \nQ 1544 4750 1819 4750 \nQ 2544 4750 2975 4387 \nQ 3406 4025 3406 3419 \nQ 3406 3131 3298 2873 \nQ 3191 2616 2906 2266 \nQ 2828 2175 2409 1742 \nQ 1991 1309 1228 531 \nz\n\" transform=\"scale(0.015625)\"/>\n      </defs>\n      <use xlink:href=\"#DejaVuSans-32\"/>\n     </g>\n    </g>\n   </g>\n   <g id=\"text_4\">\n    <g clip-path=\"url(#p361e3c2b62)\">\n     <!-- 3 -->\n     <g transform=\"translate(248.445861 150.363941) scale(0.12 -0.12)\">\n      <defs>\n       <path id=\"DejaVuSans-33\" d=\"M 2597 2516 \nQ 3050 2419 3304 2112 \nQ 3559 1806 3559 1356 \nQ 3559 666 3084 287 \nQ 2609 -91 1734 -91 \nQ 1441 -91 1130 -33 \nQ 819 25 488 141 \nL 488 750 \nQ 750 597 1062 519 \nQ 1375 441 1716 441 \nQ 2309 441 2620 675 \nQ 2931 909 2931 1356 \nQ 2931 1769 2642 2001 \nQ 2353 2234 1838 2234 \nL 1294 2234 \nL 1294 2753 \nL 1863 2753 \nQ 2328 2753 2575 2939 \nQ 2822 3125 2822 3475 \nQ 2822 3834 2567 4026 \nQ 2313 4219 1838 4219 \nQ 1578 4219 1281 4162 \nQ 984 4106 628 3988 \nL 628 4550 \nQ 988 4650 1302 4700 \nQ 1616 4750 1894 4750 \nQ 2613 4750 3031 4423 \nQ 3450 4097 3450 3541 \nQ 3450 3153 3228 2886 \nQ 3006 2619 2597 2516 \nz\n\" transform=\"scale(0.015625)\"/>\n      </defs>\n      <use xlink:href=\"#DejaVuSans-33\"/>\n     </g>\n    </g>\n   </g>\n   <g id=\"text_5\">\n    <g clip-path=\"url(#p361e3c2b62)\">\n     <!-- 4 -->\n     <g transform=\"translate(282.236232 225.347925) scale(0.12 -0.12)\">\n      <defs>\n       <path id=\"DejaVuSans-34\" d=\"M 2419 4116 \nL 825 1625 \nL 2419 1625 \nL 2419 4116 \nz\nM 2253 4666 \nL 3047 4666 \nL 3047 1625 \nL 3713 1625 \nL 3713 1100 \nL 3047 1100 \nL 3047 0 \nL 2419 0 \nL 2419 1100 \nL 313 1100 \nL 313 1709 \nL 2253 4666 \nz\n\" transform=\"scale(0.015625)\"/>\n      </defs>\n      <use xlink:href=\"#DejaVuSans-34\"/>\n     </g>\n    </g>\n   </g>\n   <g id=\"text_6\">\n    <g clip-path=\"url(#p361e3c2b62)\">\n     <!-- 5 -->\n     <g transform=\"translate(259.39084 61.660679) scale(0.12 -0.12)\">\n      <defs>\n       <path id=\"DejaVuSans-35\" d=\"M 691 4666 \nL 3169 4666 \nL 3169 4134 \nL 1269 4134 \nL 1269 2991 \nQ 1406 3038 1543 3061 \nQ 1681 3084 1819 3084 \nQ 2600 3084 3056 2656 \nQ 3513 2228 3513 1497 \nQ 3513 744 3044 326 \nQ 2575 -91 1722 -91 \nQ 1428 -91 1123 -41 \nQ 819 9 494 109 \nL 494 744 \nQ 775 591 1075 516 \nQ 1375 441 1709 441 \nQ 2250 441 2565 725 \nQ 2881 1009 2881 1497 \nQ 2881 1984 2565 2268 \nQ 2250 2553 1709 2553 \nQ 1456 2553 1204 2497 \nQ 953 2441 691 2322 \nL 691 4666 \nz\n\" transform=\"scale(0.015625)\"/>\n      </defs>\n      <use xlink:href=\"#DejaVuSans-35\"/>\n     </g>\n    </g>\n   </g>\n   <g id=\"text_7\">\n    <g clip-path=\"url(#p361e3c2b62)\">\n     <!-- 6 -->\n     <g transform=\"translate(411.04531 298.529352) scale(0.12 -0.12)\">\n      <defs>\n       <path id=\"DejaVuSans-36\" d=\"M 2113 2584 \nQ 1688 2584 1439 2293 \nQ 1191 2003 1191 1497 \nQ 1191 994 1439 701 \nQ 1688 409 2113 409 \nQ 2538 409 2786 701 \nQ 3034 994 3034 1497 \nQ 3034 2003 2786 2293 \nQ 2538 2584 2113 2584 \nz\nM 3366 4563 \nL 3366 3988 \nQ 3128 4100 2886 4159 \nQ 2644 4219 2406 4219 \nQ 1781 4219 1451 3797 \nQ 1122 3375 1075 2522 \nQ 1259 2794 1537 2939 \nQ 1816 3084 2150 3084 \nQ 2853 3084 3261 2657 \nQ 3669 2231 3669 1497 \nQ 3669 778 3244 343 \nQ 2819 -91 2113 -91 \nQ 1303 -91 875 529 \nQ 447 1150 447 2328 \nQ 447 3434 972 4092 \nQ 1497 4750 2381 4750 \nQ 2619 4750 2861 4703 \nQ 3103 4656 3366 4563 \nz\n\" transform=\"scale(0.015625)\"/>\n      </defs>\n      <use xlink:href=\"#DejaVuSans-36\"/>\n     </g>\n    </g>\n   </g>\n   <g id=\"text_8\">\n    <g clip-path=\"url(#p361e3c2b62)\">\n     <!-- 7 -->\n     <g transform=\"translate(256.31284 355.519978) scale(0.12 -0.12)\">\n      <defs>\n       <path id=\"DejaVuSans-37\" d=\"M 525 4666 \nL 3525 4666 \nL 3525 4397 \nL 1831 0 \nL 1172 0 \nL 2766 4134 \nL 525 4134 \nL 525 4666 \nz\n\" transform=\"scale(0.015625)\"/>\n      </defs>\n      <use xlink:href=\"#DejaVuSans-37\"/>\n     </g>\n    </g>\n   </g>\n   <g id=\"text_9\">\n    <g clip-path=\"url(#p361e3c2b62)\">\n     <!-- 8 -->\n     <g transform=\"translate(333.407211 189.983914) scale(0.12 -0.12)\">\n      <defs>\n       <path id=\"DejaVuSans-38\" d=\"M 2034 2216 \nQ 1584 2216 1326 1975 \nQ 1069 1734 1069 1313 \nQ 1069 891 1326 650 \nQ 1584 409 2034 409 \nQ 2484 409 2743 651 \nQ 3003 894 3003 1313 \nQ 3003 1734 2745 1975 \nQ 2488 2216 2034 2216 \nz\nM 1403 2484 \nQ 997 2584 770 2862 \nQ 544 3141 544 3541 \nQ 544 4100 942 4425 \nQ 1341 4750 2034 4750 \nQ 2731 4750 3128 4425 \nQ 3525 4100 3525 3541 \nQ 3525 3141 3298 2862 \nQ 3072 2584 2669 2484 \nQ 3125 2378 3379 2068 \nQ 3634 1759 3634 1313 \nQ 3634 634 3220 271 \nQ 2806 -91 2034 -91 \nQ 1263 -91 848 271 \nQ 434 634 434 1313 \nQ 434 1759 690 2068 \nQ 947 2378 1403 2484 \nz\nM 1172 3481 \nQ 1172 3119 1398 2916 \nQ 1625 2713 2034 2713 \nQ 2441 2713 2670 2916 \nQ 2900 3119 2900 3481 \nQ 2900 3844 2670 4047 \nQ 2441 4250 2034 4250 \nQ 1625 4250 1398 4047 \nQ 1172 3844 1172 3481 \nz\n\" transform=\"scale(0.015625)\"/>\n      </defs>\n      <use xlink:href=\"#DejaVuSans-38\"/>\n     </g>\n    </g>\n   </g>\n   <g id=\"text_10\">\n    <g clip-path=\"url(#p361e3c2b62)\">\n     <!-- 9 -->\n     <g transform=\"translate(334.871896 153.69661) scale(0.12 -0.12)\">\n      <defs>\n       <path id=\"DejaVuSans-39\" d=\"M 703 97 \nL 703 672 \nQ 941 559 1184 500 \nQ 1428 441 1663 441 \nQ 2288 441 2617 861 \nQ 2947 1281 2994 2138 \nQ 2813 1869 2534 1725 \nQ 2256 1581 1919 1581 \nQ 1219 1581 811 2004 \nQ 403 2428 403 3163 \nQ 403 3881 828 4315 \nQ 1253 4750 1959 4750 \nQ 2769 4750 3195 4129 \nQ 3622 3509 3622 2328 \nQ 3622 1225 3098 567 \nQ 2575 -91 1691 -91 \nQ 1453 -91 1209 -44 \nQ 966 3 703 97 \nz\nM 1959 2075 \nQ 2384 2075 2632 2365 \nQ 2881 2656 2881 3163 \nQ 2881 3666 2632 3958 \nQ 2384 4250 1959 4250 \nQ 1534 4250 1286 3958 \nQ 1038 3666 1038 3163 \nQ 1038 2656 1286 2365 \nQ 1534 2075 1959 2075 \nz\n\" transform=\"scale(0.015625)\"/>\n      </defs>\n      <use xlink:href=\"#DejaVuSans-39\"/>\n     </g>\n    </g>\n   </g>\n   <g id=\"text_11\">\n    <g clip-path=\"url(#p361e3c2b62)\">\n     <!-- 10 -->\n     <g transform=\"translate(330.921232 57.582145) scale(0.12 -0.12)\">\n      <defs>\n       <path id=\"DejaVuSans-30\" d=\"M 2034 4250 \nQ 1547 4250 1301 3770 \nQ 1056 3291 1056 2328 \nQ 1056 1369 1301 889 \nQ 1547 409 2034 409 \nQ 2525 409 2770 889 \nQ 3016 1369 3016 2328 \nQ 3016 3291 2770 3770 \nQ 2525 4250 2034 4250 \nz\nM 2034 4750 \nQ 2819 4750 3233 4129 \nQ 3647 3509 3647 2328 \nQ 3647 1150 3233 529 \nQ 2819 -91 2034 -91 \nQ 1250 -91 836 529 \nQ 422 1150 422 2328 \nQ 422 3509 836 4129 \nQ 1250 4750 2034 4750 \nz\n\" transform=\"scale(0.015625)\"/>\n      </defs>\n      <use xlink:href=\"#DejaVuSans-31\"/>\n      <use xlink:href=\"#DejaVuSans-30\" transform=\"translate(63.623047 0)\"/>\n     </g>\n    </g>\n   </g>\n   <g id=\"text_12\">\n    <g clip-path=\"url(#p361e3c2b62)\">\n     <!-- 11 -->\n     <g transform=\"translate(203.728838 137.976996) scale(0.12 -0.12)\">\n      <use xlink:href=\"#DejaVuSans-31\"/>\n      <use xlink:href=\"#DejaVuSans-31\" transform=\"translate(63.623047 0)\"/>\n     </g>\n    </g>\n   </g>\n   <g id=\"text_13\">\n    <g clip-path=\"url(#p361e3c2b62)\">\n     <!-- 12 -->\n     <g transform=\"translate(226.83719 160.660259) scale(0.12 -0.12)\">\n      <use xlink:href=\"#DejaVuSans-31\"/>\n      <use xlink:href=\"#DejaVuSans-32\" transform=\"translate(63.623047 0)\"/>\n     </g>\n    </g>\n   </g>\n   <g id=\"text_14\">\n    <g clip-path=\"url(#p361e3c2b62)\">\n     <!-- 13 -->\n     <g transform=\"translate(255.985046 164.389538) scale(0.12 -0.12)\">\n      <use xlink:href=\"#DejaVuSans-31\"/>\n      <use xlink:href=\"#DejaVuSans-33\" transform=\"translate(63.623047 0)\"/>\n     </g>\n    </g>\n   </g>\n   <g id=\"text_15\">\n    <g clip-path=\"url(#p361e3c2b62)\">\n     <!-- 14 -->\n     <g transform=\"translate(39.371836 98.933424) scale(0.12 -0.12)\">\n      <use xlink:href=\"#DejaVuSans-31\"/>\n      <use xlink:href=\"#DejaVuSans-34\" transform=\"translate(63.623047 0)\"/>\n     </g>\n    </g>\n   </g>\n  </g>\n  <g id=\"axes_2\">\n   <g id=\"patch_2\">\n    <path d=\"M 481.5 395.28 \nL 500.904 395.28 \nL 500.904 7.2 \nL 481.5 7.2 \nz\n\" style=\"fill: #ffffff\"/>\n   </g>\n   <image xlink:href=\"data:image/png;base64,\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\" id=\"imageba7bef2815\" transform=\"scale(1 -1) translate(0 -388.08)\" x=\"481.44\" y=\"-6.96\" width=\"19.44\" height=\"388.08\"/>\n   <g id=\"matplotlib.axis_1\"/>\n   <g id=\"matplotlib.axis_2\">\n    <g id=\"ytick_1\">\n     <g id=\"line2d_1\">\n      <defs>\n       <path id=\"m05a4033ed4\" d=\"M 0 0 \nL 3.5 0 \n\" style=\"stroke: #000000; stroke-width: 0.8\"/>\n      </defs>\n      <g>\n       <use xlink:href=\"#m05a4033ed4\" x=\"500.904\" y=\"354.173469\" style=\"stroke: #000000; stroke-width: 0.8\"/>\n      </g>\n     </g>\n     <g id=\"text_16\">\n      <!-- 0 -->\n      <g transform=\"translate(507.904 357.972688) scale(0.1 -0.1)\">\n       <use xlink:href=\"#DejaVuSans-30\"/>\n      </g>\n     </g>\n    </g>\n    <g id=\"ytick_2\">\n     <g id=\"line2d_2\">\n      <g>\n       <use xlink:href=\"#m05a4033ed4\" x=\"500.904\" y=\"276.632997\" style=\"stroke: #000000; stroke-width: 0.8\"/>\n      </g>\n     </g>\n     <g id=\"text_17\">\n      <!-- 1 -->\n      <g transform=\"translate(507.904 280.432216) scale(0.1 -0.1)\">\n       <use xlink:href=\"#DejaVuSans-31\"/>\n      </g>\n     </g>\n    </g>\n    <g id=\"ytick_3\">\n     <g id=\"line2d_3\">\n      <g>\n       <use xlink:href=\"#m05a4033ed4\" x=\"500.904\" y=\"199.092525\" style=\"stroke: #000000; stroke-width: 0.8\"/>\n      </g>\n     </g>\n     <g id=\"text_18\">\n      <!-- 2 -->\n      <g transform=\"translate(507.904 202.891744) scale(0.1 -0.1)\">\n       <use xlink:href=\"#DejaVuSans-32\"/>\n      </g>\n     </g>\n    </g>\n    <g id=\"ytick_4\">\n     <g id=\"line2d_4\">\n      <g>\n       <use xlink:href=\"#m05a4033ed4\" x=\"500.904\" y=\"121.552053\" style=\"stroke: #000000; stroke-width: 0.8\"/>\n      </g>\n     </g>\n     <g id=\"text_19\">\n      <!-- 3 -->\n      <g transform=\"translate(507.904 125.351271) scale(0.1 -0.1)\">\n       <use xlink:href=\"#DejaVuSans-33\"/>\n      </g>\n     </g>\n    </g>\n    <g id=\"ytick_5\">\n     <g id=\"line2d_5\">\n      <g>\n       <use xlink:href=\"#m05a4033ed4\" x=\"500.904\" y=\"44.011581\" style=\"stroke: #000000; stroke-width: 0.8\"/>\n      </g>\n     </g>\n     <g id=\"text_20\">\n      <!-- 4 -->\n      <g transform=\"translate(507.904 47.810799) scale(0.1 -0.1)\">\n       <use xlink:href=\"#DejaVuSans-34\"/>\n      </g>\n     </g>\n    </g>\n    <g id=\"text_21\">\n     <!-- Mean pressure residual [m] -->\n     <g transform=\"translate(527.384625 283.515937) rotate(-90) scale(0.12 -0.12)\">\n      <defs>\n       <path id=\"DejaVuSans-4d\" d=\"M 628 4666 \nL 1569 4666 \nL 2759 1491 \nL 3956 4666 \nL 4897 4666 \nL 4897 0 \nL 4281 0 \nL 4281 4097 \nL 3078 897 \nL 2444 897 \nL 1241 4097 \nL 1241 0 \nL 628 0 \nL 628 4666 \nz\n\" transform=\"scale(0.015625)\"/>\n       <path id=\"DejaVuSans-61\" d=\"M 2194 1759 \nQ 1497 1759 1228 1600 \nQ 959 1441 959 1056 \nQ 959 750 1161 570 \nQ 1363 391 1709 391 \nQ 2188 391 2477 730 \nQ 2766 1069 2766 1631 \nL 2766 1759 \nL 2194 1759 \nz\nM 3341 1997 \nL 3341 0 \nL 2766 0 \nL 2766 531 \nQ 2569 213 2275 61 \nQ 1981 -91 1556 -91 \nQ 1019 -91 701 211 \nQ 384 513 384 1019 \nQ 384 1609 779 1909 \nQ 1175 2209 1959 2209 \nL 2766 2209 \nL 2766 2266 \nQ 2766 2663 2505 2880 \nQ 2244 3097 1772 3097 \nQ 1472 3097 1187 3025 \nQ 903 2953 641 2809 \nL 641 3341 \nQ 956 3463 1253 3523 \nQ 1550 3584 1831 3584 \nQ 2591 3584 2966 3190 \nQ 3341 2797 3341 1997 \nz\n\" transform=\"scale(0.015625)\"/>\n       <path id=\"DejaVuSans-6e\" d=\"M 3513 2113 \nL 3513 0 \nL 2938 0 \nL 2938 2094 \nQ 2938 2591 2744 2837 \nQ 2550 3084 2163 3084 \nQ 1697 3084 1428 2787 \nQ 1159 2491 1159 1978 \nL 1159 0 \nL 581 0 \nL 581 3500 \nL 1159 3500 \nL 1159 2956 \nQ 1366 3272 1645 3428 \nQ 1925 3584 2291 3584 \nQ 2894 3584 3203 3211 \nQ 3513 2838 3513 2113 \nz\n\" transform=\"scale(0.015625)\"/>\n       <path id=\"DejaVuSans-20\" transform=\"scale(0.015625)\"/>\n       <path id=\"DejaVuSans-70\" d=\"M 1159 525 \nL 1159 -1331 \nL 581 -1331 \nL 581 3500 \nL 1159 3500 \nL 1159 2969 \nQ 1341 3281 1617 3432 \nQ 1894 3584 2278 3584 \nQ 2916 3584 3314 3078 \nQ 3713 2572 3713 1747 \nQ 3713 922 3314 415 \nQ 2916 -91 2278 -91 \nQ 1894 -91 1617 61 \nQ 1341 213 1159 525 \nz\nM 3116 1747 \nQ 3116 2381 2855 2742 \nQ 2594 3103 2138 3103 \nQ 1681 3103 1420 2742 \nQ 1159 2381 1159 1747 \nQ 1159 1113 1420 752 \nQ 1681 391 2138 391 \nQ 2594 391 2855 752 \nQ 3116 1113 3116 1747 \nz\n\" transform=\"scale(0.015625)\"/>\n       <path id=\"DejaVuSans-75\" d=\"M 544 1381 \nL 544 3500 \nL 1119 3500 \nL 1119 1403 \nQ 1119 906 1312 657 \nQ 1506 409 1894 409 \nQ 2359 409 2629 706 \nQ 2900 1003 2900 1516 \nL 2900 3500 \nL 3475 3500 \nL 3475 0 \nL 2900 0 \nL 2900 538 \nQ 2691 219 2414 64 \nQ 2138 -91 1772 -91 \nQ 1169 -91 856 284 \nQ 544 659 544 1381 \nz\nM 1991 3584 \nL 1991 3584 \nz\n\" transform=\"scale(0.015625)\"/>\n       <path id=\"DejaVuSans-64\" d=\"M 2906 2969 \nL 2906 4863 \nL 3481 4863 \nL 3481 0 \nL 2906 0 \nL 2906 525 \nQ 2725 213 2448 61 \nQ 2172 -91 1784 -91 \nQ 1150 -91 751 415 \nQ 353 922 353 1747 \nQ 353 2572 751 3078 \nQ 1150 3584 1784 3584 \nQ 2172 3584 2448 3432 \nQ 2725 3281 2906 2969 \nz\nM 947 1747 \nQ 947 1113 1208 752 \nQ 1469 391 1925 391 \nQ 2381 391 2643 752 \nQ 2906 1113 2906 1747 \nQ 2906 2381 2643 2742 \nQ 2381 3103 1925 3103 \nQ 1469 3103 1208 2742 \nQ 947 2381 947 1747 \nz\n\" transform=\"scale(0.015625)\"/>\n       <path id=\"DejaVuSans-6c\" d=\"M 603 4863 \nL 1178 4863 \nL 1178 0 \nL 603 0 \nL 603 4863 \nz\n\" transform=\"scale(0.015625)\"/>\n       <path id=\"DejaVuSans-5b\" d=\"M 550 4863 \nL 1875 4863 \nL 1875 4416 \nL 1125 4416 \nL 1125 -397 \nL 1875 -397 \nL 1875 -844 \nL 550 -844 \nL 550 4863 \nz\n\" transform=\"scale(0.015625)\"/>\n       <path id=\"DejaVuSans-6d\" d=\"M 3328 2828 \nQ 3544 3216 3844 3400 \nQ 4144 3584 4550 3584 \nQ 5097 3584 5394 3201 \nQ 5691 2819 5691 2113 \nL 5691 0 \nL 5113 0 \nL 5113 2094 \nQ 5113 2597 4934 2840 \nQ 4756 3084 4391 3084 \nQ 3944 3084 3684 2787 \nQ 3425 2491 3425 1978 \nL 3425 0 \nL 2847 0 \nL 2847 2094 \nQ 2847 2600 2669 2842 \nQ 2491 3084 2119 3084 \nQ 1678 3084 1418 2786 \nQ 1159 2488 1159 1978 \nL 1159 0 \nL 581 0 \nL 581 3500 \nL 1159 3500 \nL 1159 2956 \nQ 1356 3278 1631 3431 \nQ 1906 3584 2284 3584 \nQ 2666 3584 2933 3390 \nQ 3200 3197 3328 2828 \nz\n\" transform=\"scale(0.015625)\"/>\n       <path id=\"DejaVuSans-5d\" d=\"M 1947 4863 \nL 1947 -844 \nL 622 -844 \nL 622 -397 \nL 1369 -397 \nL 1369 4416 \nL 622 4416 \nL 622 4863 \nL 1947 4863 \nz\n\" transform=\"scale(0.015625)\"/>\n      </defs>\n      <use xlink:href=\"#DejaVuSans-4d\"/>\n      <use xlink:href=\"#DejaVuSans-65\" transform=\"translate(86.279297 0)\"/>\n      <use xlink:href=\"#DejaVuSans-61\" transform=\"translate(147.802734 0)\"/>\n      <use xlink:href=\"#DejaVuSans-6e\" transform=\"translate(209.082031 0)\"/>\n      <use xlink:href=\"#DejaVuSans-20\" transform=\"translate(272.460938 0)\"/>\n      <use xlink:href=\"#DejaVuSans-70\" transform=\"translate(304.248047 0)\"/>\n      <use xlink:href=\"#DejaVuSans-72\" transform=\"translate(367.724609 0)\"/>\n      <use xlink:href=\"#DejaVuSans-65\" transform=\"translate(406.587891 0)\"/>\n      <use xlink:href=\"#DejaVuSans-73\" transform=\"translate(468.111328 0)\"/>\n      <use xlink:href=\"#DejaVuSans-73\" transform=\"translate(520.210938 0)\"/>\n      <use xlink:href=\"#DejaVuSans-75\" transform=\"translate(572.310547 0)\"/>\n      <use xlink:href=\"#DejaVuSans-72\" transform=\"translate(635.689453 0)\"/>\n      <use xlink:href=\"#DejaVuSans-65\" transform=\"translate(674.552734 0)\"/>\n      <use xlink:href=\"#DejaVuSans-20\" transform=\"translate(736.076172 0)\"/>\n      <use xlink:href=\"#DejaVuSans-72\" transform=\"translate(767.863281 0)\"/>\n      <use xlink:href=\"#DejaVuSans-65\" transform=\"translate(806.726562 0)\"/>\n      <use xlink:href=\"#DejaVuSans-73\" transform=\"translate(868.25 0)\"/>\n      <use xlink:href=\"#DejaVuSans-69\" transform=\"translate(920.349609 0)\"/>\n      <use xlink:href=\"#DejaVuSans-64\" transform=\"translate(948.132812 0)\"/>\n      <use xlink:href=\"#DejaVuSans-75\" transform=\"translate(1011.609375 0)\"/>\n      <use xlink:href=\"#DejaVuSans-61\" transform=\"translate(1074.988281 0)\"/>\n      <use xlink:href=\"#DejaVuSans-6c\" transform=\"translate(1136.267578 0)\"/>\n      <use xlink:href=\"#DejaVuSans-20\" transform=\"translate(1164.050781 0)\"/>\n      <use xlink:href=\"#DejaVuSans-5b\" transform=\"translate(1195.837891 0)\"/>\n      <use xlink:href=\"#DejaVuSans-6d\" transform=\"translate(1234.851562 0)\"/>\n      <use xlink:href=\"#DejaVuSans-5d\" transform=\"translate(1332.263672 0)\"/>\n     </g>\n    </g>\n   </g>\n   <g id=\"LineCollection_2\"/>\n   <g id=\"patch_3\">\n    <path d=\"M 481.5 395.28 \nL 491.202 395.28 \nL 500.904 395.28 \nL 500.904 7.2 \nL 491.202 7.2 \nL 481.5 7.2 \nL 481.5 395.28 \nz\n\" style=\"fill: none; stroke: #000000; stroke-width: 0.8; stroke-linejoin: miter; stroke-linecap: square\"/>\n   </g>\n  </g>\n </g>\n <defs>\n  <clipPath id=\"p361e3c2b62\">\n   <rect x=\"7.2\" y=\"7.2\" width=\"446.4\" height=\"388.08\"/>\n  </clipPath>\n </defs>\n</svg>\n"
          },
          "metadata": {}
        }
      ],
      "source": [
        "# compute pressure residuals\n",
        "residuals_0 = h_0[sensor_idx,:] - h_data\n",
        "meanresiduals_0=np.mean(residuals_0,axis=1)\n",
        "plot_network(wdn,sensor_idx,vals=meanresiduals_0)"
      ]
    },
    {
      "cell_type": "markdown",
      "source": [
        "use gpt to creat box"
      ],
      "metadata": {
        "id": "gULQohqXWtZ-"
      },
      "id": "gULQohqXWtZ-"
    },
    {
      "cell_type": "code",
      "source": [
        "plt."
      ],
      "metadata": {
        "id": "v-S2rQZJXTz9"
      },
      "id": "v-S2rQZJXTz9",
      "execution_count": null,
      "outputs": []
    },
    {
      "cell_type": "markdown",
      "id": "b8380051",
      "metadata": {
        "id": "b8380051"
      },
      "source": [
        "**<u>Question 1:</u>** Is the current hydraulic model of EXNING accurate according to hydraulic model calibration guidelines? Comment on the results of the preliminary model evaluation and, in particular, on\n",
        "* the **sign** (i.e. are heads over or underestimated in the hydraulic simulation?) of pressure/head residuals,\n",
        "* the **temporal** distribution (i.e. are the residuals time/flow dependent?) of pressure/head residuals,\n",
        "* and the **spatial** distribution (i.e. are all sensors affected?) of the pressure/head residuals.\n",
        "\n",
        "Given the information you were provided about the EXNING system and the results of the preliminary model evaluation, identify the most likely sources of model errors."
      ]
    },
    {
      "cell_type": "markdown",
      "id": "28ee1f6b",
      "metadata": {
        "id": "28ee1f6b"
      },
      "source": [
        "<font color=\"red\">Enter response here..."
      ]
    },
    {
      "cell_type": "markdown",
      "id": "76b6d8f8",
      "metadata": {
        "id": "76b6d8f8"
      },
      "source": [
        "### Part 1: Hydraulic model calibration (without regularisation)"
      ]
    },
    {
      "cell_type": "markdown",
      "id": "4133aa18",
      "metadata": {
        "id": "4133aa18"
      },
      "source": [
        "Following initial reports concerning discrepancies in the recently calibrated EXNING model, AW were able to confirm that:\n",
        "- flow and head sensors had been calibrated before collection of load/field data corresponding to the train and test datasets,\n",
        "- demands in the train and test dataset are accurate (incl. for large users).\n",
        "\n",
        "As a result, the remaining deviations between measured and simulated pressures must result from inaccurate model parameters. Errors associated with unknown valve status (for instance, unregistered closed valves) can be identified by solving a model calibration problem where pipe roughness coefficients are known, but valve minor/local loss coefficients are free to vary. In part 1, you will solve a hydraulic model calibration problem without regularisation. Complete the code below to calibrate the network model using the head measurements provided in data."
      ]
    },
    {
      "cell_type": "markdown",
      "id": "a7fa0ee6",
      "metadata": {
        "id": "a7fa0ee6"
      },
      "source": [
        "#### Split the data into *train* and *test* datasets.\n",
        "We suggest using the first day worth of data as a <u>train dataset</u> and the remaining 3 days as a <u>test dataset</u>."
      ]
    },
    {
      "cell_type": "code",
      "execution_count": 20,
      "id": "a1dfbaa9",
      "metadata": {
        "vscode": {
          "languageId": "plaintext"
        },
        "id": "a1dfbaa9"
      },
      "outputs": [],
      "source": [
        "# tain data\n",
        "nt_train = 24\n",
        "data_train = {\n",
        "    'd': d_data[:, :nt_train],\n",
        "    'h0': h0_data[:, :nt_train],\n",
        "    'h_data': h_data[:, :nt_train]\n",
        "}\n",
        "\n",
        "# test data\n",
        "data_test = {\n",
        "    'd': d_data[:, nt_train:],\n",
        "    'h0': h0_data[:, nt_train:],\n",
        "    'h_data': h_data[:, nt_train:]\n",
        "}"
      ]
    },
    {
      "cell_type": "markdown",
      "id": "01064549",
      "metadata": {
        "id": "01064549"
      },
      "source": [
        "**<u>Question 2:</u>** Briefly comment on the definition of the train data set. What impact will it have on the generalizability of your model? (i.e., what range of conditions will you confidently be able to use your model for?)"
      ]
    },
    {
      "cell_type": "markdown",
      "id": "e3500f75",
      "metadata": {
        "id": "e3500f75"
      },
      "source": [
        "#### Definition of the loss function."
      ]
    },
    {
      "cell_type": "code",
      "execution_count": 21,
      "id": "c5aa2181",
      "metadata": {
        "vscode": {
          "languageId": "plaintext"
        },
        "id": "c5aa2181"
      },
      "outputs": [],
      "source": [
        "def loss_fun(h, h_data):\n",
        "    return ( 1/len(h_data.flatten()) ) * cp.sum( ( h[sensor_idx, :] - h_data )**2 )"
      ]
    },
    {
      "cell_type": "markdown",
      "id": "b77879b3",
      "metadata": {
        "id": "b77879b3"
      },
      "source": [
        "**<u>Question 3:</u>** Justify the choice/definition of the loss function, loss_fun."
      ]
    },
    {
      "cell_type": "markdown",
      "id": "31616869",
      "metadata": {
        "id": "31616869"
      },
      "source": [
        "#### Solve the parameter estimation problem using the train dataset\n",
        "We first solve the hydraulic model calibration problem without regularisation. (You can reuse and adapt the code provided in Week 6.)"
      ]
    },
    {
      "cell_type": "markdown",
      "id": "04fadcf0",
      "metadata": {
        "id": "04fadcf0"
      },
      "source": [
        "The following function is needed for the sequential convex programming (SCP) method used in this coursework. As with the `hydraulic_solver` function, we provide the following code in `linear_approx_calibration` for you to use throughout this notebook."
      ]
    },
    {
      "cell_type": "code",
      "execution_count": 22,
      "id": "14ac1998",
      "metadata": {
        "vscode": {
          "languageId": "plaintext"
        },
        "id": "14ac1998"
      },
      "outputs": [],
      "source": [
        "#### DO NOT CHANGE THIS ####\n",
        "# compute matrices for the head loss linear approximation of the HW headloss\n",
        "def linear_approx_calibration(wdn, q, C):\n",
        "    # unload data\n",
        "    A12 = wdn.A12\n",
        "    A10 = wdn.A10\n",
        "    net_info = wdn.net_info\n",
        "    link_df = wdn.link_df\n",
        "\n",
        "    K = np.zeros((net_info['np'], 1))\n",
        "    n_exp = link_df['n_exp'].astype(float).to_numpy().reshape(-1, 1)\n",
        "    b1_k = copy.copy(K)\n",
        "    b2_k = copy.copy(K)\n",
        "\n",
        "    for idx, row in link_df.iterrows():\n",
        "        if row['link_type'] == 'pipe':\n",
        "            K[idx] = 10.67 * row['length'] * (C[idx] ** -row['n_exp']) * (row['diameter'] ** -4.8704)\n",
        "            b1_k[idx] = copy.copy(K[idx])\n",
        "            b2_k[idx] = (-n_exp[idx] * K[idx]) / C[idx]\n",
        "\n",
        "        elif row['link_type'] == 'valve':\n",
        "            K[idx] = (8 / (np.pi ** 2 * 9.81)) * (row['diameter'] ** -4) * C[idx]\n",
        "            b1_k[idx] = -n_exp[idx] * copy.copy(K[idx])\n",
        "            b2_k[idx] = copy.copy(K[idx]) / C[idx]\n",
        "\n",
        "    a11_k = np.tile(K, q.shape[1]) * np.abs(q) ** (n_exp - 1)\n",
        "    b1_k = np.tile(b1_k, q.shape[1]) * np.abs(q) ** (n_exp - 1)\n",
        "    b2_k = np.tile(b2_k, q.shape[1]) * np.abs(q) ** (n_exp - 1) * q\n",
        "\n",
        "    return a11_k, b1_k, b2_k"
      ]
    },
    {
      "cell_type": "code",
      "source": [],
      "metadata": {
        "id": "oA9tnvpnhnfs"
      },
      "id": "oA9tnvpnhnfs",
      "execution_count": null,
      "outputs": []
    },
    {
      "cell_type": "markdown",
      "id": "8144f58b",
      "metadata": {
        "id": "8144f58b"
      },
      "source": [
        "SCP implementation"
      ]
    },
    {
      "cell_type": "code",
      "execution_count": null,
      "id": "85946252",
      "metadata": {
        "vscode": {
          "languageId": "plaintext"
        },
        "id": "85946252"
      },
      "outputs": [],
      "source": [
        "# unload network training data\n",
        "n_exp = link_df['n_exp']\n",
        "d = data_train['d']\n",
        "h_data = data_train['h_data']\n",
        "h0 = data_train['h0'].reshape(-1, 1).T\n",
        "\n",
        "# define SCP problem parameters\n",
        "Ki = np.inf\n",
        "iter_max = 50\n",
        "delta_k = 20\n",
        "C_up_pipe = 200\n",
        "C_lo_pipe = 1e-4\n",
        "\n",
        "# initialise values\n",
        "theta_k = ...\n",
        "q_k, h_k = hydraulic_solver(...)\n",
        "a11_k, b1_k, b2_k = linear_approx_calibration(...)\n",
        "objval_k = loss_fun(...)\n",
        "\n",
        "### main scp code ###\n",
        "for k in range(iter_max):\n",
        "\n",
        "    # insert code here...."
      ]
    },
    {
      "cell_type": "markdown",
      "id": "01a05574",
      "metadata": {
        "id": "01a05574"
      },
      "source": [
        "**<u>Question 4:</u>** Describe the nature/role of the different outputs of the SCP algorithm printed above (objvalk, Ki, Deltak) and explain their trends."
      ]
    },
    {
      "cell_type": "markdown",
      "id": "95397f48",
      "metadata": {
        "id": "95397f48"
      },
      "source": [
        "Store the solution (i.e. new coefficients `theta_k`) as $C_1$."
      ]
    },
    {
      "cell_type": "code",
      "execution_count": null,
      "id": "affe1646",
      "metadata": {
        "vscode": {
          "languageId": "plaintext"
        },
        "id": "affe1646"
      },
      "outputs": [],
      "source": [
        "C_1 = ..."
      ]
    },
    {
      "cell_type": "markdown",
      "id": "37506999",
      "metadata": {
        "id": "37506999"
      },
      "source": [
        "Evaluate final model error and visualise head residuals corresponding to *test* dataset."
      ]
    },
    {
      "cell_type": "code",
      "execution_count": null,
      "id": "c12075e7",
      "metadata": {
        "vscode": {
          "languageId": "plaintext"
        },
        "id": "c12075e7"
      },
      "outputs": [],
      "source": [
        "..."
      ]
    },
    {
      "cell_type": "markdown",
      "id": "3d485f7b",
      "metadata": {
        "id": "3d485f7b"
      },
      "source": [
        "**<u>Question 5:</u>** Comment on the improvement in model accuracy (before vs. after calibration)."
      ]
    },
    {
      "cell_type": "markdown",
      "id": "5bfb232f",
      "metadata": {
        "id": "5bfb232f"
      },
      "source": [
        "#### Discuss the values of the calibrated coefficients $C_1$\n",
        "Visualise the values of newly calibrated coefficients $C_1$ compared to original model coefficients C."
      ]
    },
    {
      "cell_type": "code",
      "execution_count": null,
      "id": "5ff13ebf",
      "metadata": {
        "vscode": {
          "languageId": "plaintext"
        },
        "id": "5ff13ebf"
      },
      "outputs": [],
      "source": [
        "..."
      ]
    },
    {
      "cell_type": "markdown",
      "id": "0e446f19",
      "metadata": {
        "vscode": {
          "languageId": "plaintext"
        },
        "id": "0e446f19"
      },
      "source": [
        "**<u>Question 6:</u>** Comment on the values of parameter estimates in and explain the results of the calibration without regularisation."
      ]
    },
    {
      "cell_type": "markdown",
      "id": "54ff6d0d",
      "metadata": {
        "id": "54ff6d0d"
      },
      "source": [
        "### Part 2: Hydraulic model calibration (with regularisation)"
      ]
    },
    {
      "cell_type": "markdown",
      "id": "32695bb0",
      "metadata": {
        "id": "32695bb0"
      },
      "source": [
        "In order to reduce the underdeterminedness of the hydraulic model calibration problem (and improve the accuracy of the calibrated model), regularisation can be applied to incorporate prior knowledge about the expected variance or sparsity pattern of parameters $\\theta$. Use the code provided in Weeks 5 and 6, and modify as necessary below to calibrate the hydraulic model with regularisation, using the same train data as before."
      ]
    },
    {
      "cell_type": "markdown",
      "id": "4caf7e9a",
      "metadata": {
        "id": "4caf7e9a"
      },
      "source": [
        "#### Definition of the regularisation function\n",
        "Ridge regression (l2-regularisation) shrinks parameter estimates (without actually driving them to 0) in the hopes of reducing variance and improving prediction accuracy while lasso regression (-regularisation) encourages sparsity, driving many parameter estimates exactly to zero."
      ]
    },
    {
      "cell_type": "markdown",
      "id": "e0a34bda",
      "metadata": {
        "id": "e0a34bda"
      },
      "source": [
        "**<u>Question 7:</u>** Based on your answer to Question 6, comment on the expected variance or sparsity pattern of $\\theta$. What type of regularisation (ridge or lasso) term should be included in the objective function of the model calibration problem?"
      ]
    },
    {
      "cell_type": "markdown",
      "id": "6bfec1a1",
      "metadata": {
        "id": "6bfec1a1"
      },
      "source": [
        "The loss function is defined as:"
      ]
    },
    {
      "cell_type": "code",
      "execution_count": null,
      "id": "a91de47e",
      "metadata": {
        "vscode": {
          "languageId": "plaintext"
        },
        "id": "a91de47e"
      },
      "outputs": [],
      "source": [
        "def reg_fun(...):\n",
        "    return ..."
      ]
    },
    {
      "cell_type": "markdown",
      "id": "29de38dd",
      "metadata": {
        "id": "29de38dd"
      },
      "source": [
        "#### Solve the parameter estimation problem using the train dataset\n",
        "Solve the hydraulic model calibration problem with regularisation."
      ]
    },
    {
      "cell_type": "code",
      "execution_count": null,
      "id": "608d9096",
      "metadata": {
        "vscode": {
          "languageId": "plaintext"
        },
        "id": "608d9096"
      },
      "outputs": [],
      "source": [
        "# unload network training data\n",
        "n_exp = link_df['n_exp']\n",
        "d = data_train['d']\n",
        "h_data = data_train['h_data']\n",
        "h0 = data_train['h0'].reshape(-1, 1).T\n",
        "\n",
        "# define SCP problem parameters\n",
        "Ki = np.inf\n",
        "iter_max = 50\n",
        "delta_k = 20\n",
        "C_up_pipe = 200\n",
        "C_lo_pipe = 1e-4\n",
        "\n",
        "# initialise values\n",
        "theta_k = ...\n",
        "q_k, h_k = hydraulic_solver(...)\n",
        "a11_k, b1_k, b2_k = linear_approx_calibration(...)\n",
        "objval_k = loss_fun(...)\n",
        "\n",
        "### main scp code ###\n",
        "for k in range(iter_max):\n",
        "\n",
        "    # insert code here...."
      ]
    },
    {
      "cell_type": "markdown",
      "id": "75779575",
      "metadata": {
        "id": "75779575"
      },
      "source": [
        "Store the solution (i.e. new coefficients `theta_k`) as $C_2$."
      ]
    },
    {
      "cell_type": "code",
      "execution_count": null,
      "id": "307f59ab",
      "metadata": {
        "vscode": {
          "languageId": "plaintext"
        },
        "id": "307f59ab"
      },
      "outputs": [],
      "source": [
        "C_2 = ..."
      ]
    },
    {
      "cell_type": "markdown",
      "id": "7efc0dd8",
      "metadata": {
        "id": "7efc0dd8"
      },
      "source": [
        "Evaluate final model error and visualise head residuals corresponding to *test* dataset."
      ]
    },
    {
      "cell_type": "markdown",
      "id": "f93f12ba",
      "metadata": {
        "id": "f93f12ba"
      },
      "source": [
        "..."
      ]
    },
    {
      "cell_type": "markdown",
      "id": "19479f6e",
      "metadata": {
        "id": "19479f6e"
      },
      "source": [
        "**<u>Question 8:</u>** Comment on the improvement in model accuracy after calibration with regularisation."
      ]
    },
    {
      "cell_type": "markdown",
      "id": "60e1ab70",
      "metadata": {
        "id": "60e1ab70"
      },
      "source": [
        "#### Discuss the values of the calibrated coefficients $C_2$\n",
        "Visualise the values of newly calibrated coefficients $C_2$."
      ]
    },
    {
      "cell_type": "code",
      "execution_count": null,
      "id": "1887a110",
      "metadata": {
        "vscode": {
          "languageId": "plaintext"
        },
        "id": "1887a110"
      },
      "outputs": [],
      "source": [
        "..."
      ]
    },
    {
      "cell_type": "markdown",
      "id": "e31cc828",
      "metadata": {
        "id": "e31cc828"
      },
      "source": [
        "**<u>Question 9:</u>** Comment on the values of parameter estimates in $C_2$ compared to $C_1$ and explain the results of the calibration with regularisation."
      ]
    },
    {
      "cell_type": "markdown",
      "id": "d827c982",
      "metadata": {
        "id": "d827c982"
      },
      "source": [
        "**<u>Question 10:</u>** Do the calibrated local loss coefficient values in $C_2$ corroborate the conclusions of the preliminary analysis about the most likely sources of error in the EXNING model (existence/location of unknowingly closed valves)? Summarise your findings (100-150 words + 1-2 figures) and provide recommendations to AW to validate your proposed hydraulic model update.\n"
      ]
    }
  ],
  "metadata": {
    "colab": {
      "provenance": [],
      "include_colab_link": true
    },
    "kernelspec": {
      "display_name": "Python 3 (ipykernel)",
      "language": "python",
      "name": "python3"
    },
    "language_info": {
      "codemirror_mode": {
        "name": "ipython",
        "version": 3
      },
      "file_extension": ".py",
      "mimetype": "text/x-python",
      "name": "python",
      "nbconvert_exporter": "python",
      "pygments_lexer": "ipython3",
      "version": "3.10.11"
    }
  },
  "nbformat": 4,
  "nbformat_minor": 5
}